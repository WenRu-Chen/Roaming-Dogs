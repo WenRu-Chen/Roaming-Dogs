{
 "cells": [
  {
   "cell_type": "markdown",
   "metadata": {},
   "source": [
    "參考網址[[link]](https://medium.com/%E8%8A%B1%E5%93%A5%E7%9A%84%E5%A5%87%E5%B9%BB%E6%97%85%E7%A8%8B/geocoding-%E6%89%B9%E9%87%8F%E8%99%95%E7%90%86%E5%9C%B0%E5%9D%80%E8%BD%89%E6%8F%9B%E7%B6%93%E7%B7%AF%E5%BA%A6-721ab2564c88)"
   ]
  },
  {
   "cell_type": "markdown",
   "metadata": {},
   "source": [
    "# Define a Function"
   ]
  },
  {
   "cell_type": "code",
   "execution_count": 2,
   "metadata": {},
   "outputs": [],
   "source": [
    "import requests\n",
    "import time\n",
    "from selenium import webdriver\n",
    "from selenium.webdriver.support.ui import Select\n",
    "from bs4 import BeautifulSoup\n",
    "from selenium.webdriver.support.ui import WebDriverWait \n",
    "from selenium.webdriver.support import expected_conditions as EC\n",
    "from selenium.webdriver.common.by import By\n",
    "from msedge.selenium_tools import EdgeOptions\n",
    "from msedge.selenium_tools import Edge\n",
    "import random\n",
    "\n",
    "# for Chrome (無介面執行)\n",
    "options = webdriver.ChromeOptions()\n",
    "options.add_argument(\"headless\")\n",
    "\n",
    "# for Edge (無介面執行) (https://www.cnblogs.com/lixuelong/p/14451608.html)\n",
    "edge_options = EdgeOptions()\n",
    "edge_options.use_chromium = True\n",
    "# # 设置无界面模式，也可以添加其它设置\n",
    "edge_options.add_argument('headless')\n"
   ]
  },
  {
   "cell_type": "code",
   "execution_count": 3,
   "metadata": {},
   "outputs": [],
   "source": [
    "# addr 地址\n",
    "# chromedriver.exe or msedgedriver.exe 的路徑\n",
    "\n",
    "# for Chrome\n",
    "# path = 'C:\\Program Files (x86)\\Python-3.6.11\\Python-3.6.11\\chromedriver.exe'\n",
    "\n",
    "# for Edge\n",
    "path = 'C:\\Program Files (x86)\\Python-3.6.11\\Python-3.6.11\\msedgedriver.exe'"
   ]
  },
  {
   "cell_type": "code",
   "execution_count": 4,
   "metadata": {},
   "outputs": [],
   "source": [
    "def get_coordinate(addr):\n",
    "    # for Chrome \n",
    "\n",
    "    # browser = webdriver.Chrome(executable_path = path,options=options) \n",
    "        \n",
    "    # for Edge (https://www.cnblogs.com/lixuelong/p/14451608.html)     \n",
    "    # browser = webdriver.Edge(executable_path = path, options=edge_options )  # \n",
    "    browser = Edge(executable_path = path, options=edge_options)\n",
    "    browser.get(\"http://www.map.com.tw/\") \n",
    "    wait = WebDriverWait(browser, 30)\n",
    "    time.sleep(random.randint(0,2))  \n",
    "      \n",
    "    #找到輸入地址的地方並且清空    \n",
    "    wait.until(EC.presence_of_element_located((By.XPATH,\"//*[@id='searchWord']\")))\n",
    "    # time.sleep(random.randint(1,2)) \n",
    "    search = browser.find_element_by_xpath(\"//*[@id='searchWord']\")\n",
    "    search.clear()\n",
    "\n",
    "    # 輸入地址 \n",
    "    time.sleep(random.randint(1,2))\n",
    "    search.send_keys(addr)\n",
    "    \n",
    "    # 按下搜尋！\n",
    "    wait.until(EC.element_to_be_clickable((By.XPATH, \"//body/form[@id='form1']/div[@id='Menu']/div[2]/img[2]\"))).click()\n",
    "    \n",
    "    # browser.find_element_by_xpath(\"//body/form[@id='form1']/div[@id='Menu']/div[2]/img[2]\").click()   \n",
    "        \n",
    "    # 轉到跳出來的框框(用 xpath 比較好喔！)\n",
    "    time.sleep(random.randint(2,3))\n",
    "    wait.until(EC.presence_of_element_located((By.XPATH, \"//*[@id='customMarkinfowindow']/div/iframe\")))\n",
    "    iframe = browser.find_element_by_xpath(\"//*[@id='customMarkinfowindow']/div/iframe\")\n",
    "    wait.until(EC.frame_to_be_available_and_switch_to_it(iframe)) #這個會自動轉\n",
    "    # browser.switch_to.frame(iframe)\n",
    "    \n",
    "    # 取得完整地址\n",
    "    time.sleep(random.randint(1,2))\n",
    "    full_addr = wait.until(EC.presence_of_element_located((By.XPATH, \"//*[@id='defaultInfo']/table/tbody/tr[1]/td/table/tbody/tr[4]/td\"))).text\n",
    "    # full_addr = browser.find_element_by_xpath(\"//*[@id='defaultInfo']/table/tbody/t[1]/td/table/tbody/tr[4]/td\")\n",
    "    # print(full_addr)\n",
    "\n",
    "    # 按下'座標'這個按鈕\n",
    "    time.sleep(random.randint(1,2))\n",
    "    wait.until(EC.element_to_be_clickable((By.XPATH, \"//*[@id='defaultInfo']/table/tbody/tr[3]/td/table/tbody/tr/td[2]\"))).click()\n",
    "    # browser.find_element_by_xpath(\"//*[@id='defaultInfo']/table/tbody/tr[3]/td/table/tbody/tr/td[2]\").click()\n",
    "    \n",
    "    # 擷取經緯度\n",
    "    coor = browser.find_element_by_xpath(\"//*[@id='location']/table/tbody/tr[2]/td\")\n",
    "    coor = coor.text.strip().split(\" \")\n",
    "    lat = coor[-1].split(\"：\")[-1]\n",
    "    log = coor[0].split(\"：\")[-1]\n",
    "    browser.quit()    \n",
    "    return [full_addr, lat, log]"
   ]
  },
  {
   "cell_type": "markdown",
   "metadata": {},
   "source": [
    "# 讀入表格"
   ]
  },
  {
   "cell_type": "code",
   "execution_count": 5,
   "metadata": {},
   "outputs": [],
   "source": [
    "import pandas as pd\n",
    "import numpy as np\n",
    "from collections import Counter"
   ]
  },
  {
   "cell_type": "markdown",
   "metadata": {},
   "source": [
    "讀資料"
   ]
  },
  {
   "cell_type": "code",
   "execution_count": 7,
   "metadata": {},
   "outputs": [
    {
     "name": "stdout",
     "output_type": "stream",
     "text": [
      "(11842, 8)\n"
     ]
    }
   ],
   "source": [
    "\n",
    "path_market = '..\\..\\Roaming-Dogs_data\\Location_data\\Temple\\宗教團體查詢結果.csv'\n",
    "dt = pd.read_csv(path_market)\n",
    "# Counter(dt['縣市']).most_common()\n",
    "print(dt.shape)\n",
    "\n"
   ]
  },
  {
   "cell_type": "code",
   "execution_count": 13,
   "metadata": {},
   "outputs": [],
   "source": []
  },
  {
   "cell_type": "markdown",
   "metadata": {},
   "source": [
    "轉經緯度(拜託讓我轉！)"
   ]
  },
  {
   "cell_type": "code",
   "execution_count": 7,
   "metadata": {},
   "outputs": [
    {
     "name": "stdout",
     "output_type": "stream",
     "text": [
      "1421\n",
      "0\n",
      "-----------\n"
     ]
    },
    {
     "name": "stderr",
     "output_type": "stream",
     "text": [
      "C:\\Users\\CHENWE~1\\AppData\\Local\\Temp/ipykernel_4368/274035846.py:8: DeprecationWarning: Selenium Tools for Microsoft Edge is deprecated. Please upgrade to Selenium 4 which has built-in support for Microsoft Edge (Chromium): https://docs.microsoft.com/en-us/microsoft-edge/webdriver-chromium/#upgrading-from-selenium-3\n",
      "  browser = Edge(executable_path = path, options=edge_options)\n"
     ]
    },
    {
     "name": "stdout",
     "output_type": "stream",
     "text": [
      "1\n",
      "-----------\n",
      "2\n",
      "-----------\n",
      "3\n",
      "-----------\n",
      "4\n",
      "-----------\n",
      "5\n",
      "-----------\n",
      "6\n",
      "-----------\n",
      "7\n",
      "-----------\n",
      "8\n",
      "-----------\n",
      "9\n",
      "-----------\n",
      "10\n",
      "-----------\n",
      "11\n",
      "-----------\n",
      "12\n",
      "-----------\n",
      "13\n",
      "-----------\n",
      "14\n",
      "-----------\n",
      "15\n",
      "-----------\n",
      "16\n",
      "-----------\n"
     ]
    }
   ],
   "source": [
    "lon_lat = []\n",
    "print(dt.shape[0])\n",
    "\n",
    "for i in range(dt.shape[0]):\n",
    "\n",
    "    print(i)    \n",
    "    print('-----------')        \n",
    "    address = dt['地址.1'][i]\n",
    "    x = get_coordinate(address)\n",
    "    lon_lat.append(x) \n",
    "    time.sleep(random.randint(10,15))"
   ]
  },
  {
   "cell_type": "code",
   "execution_count": null,
   "metadata": {},
   "outputs": [],
   "source": [
    "lon_lat_df = pd.DataFrame(lon_lat)\n",
    "lon_lat_df.columns = ['完整地址', '經度', '緯度']\n",
    "print(lon_lat_df.shape)"
   ]
  },
  {
   "cell_type": "code",
   "execution_count": null,
   "metadata": {},
   "outputs": [],
   "source": [
    "# encoding 記得轉，不然是亂碼！\n",
    "lon_lat_df.to_csv(f'..\\..\\Roaming-Dogs_data\\Location_data\\Temple\\寺廟_{c}_經緯度_01.csv', encoding='big5', index = None)"
   ]
  }
 ],
 "metadata": {
  "interpreter": {
   "hash": "5c1f92212ab31ba0e82aa63c923810efcac412c36286e8f762ba05b30cbe558f"
  },
  "kernelspec": {
   "display_name": "Python 3.9.6 64-bit",
   "language": "python",
   "name": "python3"
  },
  "language_info": {
   "codemirror_mode": {
    "name": "ipython",
    "version": 3
   },
   "file_extension": ".py",
   "mimetype": "text/x-python",
   "name": "python",
   "nbconvert_exporter": "python",
   "pygments_lexer": "ipython3",
   "version": "3.9.6"
  },
  "orig_nbformat": 4
 },
 "nbformat": 4,
 "nbformat_minor": 2
}
