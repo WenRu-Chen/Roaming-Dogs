{
 "cells": [
  {
   "cell_type": "markdown",
   "metadata": {},
   "source": [
    "參考網址[[link]](https://medium.com/%E8%8A%B1%E5%93%A5%E7%9A%84%E5%A5%87%E5%B9%BB%E6%97%85%E7%A8%8B/geocoding-%E6%89%B9%E9%87%8F%E8%99%95%E7%90%86%E5%9C%B0%E5%9D%80%E8%BD%89%E6%8F%9B%E7%B6%93%E7%B7%AF%E5%BA%A6-721ab2564c88)"
   ]
  },
  {
   "cell_type": "markdown",
   "metadata": {},
   "source": [
    "# Define a Function"
   ]
  },
  {
   "cell_type": "code",
   "execution_count": 16,
   "metadata": {},
   "outputs": [],
   "source": [
    "import requests\n",
    "import time\n",
    "from selenium import webdriver\n",
    "from selenium.webdriver.support.ui import Select\n",
    "from bs4 import BeautifulSoup\n",
    "from selenium.webdriver.support.ui import WebDriverWait \n",
    "from selenium.webdriver.support import expected_conditions as EC\n",
    "from selenium.webdriver.common.by import By\n",
    "from selenium.common.exceptions import NoSuchElementException\n",
    "# from msedge.selenium_tools import EdgeOptions\n",
    "# from msedge.selenium_tools import Edge\n",
    "import random\n",
    "\n",
    "# for Chrome (無介面執行)\n",
    "options = webdriver.ChromeOptions()\n",
    "options.add_argument(\"headless\")\n",
    "\n",
    "# # for Edge (無介面執行) (https://www.cnblogs.com/lixuelong/p/14451608.html)\n",
    "# edge_options = EdgeOptions()\n",
    "# edge_options.use_chromium = True\n",
    "# # # 设置无界面模式，也可以添加其它设置\n",
    "# edge_options.add_argument('headless')\n"
   ]
  },
  {
   "cell_type": "code",
   "execution_count": null,
   "metadata": {},
   "outputs": [],
   "source": [
    "# 切資料(12份)\n",
    "\n",
    "\n",
    "for i in range(12):\n",
    "    dt_sub = dt.iloc[i:(i+1)*1000]\n",
    "    dt_sub.to_csv(f'..\\..\\Roaming-Dogs_data\\Location_data\\Temple\\宗教團體查詢結果_{i}.csv')\n"
   ]
  },
  {
   "cell_type": "code",
   "execution_count": 17,
   "metadata": {},
   "outputs": [],
   "source": [
    "# addr 地址\n",
    "# chromedriver.exe or msedgedriver.exe 的路徑\n",
    "\n",
    "# for Chrome\n",
    "path = 'C:\\Program Files (x86)\\Python-3.6.11\\Python-3.6.11\\chromedriver.exe'\n",
    "\n",
    "# # for Edge\n",
    "# path = 'C:\\Program Files (x86)\\Python-3.6.11\\Python-3.6.11\\msedgedriver.exe'"
   ]
  },
  {
   "cell_type": "code",
   "execution_count": 41,
   "metadata": {},
   "outputs": [],
   "source": [
    "def get_coordinate(addr):\n",
    "    \n",
    "    # for Chrome \n",
    "    browser = webdriver.Chrome(executable_path = path ,options=options) #\n",
    "        \n",
    "    # # for Edge (https://www.cnblogs.com/lixuelong/p/14451608.html)     \n",
    "    # browser = Edge(executable_path = path, options=edge_options) #\n",
    "    \n",
    "    browser.get(\"https://map.tgos.tw/TGOSCLOUD/Web/Map/TGOSViewer_Map.aspx\") \n",
    "    \n",
    "    wait = WebDriverWait(browser, 30)\n",
    "    time.sleep(random.randint(0,2))  \n",
    "    \n",
    "    # 找到'定位'然後點下去\n",
    "    wait.until(EC.presence_of_element_located((By.XPATH,\"//*[@id='MenuTAB_content3']/div[9]\"))).click()    \n",
    "    \n",
    "    \n",
    "    #找到輸入地址的地方並且清空    \n",
    "    wait.until(EC.presence_of_element_located((By.XPATH,\"//*[@id='LocateBox_FunctionWork_Addr_Condition']\")))\n",
    "    search = browser.find_element_by_xpath(\"//*[@id='LocateBox_FunctionWork_Addr_Condition']\")\n",
    "    time.sleep(random.randint(1,2)) \n",
    "    search.clear()\n",
    "\n",
    "    # 輸入地址 \n",
    "    time.sleep(random.randint(1,2))\n",
    "    search.send_keys(addr)\n",
    "    \n",
    "    # 按下'定位'！\n",
    "    wait.until(EC.element_to_be_clickable((By.XPATH, \"//*[@id='LocateBox_FunctionWork_Addr_Query']\"))).click() \n",
    "     \n",
    "    # 選第一個地址\n",
    "    # iframe = browser.find_element_by_xpath(\"//*[@id='LocateBox_FunctionWork_Addr_Reslut']/div\")\n",
    "    # wait.until(EC.frame_to_be_available_and_switch_to_it(iframe))\n",
    "    wait.until(EC.presence_of_element_located((By.XPATH, \"//*[@id='LocateBox_FunctionWork_Addr_Reslut']\")))\n",
    "    time.sleep(random.randint(1,2))\n",
    "    browser.find_element_by_xpath(\"//*[@id='LocateBox_FunctionWork_Addr_Reslut']/div[1]\").click()\n",
    "\n",
    "    # 轉到跳出來的框框(用 xpath 比較好喔！)\n",
    "   \n",
    "    try:\n",
    "        xpath = \"//*[@id='MapBox']/div[1]/div[2]/div/p[1]\"  \n",
    "        infomation = browser.find_element_by_xpath(xpath).text\n",
    "        coor = infomation.split('\\n')\n",
    "        full_addr = coor[0].split(\"：\")[-1]\n",
    "        X = coor[1].split(\"：\")[-1]\n",
    "        Y = coor[2].split(\"：\")[-1]\n",
    "        browser.quit()  \n",
    "        print([full_addr, X, Y])\n",
    "        return [full_addr, X, Y]\n",
    "\n",
    "    except NoSuchElementException:\n",
    "        browser.quit()  \n",
    "        print([addr, 0, 0])\n",
    "        return [addr, 0, 0]      "
   ]
  },
  {
   "cell_type": "code",
   "execution_count": 45,
   "metadata": {},
   "outputs": [
    {
     "name": "stdout",
     "output_type": "stream",
     "text": [
      "['高雄市左營區尾北里2鄰左營大路572號', '177711.366', '2510168.102']\n"
     ]
    }
   ],
   "source": [
    "print(get_coordinate('高雄市左營大路572號'))"
   ]
  },
  {
   "cell_type": "markdown",
   "metadata": {},
   "source": [
    "# 讀入表格"
   ]
  },
  {
   "cell_type": "code",
   "execution_count": null,
   "metadata": {},
   "outputs": [],
   "source": [
    "import pandas as pd\n",
    "import numpy as np\n",
    "from collections import Counter"
   ]
  },
  {
   "cell_type": "markdown",
   "metadata": {},
   "source": [
    "讀資料"
   ]
  },
  {
   "cell_type": "code",
   "execution_count": null,
   "metadata": {},
   "outputs": [],
   "source": [
    "\n",
    "# path_market = '..\\..\\Roaming-Dogs_data\\Location_data\\Temple\\宗教團體查詢結果.csv'\n",
    "# dt = pd.read_csv(path_market)\n",
    "# Counter(dt['縣市']).most_common()\n",
    "\n",
    "'''\n",
    "[('臺南市', 1610), ('高雄市', 1421), ('屏東縣', 1122), ('新北市', 923), ('臺中市', 901), ('彰化縣', 855), ('雲林縣', 800),\n",
    " ('嘉義縣', 705), ('宜蘭縣', 654), ('南投縣', 471), ('苗栗縣', 366), ('桃園市', 279), ('基隆市', 221), ('臺東縣', 214),\n",
    " ('臺北市', 212), ('金門縣', 190), ('澎湖縣', 186), ('新竹縣', 184), ('花蓮縣', 177), ('新竹市', 162), ('嘉義市', 122),\n",
    " ('連江縣', 67)]\n",
    " '''\n"
   ]
  },
  {
   "cell_type": "markdown",
   "metadata": {},
   "source": [
    "轉經緯度(拜託讓我轉！)"
   ]
  },
  {
   "cell_type": "code",
   "execution_count": null,
   "metadata": {},
   "outputs": [],
   "source": [
    "lon_lat = []\n",
    "print(dt.shape[0])\n",
    "\n",
    "for i in range(dt.shape[0]):\n",
    "\n",
    "    print(i)            \n",
    "    address = dt['地址.1'][i]\n",
    "    x = get_coordinate(address)\n",
    "    lon_lat.append(x) \n",
    "    time.sleep(random.randint(10,15))"
   ]
  },
  {
   "cell_type": "code",
   "execution_count": null,
   "metadata": {},
   "outputs": [],
   "source": [
    "lon_lat_df = pd.DataFrame(lon_lat)\n",
    "lon_lat_df.columns = ['完整地址', '經度', '緯度']\n",
    "print(lon_lat_df.shape)"
   ]
  },
  {
   "cell_type": "code",
   "execution_count": null,
   "metadata": {},
   "outputs": [],
   "source": [
    "# encoding 記得轉，不然是亂碼！\n",
    "lon_lat_df.to_csv(f'..\\..\\Roaming-Dogs_data\\Location_data\\Temple\\寺廟_{c}_經緯度_01.csv', encoding='big5', index = None)"
   ]
  }
 ],
 "metadata": {
  "interpreter": {
   "hash": "5c1f92212ab31ba0e82aa63c923810efcac412c36286e8f762ba05b30cbe558f"
  },
  "kernelspec": {
   "display_name": "Python 3.9.6 64-bit",
   "language": "python",
   "name": "python3"
  },
  "language_info": {
   "codemirror_mode": {
    "name": "ipython",
    "version": 3
   },
   "file_extension": ".py",
   "mimetype": "text/x-python",
   "name": "python",
   "nbconvert_exporter": "python",
   "pygments_lexer": "ipython3",
   "version": "3.9.6"
  },
  "orig_nbformat": 4
 },
 "nbformat": 4,
 "nbformat_minor": 2
}
