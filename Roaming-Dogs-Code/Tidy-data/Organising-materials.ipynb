{
 "cells": [
  {
   "cell_type": "markdown",
   "metadata": {},
   "source": [
    "介紹如何使用 *geopandas*\n",
    "- https://www.cnblogs.com/feffery/p/13129271.html (中)\n",
    "- https://zhuanlan.zhihu.com/p/345070554 (中)\n",
    "- https://www.itread01.com/content/1581180364.html (中)\n",
    "- https://geopandas.org/en/stable/getting_started/introduction.html (英)\n",
    "- https://automating-gis-processes.github.io/CSC18/lessons/L2/geopandas-basics.html (英)"
   ]
  },
  {
   "cell_type": "markdown",
   "metadata": {},
   "source": [
    "### Function"
   ]
  },
  {
   "cell_type": "markdown",
   "metadata": {},
   "source": [
    "#### csv convert to shp and save [[link]](https://ithelp.ithome.com.tw/articles/10202839)"
   ]
  },
  {
   "cell_type": "code",
   "execution_count": 66,
   "metadata": {},
   "outputs": [],
   "source": [
    "\n",
    "import pandas as pd \n",
    "from shapely.geometry import Point\n",
    "import geopandas as gpd\n",
    "import numpy as np\n",
    "from collections import Counter\n",
    "\n",
    "## import my modules\n",
    "import sys\n",
    "sys.path.append(\"..\\\\modules\")\n",
    "import convert\n",
    "import aggregation"
   ]
  },
  {
   "cell_type": "markdown",
   "metadata": {},
   "source": [
    "常用的座標分類：\n",
    " \n",
    "- WMS,WMTS等常使用的Web Mercator :EPSG:3857\n",
    "- kml, geojson默認使用的WGS84:EPSG:4326 (x = '經度', y = \"緯度\")\n",
    "- TWD97 121分帶:EPSG:3826\n",
    "- TWD97 119分帶:EPSG:3825\n",
    "- TWD67 121分帶(台灣舊系統):EPSG:3828\n",
    "- TWD67 119分帶(台灣舊系統):EPSG:3827"
   ]
  },
  {
   "cell_type": "code",
   "execution_count": 67,
   "metadata": {},
   "outputs": [],
   "source": [
    "# Function for converting file (csv -> shp)\n",
    "def Csv_to_Shp(dt,coor,crs_choise = {'init': 'epsg:3826'}): # 預設為TWD97 ，epsg:3826\n",
    "    \n",
    "    geom = [Point(xy) for xy in zip(dt[coor[0]], dt[coor[1]])]\n",
    "    crs = crs_choise\n",
    "    geodt = gpd.GeoDataFrame(dt, crs=crs, geometry=geom)\n",
    "    \n",
    "    return geodt"
   ]
  },
  {
   "cell_type": "markdown",
   "metadata": {},
   "source": [
    "#### 計算區域內有幾個點、有多少人\n",
    "- `geopandas.sjoin`\n",
    "    - https://www.cnblogs.com/feffery/p/13129271.html\n",
    "    - https://zhuanlan.zhihu.com/p/345070554 (中)\n",
    "    - https://geopandas.org/en/stable/docs/reference/api/geopandas.sjoin.html"
   ]
  },
  {
   "cell_type": "code",
   "execution_count": 68,
   "metadata": {},
   "outputs": [],
   "source": [
    "\n",
    "# Function for counting the point\n",
    "# df_polygon.crs need to equal to df_point.crs\n",
    "\n",
    "def HowManyPoint(df_polygon, df_point,x):  # x: gathering 的單位（里、區......）\n",
    "    if df_polygon.crs != df_point.crs:\n",
    "        df_polygon = df_polygon.to_crs(df_point.crs)\n",
    "        \n",
    "    aggr = gpd.sjoin(left_df=df_point ,\n",
    "                right_df=df_polygon,\n",
    "                op='intersects') \\\n",
    "            .groupby(x) \\\n",
    "            .size()\n",
    "   \n",
    "    return aggr\n"
   ]
  },
  {
   "cell_type": "code",
   "execution_count": 69,
   "metadata": {},
   "outputs": [],
   "source": [
    "def HowMuch(df_polygon, df_point,x):  # x: gathering 的單位（里、區......）\n",
    "    if df_polygon.crs != df_point.crs:\n",
    "        df_polygon = df_polygon.to_crs(df_point.crs)\n",
    "        \n",
    "    aggr = gpd.sjoin(left_df=df_point ,\n",
    "                right_df=df_polygon,\n",
    "                op='intersects') \\\n",
    "            .groupby(x) \\\n",
    "            .sum()\n",
    "    return aggr"
   ]
  },
  {
   "cell_type": "markdown",
   "metadata": {},
   "source": [
    "### School\n",
    "- https://www.tgos.tw/TGOS/Web/Metadata/TGOS_MetaData_View.aspx?MID=404530389BCC15967ED8D58E129BC680&SHOW_BACK_BUTTON=false)"
   ]
  },
  {
   "cell_type": "markdown",
   "metadata": {},
   "source": [
    "因為學生數與教職員數有正相關，再加上私立的國高中並無完整的教職員資料，因此決定只採用學生數。"
   ]
  },
  {
   "cell_type": "markdown",
   "metadata": {},
   "source": [
    "#### 國小"
   ]
  },
  {
   "cell_type": "code",
   "execution_count": 70,
   "metadata": {},
   "outputs": [
    {
     "name": "stdout",
     "output_type": "stream",
     "text": [
      "Index(['學校級別', '代碼', '學校名稱', '縣市別', '鄉鎮市區', '郵遞區號', '地址', '電話', '網址', '體系別',\n",
      "       '地區\\n屬性', 'X 坐標', 'Y 坐標'],\n",
      "      dtype='object')\n",
      "Index(['縣市代碼', '縣市名稱', '鄉鎮市區', '學校代碼', '學校名稱', '1年級班級數', '2年級班級數', '3年級班級數',\n",
      "       '4年級班級數', '5年級班級數', '6年級班級數', '1年級男學生數', '1年級女學生數', '2年級男學生數',\n",
      "       '2年級女學生數', '3年級男學生數', '3年級女學生數', '4年級男學生數', '4年級女學生數', '5年級男學生數',\n",
      "       '5年級女學生數', '6年級男學生數', '6年級女學生數', '學生數', '上學年男畢業生', '上學年女畢業生', '男專任教師',\n",
      "       '女專任教師', '男職員', '女職員'],\n",
      "      dtype='object')\n"
     ]
    },
    {
     "name": "stderr",
     "output_type": "stream",
     "text": [
      "C:\\Users\\ChenWenRu\\anaconda3\\lib\\site-packages\\geopandas\\geodataframe.py:35: ShapelyDeprecationWarning: The array interface is deprecated and will no longer work in Shapely 2.0. Convert the '.coords' to a numpy array instead.\n",
      "  out = from_shapely(data)\n",
      "C:\\Users\\ChenWenRu\\anaconda3\\lib\\site-packages\\geopandas\\array.py:85: ShapelyDeprecationWarning: __len__ for multi-part geometries is deprecated and will be removed in Shapely 2.0. Check the length of the `geoms` property instead to get the  number of parts of a multi-part geometry.\n",
      "  aout[:] = out\n",
      "C:\\Users\\ChenWenRu\\anaconda3\\lib\\site-packages\\pyproj\\crs\\crs.py:131: FutureWarning: '+init=<authority>:<code>' syntax is deprecated. '<authority>:<code>' is the preferred initialization method. When making the change, be mindful of axis order changes: https://pyproj4.github.io/pyproj/stable/gotchas.html#axis-order-changes-in-proj-6\n",
      "  in_crs_string = _prepare_from_proj_string(in_crs_string)\n",
      "C:\\Users\\ChenWenRu\\anaconda3\\lib\\site-packages\\geopandas\\array.py:85: ShapelyDeprecationWarning: __len__ for multi-part geometries is deprecated and will be removed in Shapely 2.0. Check the length of the `geoms` property instead to get the  number of parts of a multi-part geometry.\n",
      "  aout[:] = out\n",
      "C:\\Users\\ChenWenRu\\anaconda3\\lib\\site-packages\\pyproj\\crs\\crs.py:131: FutureWarning: '+init=<authority>:<code>' syntax is deprecated. '<authority>:<code>' is the preferred initialization method. When making the change, be mindful of axis order changes: https://pyproj4.github.io/pyproj/stable/gotchas.html#axis-order-changes-in-proj-6\n",
      "  in_crs_string = _prepare_from_proj_string(in_crs_string)\n",
      "C:\\Users\\ChenWenRu\\anaconda3\\lib\\site-packages\\geopandas\\array.py:85: ShapelyDeprecationWarning: __len__ for multi-part geometries is deprecated and will be removed in Shapely 2.0. Check the length of the `geoms` property instead to get the  number of parts of a multi-part geometry.\n",
      "  aout[:] = out\n"
     ]
    },
    {
     "name": "stdout",
     "output_type": "stream",
     "text": [
      "(2581, 2)\n"
     ]
    }
   ],
   "source": [
    "s = \"Elementary\"\n",
    "'Roaming-Dogs-Data\\School\\109_Elementary\\109_國小基本資料.csv'\n",
    "path = \"..\\\\..\\\\Roaming-Dogs-Data\\\\School\\\\109_Elementary\"\n",
    "df_01=pd.read_csv(path+\"\\\\109學年度各級學校分布位置_國小.csv\", encoding=\"utf-8\")\n",
    "print(df_01.columns)\n",
    "df_01 = df_01.set_index(\"代碼\")\n",
    "\n",
    "df=pd.read_csv(path+\"\\\\109_國小基本資料.csv\", encoding=\"Big5\")\n",
    "print(df.columns)\n",
    "df = df.set_index(\"學校代碼\")\n",
    "Elementary = pd.concat([df_01, df['學生數']], axis=1,join = \"inner\")\n",
    "Elementary.shape\n",
    "Elementary = Csv_to_Shp(dt = Elementary, coor = ['X 坐標', 'Y 坐標'])\n",
    "\n",
    "Taiwan_village = gpd.read_file(\"..\\\\..\\\\Roaming-Dogs-Data\\\\Taiwan_village\\\\VILLAGE_MOI_1101214.shp\",encoding=\"utf-8\")\n",
    "\n",
    "Elementary = gpd.read_file(path+'\\\\109_Elementary_TWD97\\\\109_Elementary_TWD97.shp',encoding=\"Big5\")\n",
    "Elementary_list = HowManyPoint(df_polygon = Taiwan_village, df_point =Elementary ,x = 'VILLCODE')\n",
    "Elementary_students = HowMuch(df_polygon = Taiwan_village, df_point =Elementary[[\"學生數\",'geometry']] ,x = 'VILLCODE')\n",
    "Elementary_list = pd.concat([Elementary_list, Elementary_students[[\"學生數\"]]], axis=1)\n",
    "Elementary_list.columns = [f\"{s}\", f\"{s}_stu\"]\n",
    "print(Elementary_list.shape)\n",
    "\n",
    "Elementary.to_file(driver='ESRI Shapefile', filename=path+'\\\\109_Elementary_TWD97\\\\109_Elementary_TWD97.shp', encoding=\"Big5\", index = True)"
   ]
  },
  {
   "cell_type": "markdown",
   "metadata": {},
   "source": [
    "#### 國中"
   ]
  },
  {
   "cell_type": "code",
   "execution_count": 71,
   "metadata": {},
   "outputs": [
    {
     "name": "stdout",
     "output_type": "stream",
     "text": [
      "Index(['學校級別', '代碼', '學校名稱', '縣市別', '鄉鎮市區', '郵遞區號', '地址', '電話', '網址', '體系別',\n",
      "       '地區\\n屬性', 'X 坐標', 'Y 坐標'],\n",
      "      dtype='object')\n",
      "Index(['縣市代碼', '縣市名稱', '鄉鎮市區', '學校代碼', '學校名稱', '班級數7年級', '班級數8年級', '班級數9年級',\n",
      "       '學生數7年級男', '學生數7年級女', '學生數8年級男', '學生數8年級女', '學生數9年級男', '學生數9年級女', '學生數',\n",
      "       '上學年男畢業生', '上學年女畢業生', '男專任教師', '女專任教師', '男職員', '女職員'],\n",
      "      dtype='object')\n"
     ]
    },
    {
     "name": "stderr",
     "output_type": "stream",
     "text": [
      "C:\\Users\\ChenWenRu\\anaconda3\\lib\\site-packages\\geopandas\\geodataframe.py:35: ShapelyDeprecationWarning: The array interface is deprecated and will no longer work in Shapely 2.0. Convert the '.coords' to a numpy array instead.\n",
      "  out = from_shapely(data)\n",
      "C:\\Users\\ChenWenRu\\anaconda3\\lib\\site-packages\\geopandas\\array.py:85: ShapelyDeprecationWarning: __len__ for multi-part geometries is deprecated and will be removed in Shapely 2.0. Check the length of the `geoms` property instead to get the  number of parts of a multi-part geometry.\n",
      "  aout[:] = out\n",
      "C:\\Users\\ChenWenRu\\anaconda3\\lib\\site-packages\\pyproj\\crs\\crs.py:131: FutureWarning: '+init=<authority>:<code>' syntax is deprecated. '<authority>:<code>' is the preferred initialization method. When making the change, be mindful of axis order changes: https://pyproj4.github.io/pyproj/stable/gotchas.html#axis-order-changes-in-proj-6\n",
      "  in_crs_string = _prepare_from_proj_string(in_crs_string)\n",
      "C:\\Users\\ChenWenRu\\anaconda3\\lib\\site-packages\\geopandas\\array.py:85: ShapelyDeprecationWarning: __len__ for multi-part geometries is deprecated and will be removed in Shapely 2.0. Check the length of the `geoms` property instead to get the  number of parts of a multi-part geometry.\n",
      "  aout[:] = out\n",
      "C:\\Users\\ChenWenRu\\anaconda3\\lib\\site-packages\\pyproj\\crs\\crs.py:131: FutureWarning: '+init=<authority>:<code>' syntax is deprecated. '<authority>:<code>' is the preferred initialization method. When making the change, be mindful of axis order changes: https://pyproj4.github.io/pyproj/stable/gotchas.html#axis-order-changes-in-proj-6\n",
      "  in_crs_string = _prepare_from_proj_string(in_crs_string)\n",
      "C:\\Users\\ChenWenRu\\anaconda3\\lib\\site-packages\\geopandas\\array.py:85: ShapelyDeprecationWarning: __len__ for multi-part geometries is deprecated and will be removed in Shapely 2.0. Check the length of the `geoms` property instead to get the  number of parts of a multi-part geometry.\n",
      "  aout[:] = out\n"
     ]
    }
   ],
   "source": [
    "s = \"Junior_high\"\n",
    "path = f\"..\\\\..\\\\Roaming-Dogs-Data\\\\School\\\\109_{s}\"\n",
    "df_01=pd.read_csv(path+\"\\\\109學年度各級學校分布位置_國中.csv\", encoding=\"utf-8\")\n",
    "print(df_01.columns)\n",
    "df_01 = df_01.set_index(\"代碼\")\n",
    "\n",
    "df=pd.read_csv(path+\"\\\\109_國中基本資料.csv\", encoding=\"Big5\")\n",
    "print(df.columns)\n",
    "df = df.set_index(\"學校代碼\")\n",
    "Junior_high = pd.concat([df_01, df['學生數']], axis=1,join = \"inner\")\n",
    "Junior_high = Csv_to_Shp(dt = Junior_high, coor = ['X 坐標', 'Y 坐標'])\n",
    "\n",
    "Taiwan_village = gpd.read_file(\"..\\\\..\\\\Roaming-Dogs-Data\\\\Taiwan_village\\\\VILLAGE_MOI_1101214.shp\",encoding=\"utf-8\")\n",
    "\n",
    "Junior_high = gpd.read_file(path+f'\\\\109_{s}_TWD97\\\\109_{s}_TWD97.shp',encoding=\"Big5\")\n",
    "Junior_high_list = HowManyPoint(df_polygon = Taiwan_village, df_point =Junior_high ,x = 'VILLCODE')\n",
    "Junior_high_students = HowMuch(df_polygon = Taiwan_village, df_point =Junior_high[[\"學生數\",'geometry']] ,x = 'VILLCODE')\n",
    "Junior_high_list = pd.concat([Junior_high_list, Junior_high_students[[\"學生數\"]]], axis=1)\n",
    "Junior_high_list.columns = [f\"{s}\", f\"{s}_stu\"]\n",
    "Junior_high.to_file(driver='ESRI Shapefile', filename=path+f'\\\\109_{s}_TWD97\\\\109_{s}_TWD97.shp', encoding=\"Big5\", index = True)"
   ]
  },
  {
   "cell_type": "markdown",
   "metadata": {},
   "source": [
    "#### 高中職"
   ]
  },
  {
   "cell_type": "code",
   "execution_count": 72,
   "metadata": {},
   "outputs": [
    {
     "name": "stdout",
     "output_type": "stream",
     "text": [
      "(513, 12)\n",
      "(528, 1)\n"
     ]
    },
    {
     "name": "stderr",
     "output_type": "stream",
     "text": [
      "C:\\Users\\ChenWenRu\\anaconda3\\lib\\site-packages\\geopandas\\geodataframe.py:35: ShapelyDeprecationWarning: The array interface is deprecated and will no longer work in Shapely 2.0. Convert the '.coords' to a numpy array instead.\n",
      "  out = from_shapely(data)\n",
      "C:\\Users\\ChenWenRu\\anaconda3\\lib\\site-packages\\geopandas\\array.py:85: ShapelyDeprecationWarning: __len__ for multi-part geometries is deprecated and will be removed in Shapely 2.0. Check the length of the `geoms` property instead to get the  number of parts of a multi-part geometry.\n",
      "  aout[:] = out\n",
      "C:\\Users\\ChenWenRu\\anaconda3\\lib\\site-packages\\pyproj\\crs\\crs.py:131: FutureWarning: '+init=<authority>:<code>' syntax is deprecated. '<authority>:<code>' is the preferred initialization method. When making the change, be mindful of axis order changes: https://pyproj4.github.io/pyproj/stable/gotchas.html#axis-order-changes-in-proj-6\n",
      "  in_crs_string = _prepare_from_proj_string(in_crs_string)\n",
      "C:\\Users\\ChenWenRu\\anaconda3\\lib\\site-packages\\geopandas\\array.py:85: ShapelyDeprecationWarning: __len__ for multi-part geometries is deprecated and will be removed in Shapely 2.0. Check the length of the `geoms` property instead to get the  number of parts of a multi-part geometry.\n",
      "  aout[:] = out\n",
      "C:\\Users\\ChenWenRu\\anaconda3\\lib\\site-packages\\pyproj\\crs\\crs.py:131: FutureWarning: '+init=<authority>:<code>' syntax is deprecated. '<authority>:<code>' is the preferred initialization method. When making the change, be mindful of axis order changes: https://pyproj4.github.io/pyproj/stable/gotchas.html#axis-order-changes-in-proj-6\n",
      "  in_crs_string = _prepare_from_proj_string(in_crs_string)\n",
      "C:\\Users\\ChenWenRu\\anaconda3\\lib\\site-packages\\geopandas\\array.py:85: ShapelyDeprecationWarning: __len__ for multi-part geometries is deprecated and will be removed in Shapely 2.0. Check the length of the `geoms` property instead to get the  number of parts of a multi-part geometry.\n",
      "  aout[:] = out\n"
     ]
    }
   ],
   "source": [
    "# 高中職\n",
    "s = \"Senior_high\"\n",
    "path = f\"..\\\\..\\\\Roaming-Dogs-Data\\\\School\\\\109_{s}\"\n",
    "df_01=pd.read_csv(path+\"\\\\109學年度各級學校分布位置_高中職.csv\")\n",
    "df_01 = df_01.set_index(\"代碼\")\n",
    "print(df_01.shape)\n",
    "\n",
    "df=pd.read_csv(path+\"\\\\109_高中基本資料.csv\", encoding=\"Big5\")\n",
    "df = df.set_index(\"學校代碼\")\n",
    "df = df[[\"學生數\"]].groupby(by=['學校代碼']).sum()\n",
    "print(df.shape)\n",
    "\n",
    "Senior_high = pd.concat([df_01, df['學生數']], axis=1,join = \"inner\")\n",
    "\n",
    "Senior_high = Csv_to_Shp(dt = Senior_high, coor = ['X 坐標', 'Y 坐標'])\n",
    "\n",
    "Taiwan_village = gpd.read_file(\"..\\\\..\\\\Roaming-Dogs-Data\\\\Taiwan_village\\\\VILLAGE_MOI_1101214.shp\",encoding=\"utf-8\")\n",
    "Senior_high_list = HowManyPoint(df_polygon = Taiwan_village, df_point =Senior_high ,x = 'VILLCODE')\n",
    "Senior_high_students = HowMuch(df_polygon = Taiwan_village, df_point =Senior_high[[\"學生數\",'geometry']] ,x = 'VILLCODE')\n",
    "Senior_high_list = pd.concat([Senior_high_list, Senior_high_students[[\"學生數\"]]], axis=1)\n",
    "Senior_high_list.columns = [f\"{s}\", f\"{s}_stu\"]\n",
    "\n",
    "Senior_high.to_file(driver='ESRI Shapefile', filename=path+f'\\\\109_{s}_TWD97\\\\109_{s}_TWD97.shp', encoding=\"Big5\", index = True)"
   ]
  },
  {
   "cell_type": "code",
   "execution_count": 73,
   "metadata": {},
   "outputs": [
    {
     "name": "stdout",
     "output_type": "stream",
     "text": [
      "Index(['COUNTYNAME', 'TOWNNAME', 'VILLNAME', 'VILLENG', 'COUNTYID',\n",
      "       'COUNTYCODE', 'TOWNID', 'TOWNCODE', 'NOTE', 'geometry', 'Elementary',\n",
      "       'Elementary_stu', 'Junior_high', 'Junior_high_stu', 'Senior_high',\n",
      "       'Senior_high_stu'],\n",
      "      dtype='object')\n",
      "Index(['64000130006', '64000130008', '64000100010', '64000100013',\n",
      "       '09007010006', '09007010007', '09007010009', '09007020002',\n",
      "       '10013020003', '10013020004',\n",
      "       ...\n",
      "       '10015010045', '10018020035', '10018020034', '10018020030',\n",
      "       '10008110009', '10008110015', '67000290019', '10008010030',\n",
      "       '10008010010', '10008010029'],\n",
      "      dtype='object', name='VILLCODE', length=7939)\n"
     ]
    }
   ],
   "source": [
    "# 學校\n",
    "Taiwan_village_new = Taiwan_village[:]\n",
    "Taiwan_village_new = Taiwan_village_new.set_index(\"VILLCODE\")\n",
    "Taiwan_village_new = pd.concat([Taiwan_village_new, Elementary_list], axis=1)\n",
    "Taiwan_village_new = pd.concat([Taiwan_village_new, Junior_high_list], axis=1)\n",
    "Taiwan_village_new = pd.concat([Taiwan_village_new, Senior_high_list], axis=1)\n",
    "print(Taiwan_village_new.columns)\n",
    "\n",
    "for i in [ 'Elementary','Elementary_stu', 'Junior_high', 'Junior_high_stu', 'Senior_high','Senior_high_stu']:\n",
    "    Taiwan_village_new[i] = Taiwan_village_new[i].fillna(0)\n",
    "\n",
    "\n",
    "# print(Taiwan_village_new.columns)\n",
    "# print(Taiwan_village_new.head(10))\n",
    "# print(Taiwan_village_new.shape)\n",
    "Taiwan_village_new['VILLCODE'] = Taiwan_village_new.index\n",
    "print(Taiwan_village_new.index)\n",
    "Taiwan_village_new.to_file(driver='ESRI Shapefile', filename='..\\\\..\\\\Roaming-Dogs-Data\\\\School\\\\School\\\\School.shp')\n"
   ]
  },
  {
   "cell_type": "markdown",
   "metadata": {},
   "source": [
    "### Hospital \n",
    "- https://sheethub.com/muyueh/%E5%85%A8%E5%8F%B0%E9%86%AB%E7%99%82%E9%99%A2%E6%89%80%E6%B8%85%E5%96%AE"
   ]
  },
  {
   "cell_type": "markdown",
   "metadata": {},
   "source": [
    "- 特約類別：\n",
    "    - \"1\"：醫學中心 (26)\n",
    "    - \"2\"：區域醫院 (86)\n",
    "    - \"3\"：地區醫院 (395)\n",
    "    - \"4\"：診所 (6520)"
   ]
  },
  {
   "cell_type": "code",
   "execution_count": 74,
   "metadata": {},
   "outputs": [
    {
     "name": "stderr",
     "output_type": "stream",
     "text": [
      "C:\\Users\\ChenWenRu\\anaconda3\\lib\\site-packages\\geopandas\\geodataframe.py:35: ShapelyDeprecationWarning: The array interface is deprecated and will no longer work in Shapely 2.0. Convert the '.coords' to a numpy array instead.\n",
      "  out = from_shapely(data)\n",
      "C:\\Users\\ChenWenRu\\anaconda3\\lib\\site-packages\\pyproj\\crs\\crs.py:131: FutureWarning: '+init=<authority>:<code>' syntax is deprecated. '<authority>:<code>' is the preferred initialization method. When making the change, be mindful of axis order changes: https://pyproj4.github.io/pyproj/stable/gotchas.html#axis-order-changes-in-proj-6\n",
      "  in_crs_string = _prepare_from_proj_string(in_crs_string)\n",
      "C:\\Users\\ChenWenRu\\anaconda3\\lib\\site-packages\\geopandas\\geoseries.py:133: ShapelyDeprecationWarning: The array interface is deprecated and will no longer work in Shapely 2.0. Convert the '.coords' to a numpy array instead.\n",
      "  data = from_shapely(s.values)\n"
     ]
    }
   ],
   "source": [
    "# 醫院、診所 \n",
    "\n",
    "## 讀2個檔案\n",
    "path = \"..\\\\..\\\\Roaming-Dogs-Data\\\\Hospital\\\\Final\"\n",
    "df_01=pd.read_csv(path+\"\\\\Hospital_A­_01_TWD97.csv\", encoding=\"utf-8\")\n",
    "df_02=pd.read_csv(path+\"\\\\Hospital_A_02_經緯度.csv\", encoding=\"utf-8\")\n",
    "\n",
    "## 整理檔案\n",
    "df_02 = df_02[(df_02[\"經度\"] != 0) | (df_02[\"村里\"] != \"#VALUE!\" )]\n",
    "df_02_01 = df_02[df_02[\"經度\"] != 0]\n",
    "df_02_02 = df_02[df_02[\"經度\"] == 0]\n",
    "\n",
    "df_01_shp = Csv_to_Shp(dt = df_01,coor = ['X', 'Y'],crs_choise = {'init': 'epsg:3826'})\n",
    "df_02_shp = Csv_to_Shp(dt = df_02_01,coor = ['經度', \"緯度\"],crs_choise = {'init': 'epsg:4326'})\n",
    "df_02_shp = df_02_shp.to_crs(df_01_shp.crs)\n",
    "\n",
    "df_02_shp.columns = df_01_shp.columns\n",
    "# print(df_01_shp.columns)\n",
    "col = ['醫事機構名稱', '機構縣市', '機構地址', '電話區域號碼', '電話號碼', '特約類別', '型態別', '醫事機構種類',\n",
    "       '門牌號碼', '村里', 'geometry']\n",
    "Hospital_geopd = pd.concat([df_01_shp[col], df_02_shp[col]], axis=0)\n",
    "\n",
    "#print(Hospital_geopd[Hospital_geopd['特約類別'].isnull()]) # 找 nan 的位置\n",
    "# 宜蘭縣羅東鎮南昌街83號\n",
    "col_nan = [\"電話區域號碼\",'電話號碼','特約類別','型態別','醫事機構種類']\n",
    "Hospital_geopd.loc[6677,col_nan] = Hospital_geopd.loc[6678,col_nan]"
   ]
  },
  {
   "cell_type": "markdown",
   "metadata": {},
   "source": [
    "用特約類別分類(1、2、3、4)"
   ]
  },
  {
   "cell_type": "code",
   "execution_count": 75,
   "metadata": {},
   "outputs": [
    {
     "name": "stdout",
     "output_type": "stream",
     "text": [
      "(26, 11)\n",
      "(86, 11)\n",
      "(395, 11)\n",
      "(6520, 11)\n"
     ]
    }
   ],
   "source": [
    "Hospital_geopd_1 = Hospital_geopd[Hospital_geopd['特約類別'] == 1]\n",
    "print(Hospital_geopd_1.shape)\n",
    "Hospital_geopd_2 = Hospital_geopd[Hospital_geopd['特約類別'] == 2]\n",
    "print(Hospital_geopd_2.shape)\n",
    "Hospital_geopd_3 = Hospital_geopd[Hospital_geopd['特約類別'] == 3]\n",
    "print(Hospital_geopd_3.shape)\n",
    "Hospital_geopd_4 = Hospital_geopd[Hospital_geopd['特約類別'] == 4]\n",
    "print(Hospital_geopd_4.shape)\n",
    "\n"
   ]
  },
  {
   "cell_type": "code",
   "execution_count": 76,
   "metadata": {},
   "outputs": [
    {
     "name": "stderr",
     "output_type": "stream",
     "text": [
      "C:\\Users\\ChenWenRu\\anaconda3\\lib\\site-packages\\geopandas\\array.py:85: ShapelyDeprecationWarning: __len__ for multi-part geometries is deprecated and will be removed in Shapely 2.0. Check the length of the `geoms` property instead to get the  number of parts of a multi-part geometry.\n",
      "  aout[:] = out\n",
      "C:\\Users\\ChenWenRu\\anaconda3\\lib\\site-packages\\pyproj\\crs\\crs.py:131: FutureWarning: '+init=<authority>:<code>' syntax is deprecated. '<authority>:<code>' is the preferred initialization method. When making the change, be mindful of axis order changes: https://pyproj4.github.io/pyproj/stable/gotchas.html#axis-order-changes-in-proj-6\n",
      "  in_crs_string = _prepare_from_proj_string(in_crs_string)\n",
      "C:\\Users\\ChenWenRu\\anaconda3\\lib\\site-packages\\geopandas\\array.py:85: ShapelyDeprecationWarning: __len__ for multi-part geometries is deprecated and will be removed in Shapely 2.0. Check the length of the `geoms` property instead to get the  number of parts of a multi-part geometry.\n",
      "  aout[:] = out\n",
      "C:\\Users\\ChenWenRu\\anaconda3\\lib\\site-packages\\pyproj\\crs\\crs.py:131: FutureWarning: '+init=<authority>:<code>' syntax is deprecated. '<authority>:<code>' is the preferred initialization method. When making the change, be mindful of axis order changes: https://pyproj4.github.io/pyproj/stable/gotchas.html#axis-order-changes-in-proj-6\n",
      "  in_crs_string = _prepare_from_proj_string(in_crs_string)\n",
      "C:\\Users\\ChenWenRu\\anaconda3\\lib\\site-packages\\geopandas\\array.py:85: ShapelyDeprecationWarning: __len__ for multi-part geometries is deprecated and will be removed in Shapely 2.0. Check the length of the `geoms` property instead to get the  number of parts of a multi-part geometry.\n",
      "  aout[:] = out\n",
      "C:\\Users\\ChenWenRu\\anaconda3\\lib\\site-packages\\pyproj\\crs\\crs.py:131: FutureWarning: '+init=<authority>:<code>' syntax is deprecated. '<authority>:<code>' is the preferred initialization method. When making the change, be mindful of axis order changes: https://pyproj4.github.io/pyproj/stable/gotchas.html#axis-order-changes-in-proj-6\n",
      "  in_crs_string = _prepare_from_proj_string(in_crs_string)\n",
      "C:\\Users\\ChenWenRu\\anaconda3\\lib\\site-packages\\geopandas\\array.py:85: ShapelyDeprecationWarning: __len__ for multi-part geometries is deprecated and will be removed in Shapely 2.0. Check the length of the `geoms` property instead to get the  number of parts of a multi-part geometry.\n",
      "  aout[:] = out\n",
      "C:\\Users\\ChenWenRu\\anaconda3\\lib\\site-packages\\pyproj\\crs\\crs.py:131: FutureWarning: '+init=<authority>:<code>' syntax is deprecated. '<authority>:<code>' is the preferred initialization method. When making the change, be mindful of axis order changes: https://pyproj4.github.io/pyproj/stable/gotchas.html#axis-order-changes-in-proj-6\n",
      "  in_crs_string = _prepare_from_proj_string(in_crs_string)\n",
      "C:\\Users\\ChenWenRu\\anaconda3\\lib\\site-packages\\geopandas\\array.py:85: ShapelyDeprecationWarning: __len__ for multi-part geometries is deprecated and will be removed in Shapely 2.0. Check the length of the `geoms` property instead to get the  number of parts of a multi-part geometry.\n",
      "  aout[:] = out\n"
     ]
    },
    {
     "name": "stdout",
     "output_type": "stream",
     "text": [
      "Index(['64000130006', '64000130008', '64000100010', '64000100013',\n",
      "       '09007010006', '09007010007', '09007010009', '09007020002',\n",
      "       '10013020003', '10013020004',\n",
      "       ...\n",
      "       '10015010045', '10018020035', '10018020034', '10018020030',\n",
      "       '10008110009', '10008110015', '67000290019', '10008010030',\n",
      "       '10008010010', '10008010029'],\n",
      "      dtype='object', name='VILLCODE', length=7939)\n"
     ]
    }
   ],
   "source": [
    "Taiwan_village = gpd.read_file(\"..\\\\..\\\\Roaming-Dogs-Data\\\\Taiwan_village\\\\VILLAGE_MOI_1101214.shp\",encoding=\"utf-8\")\n",
    "\n",
    "Hospital_1_list = HowManyPoint(df_polygon = Taiwan_village, df_point =Hospital_geopd_1 ,x = 'VILLCODE')\n",
    "\n",
    "Hospital_2_list = HowManyPoint(df_polygon = Taiwan_village, df_point =Hospital_geopd_2 ,x = 'VILLCODE')\n",
    "\n",
    "Hospital_3_list = HowManyPoint(df_polygon = Taiwan_village, df_point =Hospital_geopd_3 ,x = 'VILLCODE')\n",
    "\n",
    "Hospital_4_list = HowManyPoint(df_polygon = Taiwan_village, df_point =Hospital_geopd_4 ,x = 'VILLCODE')\n",
    "\n",
    "Taiwan_village_new = Taiwan_village[:]\n",
    "Taiwan_village_new = Taiwan_village_new.set_index(\"VILLCODE\")\n",
    "Taiwan_village_new = pd.concat([Taiwan_village_new, Hospital_1_list], axis=1)\n",
    "col = list(Taiwan_village_new.columns)\n",
    "col[-1] = 'Hospital_1'\n",
    "Taiwan_village_new.columns = col\n",
    "\n",
    "Taiwan_village_new = pd.concat([Taiwan_village_new, Hospital_2_list], axis=1)\n",
    "col = list(Taiwan_village_new.columns)\n",
    "col[-1] = 'Hospital_2'\n",
    "Taiwan_village_new.columns = col\n",
    "\n",
    "Taiwan_village_new = pd.concat([Taiwan_village_new, Hospital_3_list], axis=1)\n",
    "col = list(Taiwan_village_new.columns)\n",
    "col[-1] = 'Hospital_3'\n",
    "Taiwan_village_new.columns = col\n",
    "\n",
    "Taiwan_village_new = pd.concat([Taiwan_village_new, Hospital_4_list], axis=1)\n",
    "col = list(Taiwan_village_new.columns)\n",
    "col[-1] = 'Hospital_4'\n",
    "Taiwan_village_new.columns = col\n",
    "print(Taiwan_village_new.index)\n",
    "Taiwan_village_new['VILLCODE'] = Taiwan_village_new.index\n",
    "\n",
    "Taiwan_village_new.to_file(driver='ESRI Shapefile', \\\n",
    "    filename='..\\\\..\\\\Roaming-Dogs-Data\\\\Hospital\\\\Hospital\\\\Hospital.shp', encoding=\"Big5\")"
   ]
  },
  {
   "cell_type": "markdown",
   "metadata": {},
   "source": [
    "### Temple\n",
    "\n",
    "[https://miao.temple01.com/tpl.php]"
   ]
  },
  {
   "cell_type": "code",
   "execution_count": 77,
   "metadata": {},
   "outputs": [
    {
     "name": "stderr",
     "output_type": "stream",
     "text": [
      "C:\\Users\\ChenWenRu\\anaconda3\\lib\\site-packages\\geopandas\\geodataframe.py:35: ShapelyDeprecationWarning: The array interface is deprecated and will no longer work in Shapely 2.0. Convert the '.coords' to a numpy array instead.\n",
      "  out = from_shapely(data)\n",
      "C:\\Users\\ChenWenRu\\anaconda3\\lib\\site-packages\\geopandas\\array.py:85: ShapelyDeprecationWarning: __len__ for multi-part geometries is deprecated and will be removed in Shapely 2.0. Check the length of the `geoms` property instead to get the  number of parts of a multi-part geometry.\n",
      "  aout[:] = out\n",
      "C:\\Users\\ChenWenRu\\anaconda3\\lib\\site-packages\\pyproj\\crs\\crs.py:131: FutureWarning: '+init=<authority>:<code>' syntax is deprecated. '<authority>:<code>' is the preferred initialization method. When making the change, be mindful of axis order changes: https://pyproj4.github.io/pyproj/stable/gotchas.html#axis-order-changes-in-proj-6\n",
      "  in_crs_string = _prepare_from_proj_string(in_crs_string)\n",
      "C:\\Users\\ChenWenRu\\anaconda3\\lib\\site-packages\\geopandas\\array.py:85: ShapelyDeprecationWarning: __len__ for multi-part geometries is deprecated and will be removed in Shapely 2.0. Check the length of the `geoms` property instead to get the  number of parts of a multi-part geometry.\n",
      "  aout[:] = out\n",
      "C:\\Users\\ChenWenRu\\anaconda3\\lib\\site-packages\\pyproj\\crs\\crs.py:131: FutureWarning: '+init=<authority>:<code>' syntax is deprecated. '<authority>:<code>' is the preferred initialization method. When making the change, be mindful of axis order changes: https://pyproj4.github.io/pyproj/stable/gotchas.html#axis-order-changes-in-proj-6\n",
      "  in_crs_string = _prepare_from_proj_string(in_crs_string)\n",
      "C:\\Users\\ChenWenRu\\anaconda3\\lib\\site-packages\\geopandas\\array.py:85: ShapelyDeprecationWarning: __len__ for multi-part geometries is deprecated and will be removed in Shapely 2.0. Check the length of the `geoms` property instead to get the  number of parts of a multi-part geometry.\n",
      "  aout[:] = out\n"
     ]
    }
   ],
   "source": [
    "# 讀檔\n",
    "path = '..\\\\..\\\\Roaming-Dogs-Data\\\\Temple\\\\'\n",
    "Temple_TWD97 = pd.read_csv(path+\"Final\\\\Temple_TWD97_Village.csv\")\n",
    "Temple_TWD97 = Csv_to_Shp(dt= Temple_TWD97,coor = ['X','Y'])\n",
    "Temple_lat = pd.read_csv(path+\"Final\\\\Temple_經緯度_Village.csv\")\n",
    "Temple_lat = Csv_to_Shp(dt= Temple_lat,coor = ['經度','緯度'],crs_choise = {'init': 'epsg:4326'})\n",
    "\n",
    "Taiwan_village = gpd.read_file(\"..\\\\..\\\\Roaming-Dogs-Data\\\\Taiwan_village\\\\VILLAGE_MOI_1101214.shp\",encoding=\"utf-8\")\n",
    "\n",
    "Temple_TWD97_list = HowManyPoint(df_polygon = Taiwan_village, df_point = Temple_TWD97,x = 'VILLCODE')\n",
    "Temple_lat_list = HowManyPoint(df_polygon = Taiwan_village, df_point = Temple_lat,x = 'VILLCODE')\n",
    "\n"
   ]
  },
  {
   "cell_type": "code",
   "execution_count": 78,
   "metadata": {},
   "outputs": [],
   "source": [
    "# 2 個資料整理在一起\n",
    "Taiwan_village = Taiwan_village.set_index(\"VILLCODE\")\n",
    "Taiwan_village_01 = pd.concat([Taiwan_village, Temple_TWD97_list, Temple_lat_list], axis=1)\n"
   ]
  },
  {
   "cell_type": "code",
   "execution_count": 79,
   "metadata": {},
   "outputs": [
    {
     "name": "stdout",
     "output_type": "stream",
     "text": [
      "764\n",
      "(507, 4)      COUNTYNAME TOWNNAME VILLNAME         VILLENG COUNTYID COUNTYCODE TOWNID  \\\n",
      "0           高雄市      林園區      中門里   Zhongmen Vil.        E      64000    E13   \n",
      "1           高雄市      林園區      港埔里     Gangpu Vil.        E      64000    E13   \n",
      "2           高雄市      旗津區      上竹里   Shangzhu Vil.        E      64000    E10   \n",
      "3           高雄市      旗津區      中興里  Zhongxing Vil.        E      64000    E10   \n",
      "4           連江縣      南竿鄉      津沙村     Jinsha Vil.        Z      09007    Z01   \n",
      "...         ...      ...      ...             ...      ...        ...    ...   \n",
      "7934        南投縣      水里鄉      民和村      Minhe Vil.        M      10008    M11   \n",
      "7935        臺南市      關廟區      龜洞里    Guidong Vil.        D      67000    D34   \n",
      "7936        南投縣      南投市      內新里     Neixin Vil.        M      10008    M01   \n",
      "7937        南投縣      南投市      軍功里    Jungong Vil.        M      10008    M01   \n",
      "7938        南投縣      南投市      內興里    Neixing Vil.        M      10008    M01   \n",
      "\n",
      "      TOWNCODE  NOTE                                           geometry    0  \\\n",
      "0     64000130  None  POLYGON ((120.36772 22.49564, 120.36427 22.498...  4.0   \n",
      "1     64000130  None  POLYGON ((120.37325 22.49123, 120.37147 22.492...  3.0   \n",
      "2     64000100  None  POLYGON ((120.28976 22.57316, 120.28577 22.577...  3.0   \n",
      "3     64000100  None  POLYGON ((120.30319 22.55567, 120.30284 22.557...  5.0   \n",
      "4     09007010  None  POLYGON ((119.91684 26.14109, 119.91684 26.141...  1.0   \n",
      "...        ...   ...                                                ...  ...   \n",
      "7934  10008110  None  POLYGON ((120.93341 23.82945, 120.93331 23.829...  2.0   \n",
      "7935  67000290  None  POLYGON ((120.37176 22.91075, 120.37206 22.910...  3.0   \n",
      "7936  10008010  None  POLYGON ((120.68773 23.94293, 120.68835 23.943...  2.0   \n",
      "7937  10008010  None  POLYGON ((120.70602 23.92528, 120.70605 23.924...  2.0   \n",
      "7938  10008010  None  POLYGON ((120.71866 23.95351, 120.71868 23.953...  1.0   \n",
      "\n",
      "       1  Temple_02  \n",
      "0    NaN        NaN  \n",
      "1    NaN        NaN  \n",
      "2    NaN        NaN  \n",
      "3    NaN        NaN  \n",
      "4    NaN        NaN  \n",
      "...   ..        ...  \n",
      "7934 NaN        NaN  \n",
      "7935 NaN        NaN  \n",
      "7936 NaN        NaN  \n",
      "7937 NaN        NaN  \n",
      "7938 NaN        NaN  \n",
      "\n",
      "[7939 rows x 13 columns]\n"
     ]
    }
   ],
   "source": [
    "# only names\n",
    "\n",
    "Temple_name = pd.read_csv(path+\"Final\\\\Temple_Village.csv\")\n",
    "\n",
    "col = ['宗教團體名稱', '主管機關', '主祀神祇', '行政區',  'COUNTYNAME', 'TOWNNAME', 'VILLNAME', '地址', '教　別',\n",
    "       '完整地址', 'X', 'Y']\n",
    "Temple_name.columns = col\n",
    "Temple_name_group = Temple_name.groupby([\"COUNTYNAME\",'TOWNNAME', 'VILLNAME']).size()\n",
    "print(sum(Temple_name_group))\n",
    "\n",
    "TOWN = [Temple_name_group.index[x][0] for x in range(len(Temple_name_group)) ]\n",
    "VILL = [Temple_name_group.index[x][1] for x in range(len(Temple_name_group)) ]\n",
    "COUNTY = [Temple_name_group.index[x][1] for x in range(len(Temple_name_group)) ]\n",
    "\n",
    "data = {\"COUNTYNAME\": COUNTY,'TOWNNAME':TOWN, 'VILLNAME':VILL, 'Temple_02' : Temple_name_group.values}     \n",
    "Temple_name = pd.DataFrame(data)  \n",
    "\n",
    "Taiwan_village_Temple = Taiwan_village_01.merge(Temple_name, left_on = [\"COUNTYNAME\",\"TOWNNAME\",\"VILLNAME\"], right_on = [\"COUNTYNAME\",\"TOWNNAME\",\"VILLNAME\"], how = \"left\")\n",
    "print(Temple_name.shape,Taiwan_village_Temple)\n",
    "Taiwan_village_Temple.index = Taiwan_village_01.index\n"
   ]
  },
  {
   "cell_type": "code",
   "execution_count": 80,
   "metadata": {},
   "outputs": [],
   "source": [
    "for i in [0,1,'Temple_02']:\n",
    "   Taiwan_village_Temple[i] =  Taiwan_village_Temple[i].fillna(0)\n",
    "   \n",
    "Taiwan_village_Temple['Temple'] =  Taiwan_village_Temple[[0,1,'Temple_02']]. sum(axis=1)\n",
    "Taiwan_village_Temple['VILLCODE'] = (Taiwan_village_Temple.index)\n",
    "\n",
    "col = ['VILLCODE', 'COUNTYNAME','TOWNNAME','VILLNAME','VILLENG','COUNTYID','COUNTYCODE','TOWNID','TOWNCODE',\n",
    "      'NOTE','geometry','Temple']\n",
    "\n",
    "Taiwan_village_Temple[col].to_file(driver='ESRI Shapefile', filename='..\\\\..\\\\Roaming-Dogs-Data\\\\Temple\\\\Temple\\\\Temple.shp', index = True)"
   ]
  },
  {
   "cell_type": "markdown",
   "metadata": {},
   "source": [
    "### Train_station\n",
    "- https://data.gov.tw/dataset/33425) (經緯度)\n",
    "- https://data.gov.tw/dataset/8792 (人流) 2020 年整年"
   ]
  },
  {
   "cell_type": "code",
   "execution_count": 81,
   "metadata": {},
   "outputs": [
    {
     "name": "stderr",
     "output_type": "stream",
     "text": [
      "C:\\Users\\ChenWenRu\\anaconda3\\lib\\site-packages\\geopandas\\array.py:85: ShapelyDeprecationWarning: __len__ for multi-part geometries is deprecated and will be removed in Shapely 2.0. Check the length of the `geoms` property instead to get the  number of parts of a multi-part geometry.\n",
      "  aout[:] = out\n"
     ]
    },
    {
     "data": {
      "text/plain": [
       "Index(['trnOpDate', 'staCode', 'gateInComingCnt', 'gateOutGoingCnt'], dtype='object')"
      ]
     },
     "execution_count": 81,
     "metadata": {},
     "output_type": "execute_result"
    }
   ],
   "source": [
    "path = '..\\\\..\\\\Roaming-Dogs-Data\\\\Train_station\\\\'\n",
    "station_people = pd.read_csv(path+'每日各站進出站人數20190423-20211231\\\\每日各站進出站人數2020.csv')\n",
    "\n",
    "Taiwan_village = gpd.read_file(\"..\\\\..\\\\Roaming-Dogs-Data\\\\Taiwan_village\\\\VILLAGE_MOI_1101214.shp\",encoding=\"utf-8\")\n",
    "station_people.columns"
   ]
  },
  {
   "cell_type": "code",
   "execution_count": 82,
   "metadata": {},
   "outputs": [
    {
     "name": "stdout",
     "output_type": "stream",
     "text": [
      "Index(['trnOpDate', 'gateInComingCnt', 'gateOutGoingCnt', '每日進出站平均人數'], dtype='object')\n"
     ]
    }
   ],
   "source": [
    "# 進出站人數\n",
    "station_people = station_people.set_index(\"staCode\")\n",
    "station_people[\"每日進出站平均人數\"] = station_people[['gateInComingCnt', 'gateOutGoingCnt']].sum(axis=1)\n",
    "print(station_people.columns)\n",
    "station_people_mean = station_people[['每日進出站平均人數']].groupby(\"staCode\").mean()\n"
   ]
  },
  {
   "cell_type": "code",
   "execution_count": 83,
   "metadata": {},
   "outputs": [],
   "source": [
    "# 站數\n",
    "station_gis = pd.read_csv(path+'車站基本資料集.csv', encoding=\"Utf-8\")\n",
    "station_gis = station_gis.set_index(\"stationCode\")\n"
   ]
  },
  {
   "cell_type": "code",
   "execution_count": 84,
   "metadata": {},
   "outputs": [
    {
     "name": "stderr",
     "output_type": "stream",
     "text": [
      "C:\\Users\\ChenWenRu\\anaconda3\\lib\\site-packages\\geopandas\\geodataframe.py:35: ShapelyDeprecationWarning: The array interface is deprecated and will no longer work in Shapely 2.0. Convert the '.coords' to a numpy array instead.\n",
      "  out = from_shapely(data)\n",
      "C:\\Users\\ChenWenRu\\anaconda3\\lib\\site-packages\\pyproj\\crs\\crs.py:131: FutureWarning: '+init=<authority>:<code>' syntax is deprecated. '<authority>:<code>' is the preferred initialization method. When making the change, be mindful of axis order changes: https://pyproj4.github.io/pyproj/stable/gotchas.html#axis-order-changes-in-proj-6\n",
      "  in_crs_string = _prepare_from_proj_string(in_crs_string)\n",
      "C:\\Users\\ChenWenRu\\anaconda3\\lib\\site-packages\\geopandas\\array.py:85: ShapelyDeprecationWarning: __len__ for multi-part geometries is deprecated and will be removed in Shapely 2.0. Check the length of the `geoms` property instead to get the  number of parts of a multi-part geometry.\n",
      "  aout[:] = out\n",
      "C:\\Users\\ChenWenRu\\anaconda3\\lib\\site-packages\\pyproj\\crs\\crs.py:131: FutureWarning: '+init=<authority>:<code>' syntax is deprecated. '<authority>:<code>' is the preferred initialization method. When making the change, be mindful of axis order changes: https://pyproj4.github.io/pyproj/stable/gotchas.html#axis-order-changes-in-proj-6\n",
      "  in_crs_string = _prepare_from_proj_string(in_crs_string)\n",
      "C:\\Users\\ChenWenRu\\anaconda3\\lib\\site-packages\\geopandas\\array.py:85: ShapelyDeprecationWarning: __len__ for multi-part geometries is deprecated and will be removed in Shapely 2.0. Check the length of the `geoms` property instead to get the  number of parts of a multi-part geometry.\n",
      "  aout[:] = out\n"
     ]
    }
   ],
   "source": [
    "\n",
    "station = pd.concat([station_people_mean, station_gis], axis=1,join = \"outer\")\n",
    "idx = station['每日進出站平均人數'].isnull()\n",
    "station = station[~idx]\n",
    "station = Csv_to_Shp(dt= station,coor =  [\"lat\", \"lon\"],crs_choise = {'init': 'epsg:4326'})\n",
    "\n",
    "station_list = HowManyPoint(df_polygon = Taiwan_village, df_point =station ,x = 'VILLCODE')\n",
    "station_people = HowMuch(df_polygon = Taiwan_village, df_point =station[['每日進出站平均人數', 'geometry']] ,x = 'VILLCODE')\n"
   ]
  },
  {
   "cell_type": "code",
   "execution_count": 85,
   "metadata": {},
   "outputs": [],
   "source": [
    "\n",
    "\n",
    "Taiwan_village = Taiwan_village.set_index(\"VILLCODE\")\n",
    "station_shp = pd.concat([Taiwan_village, station_list,station_people[\"每日進出站平均人數\"]], axis=1)"
   ]
  },
  {
   "cell_type": "code",
   "execution_count": 86,
   "metadata": {},
   "outputs": [
    {
     "data": {
      "text/plain": [
       "1138216.0538818426"
      ]
     },
     "execution_count": 86,
     "metadata": {},
     "output_type": "execute_result"
    }
   ],
   "source": [
    "station_shp['每日進出站平均人數']\n",
    "sum(station_shp['每日進出站平均人數'].fillna(0))"
   ]
  },
  {
   "cell_type": "code",
   "execution_count": 87,
   "metadata": {},
   "outputs": [
    {
     "name": "stdout",
     "output_type": "stream",
     "text": [
      "(7939, 12) VILLCODE\n",
      "10002010045    1\n",
      "10002020004    1\n",
      "10002030008    1\n",
      "10002030015    1\n",
      "10002030017    1\n",
      "              ..\n",
      "68000020038    1\n",
      "68000040001    1\n",
      "68000040011    1\n",
      "68000040020    1\n",
      "68000040038    1\n",
      "Length: 234, dtype: int64\n",
      "VILLCODE\n",
      "64000130006    64000130006\n",
      "64000130008    64000130008\n",
      "64000100010    64000100010\n",
      "64000100013    64000100013\n",
      "09007010006    09007010006\n",
      "                  ...     \n",
      "10008110015    10008110015\n",
      "67000290019    67000290019\n",
      "10008010030    10008010030\n",
      "10008010010    10008010010\n",
      "10008010029    10008010029\n",
      "Name: VILLCODE, Length: 7939, dtype: object\n"
     ]
    }
   ],
   "source": [
    "print(station_shp.shape, station_list)\n",
    "\n",
    "col = ['COUNTYNAME',   'TOWNNAME',   'VILLNAME',    'VILLENG',   'COUNTYID',\n",
    "       'COUNTYCODE',     'TOWNID',   'TOWNCODE',       'NOTE',   'geometry',\n",
    "        \"Train-station\",  'Train-crowd']\n",
    "station_shp.columns = col\n",
    "\n",
    "for i in [\"Train-station\",  'Train-crowd']:\n",
    "    station_shp[i] = station_shp[i].fillna(0)\n",
    "    \n",
    "station_shp['VILLCODE'] = station_shp.index\n",
    "print(station_shp['VILLCODE'] )\n",
    "\n",
    "station_shp.to_file(driver='ESRI Shapefile', \\\n",
    "    filename='..\\\\..\\\\Roaming-Dogs-Data\\\\Train_station\\\\Train_station\\\\Train_station.shp', encoding=\"Big5\")"
   ]
  },
  {
   "cell_type": "markdown",
   "metadata": {},
   "source": [
    "### Tax \n",
    "- https://github.com/kiang/salary/blob/gh-pages/data/csv/2019.csv"
   ]
  },
  {
   "cell_type": "code",
   "execution_count": 88,
   "metadata": {},
   "outputs": [
    {
     "name": "stdout",
     "output_type": "stream",
     "text": [
      "Index(['縣市', '鄉鎮市區', '村里', '納稅單位', '綜合所得總額', '平均數', '中位數', '第一分位數', '第三分位數',\n",
      "       '標準差', '變異係數'],\n",
      "      dtype='object')\n"
     ]
    },
    {
     "name": "stderr",
     "output_type": "stream",
     "text": [
      "C:\\Users\\ChenWenRu\\anaconda3\\lib\\site-packages\\geopandas\\array.py:85: ShapelyDeprecationWarning: __len__ for multi-part geometries is deprecated and will be removed in Shapely 2.0. Check the length of the `geoms` property instead to get the  number of parts of a multi-part geometry.\n",
      "  aout[:] = out\n"
     ]
    },
    {
     "name": "stdout",
     "output_type": "stream",
     "text": [
      "Index(['VILLCODE', 'COUNTYNAME', 'TOWNNAME', 'VILLNAME', 'VILLENG', 'COUNTYID',\n",
      "       'COUNTYCODE', 'TOWNID', 'TOWNCODE', 'NOTE', 'geometry'],\n",
      "      dtype='object')\n",
      "(7773, 11)\n",
      "(7939, 11)\n",
      "(7939, 22) Index(['VILLCODE', 'COUNTYNAME', 'TOWNNAME', 'VILLNAME', 'VILLENG', 'COUNTYID',\n",
      "       'COUNTYCODE', 'TOWNID', 'TOWNCODE', 'NOTE', 'geometry', '縣市', '鄉鎮市區',\n",
      "       '村里', 'TaxPayer', 'Tax_total', 'Tax_mean', 'Tax_median', 'Tax_Q1',\n",
      "       'Tax_Q3', 'Tax_stander', 'Tax_CV'],\n",
      "      dtype='object')\n"
     ]
    }
   ],
   "source": [
    "path = '..\\\\..\\\\Roaming-Dogs-Data\\\\Tax\\\\'\n",
    "Tax = pd.read_csv(path+'109_Tax_02.csv')\n",
    "print(Tax.columns)\n",
    "col = ['縣市', '鄉鎮市區', '村里', 'TaxPayer', 'Tax_total', 'Tax_mean', 'Tax_median', 'Tax_Q1', 'Tax_Q3',\n",
    "       'Tax_stander', 'Tax_CV']\n",
    "Tax.columns = col\n",
    "Taiwan_village = gpd.read_file(\"..\\\\..\\\\Roaming-Dogs-Data\\\\Taiwan_village\\\\VILLAGE_MOI_1101214.shp\",encoding=\"utf-8\")\n",
    "print(Taiwan_village.columns)\n",
    "Taiwan_village_Tax = Taiwan_village.merge(Tax, left_on = [\"COUNTYNAME\", \"TOWNNAME\",\"VILLNAME\"], right_on = ['縣市',\"鄉鎮市區\",\"村里\"], how = \"left\")\n",
    "\n",
    "print(Tax.shape)\n",
    "print(Taiwan_village.shape)\n",
    "print(Taiwan_village_Tax.shape, Taiwan_village_Tax.columns)\n",
    "\n",
    "Taiwan_village_Tax.to_file(driver='ESRI Shapefile', filename=path+'Tax\\\\Tax.shp', encoding=\"Big5\", index = True)"
   ]
  },
  {
   "cell_type": "code",
   "execution_count": 89,
   "metadata": {},
   "outputs": [],
   "source": [
    "# idx = Taiwan_village_Tax['COUNTYNAME'].isnull()\n",
    "# df_01 = Taiwan_village_Tax[['縣市','鄉鎮市區', '村里']][idx]\n",
    "# print(Counter(df_01[\"縣市\"]))\n",
    "# print(df_01[df_01[\"縣市\"] == '屏東縣'])\n",
    "# idx = Taiwan_village_Tax['鄉鎮市區'].isnull()\n",
    "# df_02 = Taiwan_village_Tax[['COUNTYNAME', 'TOWNNAME', 'VILLNAME']][idx]\n",
    "# print((df_02[df_02[\"COUNTYNAME\"] == '屏東縣'][['TOWNNAME', \"VILLNAME\"]]))"
   ]
  },
  {
   "cell_type": "markdown",
   "metadata": {},
   "source": [
    "### 地價！\n",
    "https://segis.moi.gov.tw/STAT/Web/Platform/Product/Apply/STAT_ProductApply.aspx?CD=DD0F83352C7C65BDC80ADF32B3BDC9EAAA4EED3EF54C3CF5&UTNAME=0D97A8168D7A7F9FA4D66682176BAA3E&ISOPEN=ON#"
   ]
  },
  {
   "cell_type": "markdown",
   "metadata": {},
   "source": [
    "### Education\n",
    "- https://data.gov.tw/dataset/8409"
   ]
  },
  {
   "cell_type": "code",
   "execution_count": 90,
   "metadata": {},
   "outputs": [],
   "source": [
    "path = '..\\\\..\\\\Roaming-Dogs-Data\\\\Education\\\\'\n",
    "Edu = pd.read_csv(path+'education_level.csv')\n",
    "col = [ 'district_code','high_rat', 'mid_rat', 'low_rat','high_edu', 'mid_edu', 'low_edu']\n",
    "Edu = Edu[col]\n",
    "Taiwan_village = gpd.read_file(\"..\\\\..\\\\Roaming-Dogs-Data\\\\Taiwan_village\\\\VILLAGE_MOI_1101214.shp\",encoding=\"utf-8\")\n",
    "Taiwan_village_Edu = Taiwan_village.merge(Edu, left_on = \"VILLCODE\", right_on = \"district_code\", how = \"left\")\n",
    "Taiwan_village_Edu = gpd.GeoDataFrame(Taiwan_village_Edu, geometry = 'geometry')\n",
    "Taiwan_village_Edu = Taiwan_village_Edu.drop('district_code', axis = 1)\n",
    "Taiwan_village_Edu.to_file(driver='ESRI Shapefile', filename=path+'Education\\\\Education.shp', encoding=\"Big5\")\n"
   ]
  },
  {
   "cell_type": "code",
   "execution_count": 91,
   "metadata": {},
   "outputs": [
    {
     "data": {
      "text/html": [
       "<div>\n",
       "<style scoped>\n",
       "    .dataframe tbody tr th:only-of-type {\n",
       "        vertical-align: middle;\n",
       "    }\n",
       "\n",
       "    .dataframe tbody tr th {\n",
       "        vertical-align: top;\n",
       "    }\n",
       "\n",
       "    .dataframe thead th {\n",
       "        text-align: right;\n",
       "    }\n",
       "</style>\n",
       "<table border=\"1\" class=\"dataframe\">\n",
       "  <thead>\n",
       "    <tr style=\"text-align: right;\">\n",
       "      <th></th>\n",
       "      <th>VILLCODE</th>\n",
       "      <th>COUNTYNAME</th>\n",
       "      <th>TOWNNAME</th>\n",
       "      <th>VILLNAME</th>\n",
       "      <th>VILLENG</th>\n",
       "      <th>COUNTYID</th>\n",
       "      <th>COUNTYCODE</th>\n",
       "      <th>TOWNID</th>\n",
       "      <th>TOWNCODE</th>\n",
       "      <th>NOTE</th>\n",
       "      <th>geometry</th>\n",
       "      <th>high_rat</th>\n",
       "      <th>mid_rat</th>\n",
       "      <th>low_rat</th>\n",
       "      <th>high_edu</th>\n",
       "      <th>mid_edu</th>\n",
       "      <th>low_edu</th>\n",
       "    </tr>\n",
       "  </thead>\n",
       "  <tbody>\n",
       "    <tr>\n",
       "      <th>0</th>\n",
       "      <td>64000130006</td>\n",
       "      <td>高雄市</td>\n",
       "      <td>林園區</td>\n",
       "      <td>中門里</td>\n",
       "      <td>Zhongmen Vil.</td>\n",
       "      <td>E</td>\n",
       "      <td>64000</td>\n",
       "      <td>E13</td>\n",
       "      <td>64000130</td>\n",
       "      <td>None</td>\n",
       "      <td>POLYGON ((120.36772 22.49564, 120.36427 22.498...</td>\n",
       "      <td>0.188906129</td>\n",
       "      <td>0.406904577</td>\n",
       "      <td>0.404189294</td>\n",
       "      <td>487</td>\n",
       "      <td>1049</td>\n",
       "      <td>1042</td>\n",
       "    </tr>\n",
       "  </tbody>\n",
       "</table>\n",
       "</div>"
      ],
      "text/plain": [
       "      VILLCODE COUNTYNAME TOWNNAME VILLNAME        VILLENG COUNTYID  \\\n",
       "0  64000130006        高雄市      林園區      中門里  Zhongmen Vil.        E   \n",
       "\n",
       "  COUNTYCODE TOWNID  TOWNCODE  NOTE  \\\n",
       "0      64000    E13  64000130  None   \n",
       "\n",
       "                                            geometry     high_rat  \\\n",
       "0  POLYGON ((120.36772 22.49564, 120.36427 22.498...  0.188906129   \n",
       "\n",
       "       mid_rat      low_rat high_edu mid_edu low_edu  \n",
       "0  0.406904577  0.404189294      487    1049    1042  "
      ]
     },
     "execution_count": 91,
     "metadata": {},
     "output_type": "execute_result"
    }
   ],
   "source": [
    "Taiwan_village_Edu.head(1)"
   ]
  },
  {
   "cell_type": "markdown",
   "metadata": {},
   "source": [
    "### Population 109/09\n",
    "- https://segis.moi.gov.tw/STAT/Web/Platform/Product/Apply/STAT_ProductApply.aspx?SECTION=069F0C77479B8EB9&THEM=16EB5C58C90A28399BB172E2EA27B64F\n"
   ]
  },
  {
   "cell_type": "code",
   "execution_count": 92,
   "metadata": {},
   "outputs": [
    {
     "name": "stdout",
     "output_type": "stream",
     "text": [
      "(7761, 14)\n",
      "(7760, 14)\n"
     ]
    }
   ],
   "source": [
    "\n",
    "path = '..\\\\..\\\\Roaming-Dogs-Data\\\\Population\\\\'\n",
    "\n",
    "Taiwan_village_pop_01 = pd.read_csv(path+ '109年9月行政區人口指標_村里\\\\109年9月行政區人口指標_村里.csv')\n",
    "print(Taiwan_village_pop_01.shape)\n",
    "Taiwan_village_pop_01 = Taiwan_village_pop_01.drop(0, axis=0)\n",
    "print(Taiwan_village_pop_01.shape)\n"
   ]
  },
  {
   "cell_type": "markdown",
   "metadata": {},
   "source": [
    "- COUNTY_ID\t縣市代碼\n",
    "- COUNTY\t縣市名稱\n",
    "- TOWN_ID\t鄉鎮市區代碼\n",
    "- TOWN\t鄉鎮市區名稱\n",
    "- V_ID\t村里代碼\n",
    "- VILLAGE\t村里名稱\n",
    "- M_F_RAT\t性比例\n",
    "- P_H_CNT\t戶量\n",
    "- P_DEN\t人口密度\n",
    "- DEPENDENCY_RAT\t扶養比\n",
    "- A0A14_A15A65_RAT\t扶幼比\n",
    "- A65UP_A15A64_RAT\t扶老比\n",
    "- A65_A0A14_RAT\t老化指數\n",
    "- INFO_TIME\t資料時間\n"
   ]
  },
  {
   "cell_type": "code",
   "execution_count": 93,
   "metadata": {},
   "outputs": [
    {
     "name": "stdout",
     "output_type": "stream",
     "text": [
      "(7761, 11)\n",
      "(7760, 11)\n"
     ]
    }
   ],
   "source": [
    "\n",
    "Taiwan_village_pop_02 = pd.read_csv(path+ '109年9月行政區人口統計_村里\\\\109年9月行政區人口統計_村里.csv')\n",
    "print(Taiwan_village_pop_02.shape)\n",
    "Taiwan_village_pop_02 = Taiwan_village_pop_02.drop(0, axis=0)\n",
    "print(Taiwan_village_pop_02.shape)\n"
   ]
  },
  {
   "cell_type": "markdown",
   "metadata": {},
   "source": [
    "- COUNTY_ID\t縣市代碼\n",
    "- COUNTY\t縣市名稱\n",
    "- TOWN_ID\t鄉鎮市區代碼\n",
    "- TOWN\t鄉鎮市區名稱\n",
    "- V_ID\t村里代碼\n",
    "- VILLAGE\t村里名稱\n",
    "- H_CNT\t戶數\n",
    "- P_CNT\t人口數\n",
    "- M_CNT\t男性人口數\n",
    "- F_CNT\t女性人口數\n",
    "- INFO_TIME\t資料時間\n",
    "\n"
   ]
  },
  {
   "cell_type": "code",
   "execution_count": 94,
   "metadata": {},
   "outputs": [
    {
     "name": "stdout",
     "output_type": "stream",
     "text": [
      "Index(['COUNTY_ID', 'COUNTY', 'TOWN_ID', 'TOWN', 'V_ID', 'VILLAGE', 'M_F_RAT',\n",
      "       'P_H_CNT', 'P_DEN', 'DEPENDENCY_RAT', 'A0A14_A15A65_RAT',\n",
      "       'A65UP_A15A64_RAT', 'A65_A0A14_RAT', 'INFO_TIME'],\n",
      "      dtype='object')\n",
      "Index(['COUNTY_ID', 'COUNTY', 'TOWN_ID', 'TOWN', 'V_ID', 'VILLAGE', 'H_CNT',\n",
      "       'P_CNT', 'M_CNT', 'F_CNT', 'INFO_TIME'],\n",
      "      dtype='object')\n",
      "(7760, 14) (7760, 11) (7760, 19) Index(['COUNTY_ID', 'COUNTY', 'TOWN_ID', 'TOWN', 'V_ID', 'VILLAGE', 'M_F_RAT',\n",
      "       'P_H_CNT', 'P_DEN', 'DEPENDENCY_RAT', 'A0A14_A15A65_RAT',\n",
      "       'A65UP_A15A64_RAT', 'A65_A0A14_RAT', 'INFO_TIME_x', 'H_CNT', 'P_CNT',\n",
      "       'M_CNT', 'F_CNT', 'INFO_TIME_y'],\n",
      "      dtype='object')\n",
      "(7760, 19)\n"
     ]
    }
   ],
   "source": [
    "print(Taiwan_village_pop_01.columns)\n",
    "print(Taiwan_village_pop_02.columns)\n",
    "\n",
    "Taiwan_village_pop = Taiwan_village_pop_01.merge(Taiwan_village_pop_02, \\\n",
    "    left_on =['COUNTY', 'TOWN', 'VILLAGE', 'COUNTY_ID', 'TOWN_ID', 'V_ID','VILLAGE'],\\\n",
    "        right_on = ['COUNTY', 'TOWN', 'VILLAGE', 'COUNTY_ID', 'TOWN_ID', 'V_ID','VILLAGE'], how = \"outer\")\n",
    "print(Taiwan_village_pop_01.shape, Taiwan_village_pop_02.shape, Taiwan_village_pop.shape,Taiwan_village_pop.columns)\n",
    "idx = Taiwan_village_pop[\"V_ID\"].isnull()\n",
    "Taiwan_village_pop = Taiwan_village_pop[~idx]\n",
    "\n",
    "Taiwan_village_pop[\"V_ID\"] = [x.replace( '-','' ) for x in Taiwan_village_pop[\"V_ID\"]]\n",
    "print(Taiwan_village_pop.shape)"
   ]
  },
  {
   "cell_type": "code",
   "execution_count": 95,
   "metadata": {},
   "outputs": [
    {
     "name": "stdout",
     "output_type": "stream",
     "text": [
      "{'proj': 'longlat', 'ellps': 'GRS80', 'no_defs': True}\n"
     ]
    },
    {
     "name": "stderr",
     "output_type": "stream",
     "text": [
      "C:\\Users\\ChenWenRu\\anaconda3\\lib\\site-packages\\geopandas\\array.py:85: ShapelyDeprecationWarning: __len__ for multi-part geometries is deprecated and will be removed in Shapely 2.0. Check the length of the `geoms` property instead to get the  number of parts of a multi-part geometry.\n",
      "  aout[:] = out\n"
     ]
    },
    {
     "data": {
      "text/plain": [
       "Index(['VILLCODE', 'COUNTYNAME', 'TOWNNAME', 'VILLNAME', 'VILLENG', 'COUNTYID',\n",
       "       'COUNTYCODE', 'TOWNID', 'TOWNCODE', 'NOTE', 'geometry', 'COUNTY_ID',\n",
       "       'COUNTY', 'TOWN_ID', 'TOWN', 'V_ID', 'VILLAGE', 'M_F_RAT', 'P_H_CNT',\n",
       "       'P_DEN', 'DEPENDENCY_RAT', 'A0A14_A15A65_RAT', 'A65UP_A15A64_RAT',\n",
       "       'A65_A0A14_RAT', 'H_CNT', 'P_CNT', 'M_CNT', 'F_CNT'],\n",
       "      dtype='object')"
      ]
     },
     "execution_count": 95,
     "metadata": {},
     "output_type": "execute_result"
    }
   ],
   "source": [
    "col = ['COUNTY_ID', 'COUNTY', 'TOWN_ID', 'TOWN', 'V_ID', 'VILLAGE', 'M_F_RAT',\\\n",
    "       'P_H_CNT', 'P_DEN', 'DEPENDENCY_RAT', 'A0A14_A15A65_RAT',\\\n",
    "       'A65UP_A15A64_RAT', 'A65_A0A14_RAT',  'H_CNT', 'P_CNT', 'M_CNT', 'F_CNT']\n",
    "# Taiwan_village_pop = Taiwan_village_pop.set_index(\"V_ID\")\n",
    "Taiwan_village = gpd.read_file(\"..\\\\..\\\\Roaming-Dogs-Data\\\\Taiwan_village\\\\VILLAGE_MOI_1101214.shp\",encoding=\"utf-8\")\n",
    "print(Taiwan_village.crs)\n",
    "# print(type(Taiwan_village[\"VILLCODE\"][0]))\n",
    "# Taiwan_village = Taiwan_village.set_index(\"VILLCODE\")\n",
    "Taiwan_village_pop = Taiwan_village.merge( Taiwan_village_pop[col], left_on = 'VILLCODE', right_on = \"V_ID\", how = \"left\")\n",
    "Taiwan_village_pop.columns"
   ]
  },
  {
   "cell_type": "code",
   "execution_count": 96,
   "metadata": {},
   "outputs": [],
   "source": [
    "col = ['VILLCODE', 'COUNTYNAME', 'TOWNNAME', 'VILLNAME', 'VILLENG', 'COUNTYID',\n",
    "       'COUNTYCODE', 'TOWNID', 'TOWNCODE', 'NOTE', 'geometry', 'VILLAGE', 'M_F_RAT', 'P_H_CNT',\n",
    "       'P_DEN', 'DEPENDENCY_RAT', 'A0A14_A15A65_RAT', 'A65UP_A15A64_RAT',\n",
    "       'A65_A0A14_RAT', 'H_CNT', 'P_CNT', 'M_CNT', 'F_CNT']\n",
    "Taiwan_village_pop = gpd.GeoDataFrame(Taiwan_village_pop[col], geometry = 'geometry')\n"
   ]
  },
  {
   "cell_type": "code",
   "execution_count": 97,
   "metadata": {},
   "outputs": [],
   "source": [
    "Taiwan_village_pop.to_file(driver='ESRI Shapefile', \\\n",
    "   filename=path+'Population\\\\Population.shp',encoding = 'big5')"
   ]
  },
  {
   "cell_type": "markdown",
   "metadata": {},
   "source": [
    "### Clustering"
   ]
  },
  {
   "cell_type": "markdown",
   "metadata": {},
   "source": [
    "延續 107 年度調查之分層方法，將母體依縣市分割為 22 個次母體，再將各次母體縣市中的鄉、鎮、市、區以**人口密度**、**農業人口比例**、**專科以上人口比例**及**老年人口比例**等，以群分析作為都市化程度分層依據分為二至四層"
   ]
  },
  {
   "cell_type": "markdown",
   "metadata": {},
   "source": [
    "#### 分群結果\n",
    "    1. 於該縣市中，都市戶程度較高的鄉鎮市區\n",
    "    2. 於該縣市中，都市戶程度中等的鄉鎮市區\n",
    "    3. 於該縣市中，都市戶程度較低的鄉鎮市區"
   ]
  },
  {
   "cell_type": "markdown",
   "metadata": {},
   "source": [
    "- 宜蘭縣\n",
    "\t1.\t羅東鎮、宜蘭市\n",
    "\t2.\t五結鄉、冬山鄉、蘇澳鎮、礁溪鄉、頭城鎮、壯圍鄉、員山鄉、三星鄉、大同鄉、南澳鄉\n",
    "- 花蓮縣\t\n",
    "\t1.\t花蓮市\n",
    "\t2.\t吉安鄉、新城鄉、玉里鎮、鳳林鎮、瑞穗鄉、壽豐鄉、光復鄉、富里鄉、豐濱鄉、秀林鄉、萬榮鄉、卓溪鄉\n",
    "- 金門縣\t\n",
    "\t1.\t金城鎮、金寧鎮、烈嶼鄉、金湖鎮、烏坵鄉、金沙鎮\n",
    "- 南投縣\n",
    "\t1.\t南投市、草屯鎮、名間鄉、埔里鎮、竹山鎮\n",
    "\t2.\t集集鎮、水里鄉、魚池鄉、鹿谷鄉、國姓鄉、中寮鄉、仁愛鄉、信義鄉\n",
    "- 屏東縣\t\n",
    "\t1.\t東港鎮、潮州鎮、恆春鎮\n",
    "\t2.\t屏東市\n",
    "\t3.\t新園鄉、萬丹鄉、長治鄉、麟洛鄉、內埔鄉、鹽埔鄉、里港鄉、九如鄉、崁頂鄉、林邊鄉、枋寮鄉、佳冬鄉、竹田鄉、南州鄉、萬巒鄉、枋山鄉、高樹鄉、車城鄉、新埤鄉、瑪家鄉、來義鄉、泰武鄉、三地門鄉、滿州鄉、春日鄉、牡丹鄉、獅子鄉、霧臺鄉\n",
    "- 苗栗縣\n",
    "\t1.\t苗栗市、竹南鎮、頭份市、苑裡鎮\n",
    "\t2.\t公館鄉、造橋鄉、三義鄉、銅鑼鄉、頭屋鄉、後龍鎮、通霄鎮、卓蘭鎮、西湖鄉、大湖鄉、三灣鄉、南庄鄉、獅潭鄉、泰安鄉\n",
    "- 桃園市\n",
    "\t1.\t桃園區、平鎮區、八德區、中壢區\n",
    "\t2.\t龜山區、蘆竹區、楊梅區、龍潭區、大溪區、大園區、觀音區、新屋區、復興區\n",
    "- 高雄市\n",
    "\t1.\t新興區、苓雅區、旗津區、三民區、鹽埕區、前金區、鳳山區、左營區、前鎮區、鼓山區、楠梓區\n",
    "\t2.\t小港區、梓官區、仁武區、林園區、岡山區、茄萣區、鳥松區、湖內區、橋頭區、大寮區、彌陀區、大社區、路竹區、阿蓮區、大樹區、燕巢區、永安區\n",
    "\t3.\t旗山區、美濃區、內門區、杉林區、田寮區、甲仙區、六龜區、那瑪夏區、茂林區、桃源區\n",
    "- 基隆市\n",
    "\t1.\t仁愛區、中山區、中正區、信義區、安樂區、暖暖區、七堵區\n",
    "- 連江縣\n",
    "\t1.\t南竿鄉、莒光鄉、東引鄉、北竿鄉\n",
    "- 雲林縣\n",
    "\t1.\t斗六市、虎尾鎮、北港鎮、斗南鎮、西螺鎮、林內鄉、土庫鎮、麥寮鄉、莿桐鄉\n",
    "\t2.\t臺西鄉、二崙鄉、大埤鄉、崙背鄉、口湖鄉、元長鄉、水林鄉、褒忠鄉、東勢鄉、四湖鄉、古坑鄉\n",
    "- 新北市\n",
    "\t1.\t永和區、蘆洲區、板橋區、三重區、新莊區、中和區\n",
    "\t2.\t土城區、泰山區、鶯歌區、樹林區、汐止區、五股區、淡水區、新店區、林口區、深坑區、八里區、三峽區\n",
    "\t3.\t金山區、瑞芳區、三芝區、萬里區、石門區、烏來區、貢寮區、平溪區、雙溪區、坪林區、石碇區\n",
    "- 新竹市\n",
    "\t1.\t北區、東區、香山區\n",
    "- 新竹縣\n",
    "\t1.\t竹北市、竹東鎮、湖口鄉、新豐鄉\n",
    "\t2.\t芎林鄉、新埔鎮、寶山鄉、關西鎮、橫山鄉、北埔鄉、峨眉鄉、五峰鄉、尖石鄉\n",
    "- 嘉義市\n",
    "\t1.\t西區、東區\n",
    "- 嘉義縣\n",
    "\t1.\t民雄鄉、朴子市、水上鄉、大林鎮、新港鄉、中埔鄉、太保市\n",
    "\t2.\t溪口鄉、布袋鎮、六腳鄉、東石鄉、鹿草鄉、義竹鄉、竹崎鄉、梅山鄉、番路鄉、大埔鄉、阿里山鄉\n",
    "- 彰化縣\n",
    "\t1.\t彰化市、員林市、和美鎮、鹿港鎮、永靖鄉、溪湖鎮、北斗鎮、埔心鄉、伸港鄉、秀水鄉、花壇鄉、田中鎮、大村鄉、社頭鄉\n",
    "\t2.\t田尾鄉、福興鄉、線西鄉、埔鹽鄉、埤頭鄉、芬園鄉、溪州鄉、二林鎮、芳苑鄉、竹塘鄉、二水鄉、大城鄉\n",
    "- 臺中市\n",
    "\t1.\t北區、中區、西區、南區、東區、大里區、北屯區、西屯區、南屯區\n",
    "\t2.\t潭子區、豐原區、梧棲區、大雅區、沙鹿區、龍井區、神岡區、烏日區、大肚區、清水區、太平區、大甲區、后里區、外埔區、霧峰區、石岡區、大安區、東勢區、新社區、和平區\n",
    "- 臺北市\n",
    "\t1.\t大安區、大同區、松山區、萬華區、中正區、信義區、中山區、內湖區、文山區、士林區、北投區、南港區\n",
    "- 臺東縣\n",
    "\t1.\t臺東市\n",
    "\t2.\t綠島鄉、關山鎮、太麻里鄉、池上鄉、成功鎮、鹿野鄉、長濱鄉、東河鄉、蘭嶼鄉、大武鄉、卑南鄉、達仁鄉、金峰鄉、延平鄉、海端鄉\n",
    "- 臺南市\n",
    "\t1.\t東區、北區、中西區、南區、安平區、永康區\n",
    "\t2.\t新營區、安南區、仁德區、佳里區、歸仁區、善化區、新市區、新化區\n",
    "\t3.\t安定區、麻豆區、西港區、下營區、鹽水區、學甲區、關廟區、柳營區、六甲區、官田區、山上區、北門區、七股區\n",
    "\t4.\t將軍區、後壁區、白河區、玉井區、東山區、大內區、楠西區、左鎮區、龍崎區、南化區\n",
    "- 澎湖縣\n",
    "\t1.\t馬公市、七美鄉、白沙鄉、西嶼鄉、湖西鄉、望安鄉\n",
    "\n",
    " \n"
   ]
  },
  {
   "cell_type": "code",
   "execution_count": 156,
   "metadata": {},
   "outputs": [],
   "source": [
    "YLA = [\"宜蘭縣\"]\n",
    "YLA_01= [\"羅東鎮\",\"宜蘭市\"]\n",
    "YLA_02 = [\"五結鄉\",\"冬山鄉\",\"蘇澳鎮\",\"礁溪鄉\",\"頭城鎮\",\"壯圍鄉\",\"員山鄉\",\"三星鄉\",\"大同鄉\",\"南澳鄉\"]\n",
    "\n",
    "HL= [\"花蓮縣\"]\t\n",
    "HL_01 = [\"花蓮市\"]\n",
    "HL_02 = [\"吉安鄉\",\"新城鄉\",\"玉里鎮\",\"鳳林鎮\",\"瑞穗鄉\",\"壽豐鄉\",\"光復鄉\",\"富里鄉\",\"豐濱鄉\",\"秀林鄉\",\"萬榮鄉\",\"卓溪鄉\"]\n",
    "\n",
    "JM = [\"金門縣\"]\t\n",
    "JM_01 = [\"金城鎮\",\"金寧鄉\",\"烈嶼鄉\",\"金湖鎮\",\"烏坵鄉\",\"金沙鎮\"]\n",
    "\n",
    "NT = [\"南投縣\"]\n",
    "NT_01 = [\"南投市\",\"草屯鎮\",\"名間鄉\",\"埔里鎮\",\"竹山鎮\"]\n",
    "NT_02 = [\"集集鎮\",\"水里鄉\",\"魚池鄉\",\"鹿谷鄉\",\"國姓鄉\",\"中寮鄉\",\"仁愛鄉\",\"信義鄉\"]\n",
    "\n",
    "PD = [\"屏東縣\"]\t\n",
    "PD_01 = [\"東港鎮\",\"潮州鎮\",\"恆春鎮\"]\n",
    "PD_02 = [\"屏東市\"]\n",
    "PD_03 = [\"新園鄉\",\"萬丹鄉\",\"長治鄉\",\"麟洛鄉\",\"內埔鄉\",\"鹽埔鄉\",\"里港鄉\",\"九如鄉\",\"崁頂鄉\",\"林邊鄉\",\"枋寮鄉\",\"佳冬鄉\",\"竹田鄉\",\"南州鄉\",\"萬巒鄉\",\"枋山鄉\",\"高樹鄉\",\"車城鄉\",\"新埤鄉\",\"瑪家鄉\",\"來義鄉\",\"泰武鄉\",\"三地門鄉\",\"滿州鄉\",\"春日鄉\",\"牡丹鄉\",\"獅子鄉\",\"霧臺鄉\"]\n",
    "\n",
    "ML = [\"苗栗縣\"]\n",
    "ML_01 = [\"苗栗市\",\"竹南鎮\",\"頭份市\",\"苑裡鎮\"]\n",
    "ML_02 = [\"公館鄉\",\"造橋鄉\",\"三義鄉\",\"銅鑼鄉\",\"頭屋鄉\",\"後龍鎮\",\"通霄鎮\",\"卓蘭鎮\",\"西湖鄉\",\"大湖鄉\",\"三灣鄉\",\"南庄鄉\",\"獅潭鄉\",\"泰安鄉\"]\n",
    "\n",
    "TY = [\"桃園市\"]\n",
    "TY_01 = [\"桃園區\",\"平鎮區\",\"八德區\",\"中壢區\"]\n",
    "TY_02 = [\"龜山區\",\"蘆竹區\",\"楊梅區\",\"龍潭區\",\"大溪區\",\"大園區\",\"觀音區\",\"新屋區\",\"復興區\"]\n",
    "\n",
    "KS = [\"高雄市\"]\n",
    "KS_01 = [\"新興區\",\"苓雅區\",\"旗津區\",\"三民區\",\"鹽埕區\",\"前金區\",\"鳳山區\",\"左營區\",\"前鎮區\",\"鼓山區\",\"楠梓區\"]\n",
    "KS_02 = [\"小港區\",\"梓官區\",\"仁武區\",\"林園區\",\"岡山區\",\"茄萣區\",\"鳥松區\",\"湖內區\",\"橋頭區\",\"大寮區\",\"彌陀區\",\"大社區\",\"路竹區\",\"阿蓮區\",\"大樹區\",\"燕巢區\",\"永安區\"]\n",
    "KS_03 = [\"旗山區\",\"美濃區\",\"內門區\",\"杉林區\",\"田寮區\",\"甲仙區\",\"六龜區\",\"那瑪夏區\",\"茂林區\",\"桃源區\"]\n",
    "\n",
    "JL = [\"基隆市\"]\n",
    "JL_01 = [\"仁愛區\",\"中山區\",\"中正區\",\"信義區\",\"安樂區\",\"暖暖區\",\"七堵區\"]\n",
    "\n",
    "LJ = [\"連江縣\"]\n",
    "LJ_01 = [\"南竿鄉\",\"莒光鄉\",\"東引鄉\",\"北竿鄉\"]\n",
    "\n",
    "YLI = [\"雲林縣\"]\n",
    "YLI_01 = [\"斗六市\",\"虎尾鎮\",\"北港鎮\",\"斗南鎮\",\"西螺鎮\",\"林內鄉\",\"土庫鎮\",\"麥寮鄉\",\"莿桐鄉\"]\n",
    "YLI_02 = [\"臺西鄉\",\"二崙鄉\",\"大埤鄉\",\"崙背鄉\",\"口湖鄉\",\"元長鄉\",\"水林鄉\",\"褒忠鄉\",\"東勢鄉\",\"四湖鄉\",\"古坑鄉\"]\n",
    "\n",
    "SP = [\"新北市\"]\n",
    "SP_01 = [\"永和區\",\"蘆洲區\",\"板橋區\",\"三重區\",\"新莊區\",\"中和區\"]\n",
    "SP_02 = [\"土城區\",\"泰山區\",\"鶯歌區\",\"樹林區\",\"汐止區\",\"五股區\",\"淡水區\",\"新店區\",\"林口區\",\"深坑區\",\"八里區\",\"三峽區\"]\n",
    "SP_03 = [\"金山區\",\"瑞芳區\",\"三芝區\",\"萬里區\",\"石門區\",\"烏來區\",\"貢寮區\",\"平溪區\",\"雙溪區\",\"坪林區\",\"石碇區\"]\n",
    "\n",
    "SJSHIH = [\"新竹市\"]\n",
    "SJSHIH_01 = [\"北區\",\"東區\",\"香山區\"]\n",
    "\n",
    "SJSHIAN = [\"新竹縣\"]\n",
    "SJSHIAN_01 =[\"竹北市\",\"竹東鎮\",\"湖口鄉\",\"新豐鄉\"]\n",
    "SJSHIAN_02 = [\"芎林鄉\",\"新埔鎮\",\"寶山鄉\",\"關西鎮\",\"橫山鄉\",\"北埔鄉\",\"峨眉鄉\",\"五峰鄉\",\"尖石鄉\"]\n",
    "\n",
    "JYSHIN = [\"嘉義市\"]\n",
    "JYSHIN_01 = [\"西區\",\"東區\"]\n",
    "\n",
    "JYSHIAN = [\"嘉義縣\"]\n",
    "JYSHIAN_01 = [\"民雄鄉\",\"朴子市\",\"水上鄉\",\"大林鎮\",\"新港鄉\",\"中埔鄉\",\"太保市\"]\n",
    "JYSHIAN_02 = [\"溪口鄉\",\"布袋鎮\",\"六腳鄉\",\"東石鄉\",\"鹿草鄉\",\"義竹鄉\",\"竹崎鄉\",\"梅山鄉\",\"番路鄉\",\"大埔鄉\",\"阿里山鄉\"]\n",
    "\n",
    "JH = [\"彰化縣\"]\n",
    "JH_01 = [\"彰化市\",\"員林市\",\"和美鎮\",\"鹿港鎮\",\"永靖鄉\",\"溪湖鎮\",\"北斗鎮\",\"埔心鄉\",\"伸港鄉\",\"秀水鄉\",\"花壇鄉\",\"田中鎮\",\"大村鄉\",\"社頭鄉\"]\n",
    "JH_02 = [\"田尾鄉\",\"福興鄉\",\"線西鄉\",\"埔鹽鄉\",\"埤頭鄉\",\"芬園鄉\",\"溪州鄉\",\"二林鎮\",\"芳苑鄉\",\"竹塘鄉\",\"二水鄉\",\"大城鄉\"]\n",
    "\n",
    "TC = [\"臺中市\"]\n",
    "TC_01 = [\"北區\",\"中區\",\"西區\",\"南區\",\"東區\",\"大里區\",\"北屯區\",\"西屯區\",\"南屯區\"]\n",
    "TC_02 = [\"潭子區\",\"豐原區\",\"梧棲區\",\"大雅區\",\"沙鹿區\",\"龍井區\",\"神岡區\",\"烏日區\",\"大肚區\",\"清水區\",\"太平區\",\"大甲區\",\"后里區\",\"外埔區\",\"霧峰區\",\"石岡區\",\"大安區\",\"東勢區\",\"新社區\",\"和平區\"]\n",
    "\n",
    "TP = [\"臺北市\"]\n",
    "TP_01 = [\"大安區\",\"大同區\",\"松山區\",\"萬華區\",\"中正區\",\"信義區\",\"中山區\",\"內湖區\",\"文山區\",\"士林區\",\"北投區\",\"南港區\"]\n",
    "\n",
    "TD = [\"臺東縣\"]\n",
    "TD_01 = [\"臺東市\"]\n",
    "TD_02 = [\"綠島鄉\",\"關山鎮\",\"太麻里鄉\",\"池上鄉\",\"成功鎮\",\"鹿野鄉\",\"長濱鄉\",\"東河鄉\",\"蘭嶼鄉\",\"大武鄉\",\"卑南鄉\",\"達仁鄉\",\"金峰鄉\",\"延平鄉\",\"海端鄉\",\"琉球鄉\"]\n",
    "\n",
    "TN = [\"臺南市\"]\n",
    "TN_01 = [\"東區\",\"北區\",\"中西區\",\"南區\",\"安平區\",\"永康區\"]\n",
    "TN_02 = [\"新營區\",\"安南區\",\"仁德區\",\"佳里區\",\"歸仁區\",\"善化區\",\"新市區\",\"新化區\"]\n",
    "TN_03 = [\"安定區\",\"麻豆區\",\"西港區\",\"下營區\",\"鹽水區\",\"學甲區\",\"關廟區\",\"柳營區\",\"六甲區\",\"官田區\",\"山上區\",\"北門區\",\"七股區\"]\n",
    "TN_04 = [\"將軍區\",\"後壁區\",\"白河區\",\"玉井區\",\"東山區\",\"大內區\",\"楠西區\",\"左鎮區\",\"龍崎區\",\"南化區\"]\n",
    "\n",
    "PH = [\"澎湖縣\"]\n",
    "PH_01 = [\"馬公市\",\"七美鄉\",\"白沙鄉\",\"西嶼鄉\",\"湖西鄉\",\"望安鄉\"]"
   ]
  },
  {
   "cell_type": "code",
   "execution_count": 155,
   "metadata": {},
   "outputs": [],
   "source": [
    "CLU_01 = YLA_01+HL_01+JM_01+NT_01+PD_01+ML_01+TY_01+KS_01+JL_01+LJ_01\\\n",
    "    +YLI_01+SP_01+SJSHIH_01+SJSHIAN_01+JYSHIN_01+JYSHIAN_01+JH_01+TC_01\\\n",
    "        +TP_01+TD_01+TN_01+PH_01\n",
    "        \n",
    "CLU_02 = YLA_02+HL_02+NT_02+PD_02+ML_02+TY_02+KS_02\\\n",
    "    +YLI_02+SP_02+SJSHIAN_02+JYSHIAN_02+JH_02+TC_02\\\n",
    "        +TD_02+TN_02\n",
    "\n",
    "CLU_03 = PD_03+KS_03+SP_03+TN_03\n",
    "\n",
    "CLU_04 = TN_04"
   ]
  },
  {
   "cell_type": "code",
   "execution_count": 158,
   "metadata": {},
   "outputs": [
    {
     "name": "stderr",
     "output_type": "stream",
     "text": [
      "C:\\Users\\ChenWenRu\\anaconda3\\lib\\site-packages\\geopandas\\array.py:85: ShapelyDeprecationWarning: __len__ for multi-part geometries is deprecated and will be removed in Shapely 2.0. Check the length of the `geoms` property instead to get the  number of parts of a multi-part geometry.\n",
      "  aout[:] = out\n"
     ]
    },
    {
     "name": "stdout",
     "output_type": "stream",
     "text": [
      "(7939, 12)\n"
     ]
    }
   ],
   "source": [
    "Taiwan_village_clu = gpd.read_file(\"..\\\\..\\\\Roaming-Dogs-Data\\\\Taiwan_village\\\\VILLAGE_MOI_1101214.shp\",encoding=\"utf-8\")\n",
    "CLU = []\n",
    "\n",
    "for x in Taiwan_village_clu[\"TOWNNAME\"]:\n",
    "    if x in CLU_01:\n",
    "        CLU.append(1)\n",
    "    elif x in CLU_02:\n",
    "        CLU.append(2)\n",
    "    elif x in CLU_03:\n",
    "        CLU.append(3)\n",
    "    elif x in CLU_04:\n",
    "        CLU.append(4)\n",
    "    else:\n",
    "        CLU.append(np.nan) \n",
    "Taiwan_village_clu[\"Cluster\"] = CLU\n",
    "print(Taiwan_village_clu.shape)\n",
    "Taiwan_village_clu.to_file(\"..\\\\..\\\\Roaming-Dogs-Data\\\\Cluster\\\\Cluster.shp\",encoding=\"Big5\")\n"
   ]
  },
  {
   "cell_type": "markdown",
   "metadata": {},
   "source": [
    "### Combined all data"
   ]
  },
  {
   "cell_type": "code",
   "execution_count": 180,
   "metadata": {},
   "outputs": [],
   "source": [
    "Taiwan_village = gpd.read_file(\"..\\\\..\\\\Roaming-Dogs-Data\\\\Taiwan_village\\\\VILLAGE_MOI_1101214.shp\",encoding=\"utf-8\")\n",
    "TW_Clu = gpd.read_file(\"..\\\\..\\\\Roaming-Dogs-Data\\\\Cluster\\\\Cluster.shp\",encoding=\"big5\")\n",
    "TW_Clu = TW_Clu.drop(labels=['COUNTYNAME', 'TOWNNAME', 'VILLNAME', 'VILLENG', 'COUNTYID',\\\n",
    "       'COUNTYCODE', 'TOWNID', 'TOWNCODE', 'NOTE', 'geometry'], axis=1)\n",
    "TW_Edu = gpd.read_file(\"..\\\\..\\\\Roaming-Dogs-Data\\\\Education\\\\Education\\\\Education.shp\",encoding=\"big5\")\n",
    "TW_Edu = TW_Edu.drop(labels=['COUNTYNAME', 'TOWNNAME', 'VILLNAME', 'VILLENG', 'COUNTYID',\\\n",
    "       'COUNTYCODE', 'TOWNID', 'TOWNCODE', 'NOTE', 'geometry'], axis=1)\n",
    "TW_Hospital = gpd.read_file(\"..\\\\..\\\\Roaming-Dogs-Data\\\\Hospital\\\\Hospital\\\\Hospital.shp\",encoding=\"big5\")\n",
    "TW_Hospital = TW_Hospital.drop(labels=['COUNTYNAME', 'TOWNNAME', 'VILLNAME', 'VILLENG', 'COUNTYID',\\\n",
    "       'COUNTYCODE', 'TOWNID', 'TOWNCODE', 'NOTE', 'geometry'], axis=1)\n",
    "TW_Population = gpd.read_file(\"..\\\\..\\\\Roaming-Dogs-Data\\\\Population\\\\Population\\\\Population.shp\",encoding=\"big5\")\n",
    "TW_Population = TW_Population.drop(labels=['COUNTYNAME', 'TOWNNAME', 'VILLNAME', 'VILLENG', 'COUNTYID',\\\n",
    "       'COUNTYCODE', 'TOWNID', 'TOWNCODE', 'NOTE', 'geometry'], axis=1)\n",
    "TW_School = gpd.read_file(\"..\\\\..\\\\Roaming-Dogs-Data\\\\School\\\\School\\\\School.shp\",encoding=\"big5\")\n",
    "TW_School = TW_School.drop(labels=['COUNTYNAME', 'TOWNNAME', 'VILLNAME', 'VILLENG', 'COUNTYID',\\\n",
    "       'COUNTYCODE', 'TOWNID', 'TOWNCODE', 'NOTE', 'geometry'], axis=1)\n",
    "TW_Tax = gpd.read_file(\"..\\\\..\\\\Roaming-Dogs-Data\\\\Tax\\\\Tax\\\\Tax.shp\",encoding=\"big5\")\n",
    "TW_Tax = TW_Tax.drop(labels=['COUNTYNAME', 'TOWNNAME', 'VILLNAME', 'VILLENG', 'COUNTYID','縣市', '鄉鎮市區', '村里',\\\n",
    "       'COUNTYCODE', 'TOWNID', 'TOWNCODE', 'NOTE', 'geometry'], axis=1)\n",
    "TW_Temple = gpd.read_file(\"..\\\\..\\\\Roaming-Dogs-Data\\\\Temple\\\\Temple\\\\Temple.shp\",encoding=\"big5\")\n",
    "TW_Temple = TW_Temple.drop(labels=['COUNTYNAME', 'TOWNNAME', 'VILLNAME', 'VILLENG', 'COUNTYID',\\\n",
    "       'COUNTYCODE', 'TOWNID', 'TOWNCODE', 'NOTE', 'geometry'], axis=1)\n",
    "TW_Train = gpd.read_file(\"..\\\\..\\\\Roaming-Dogs-Data\\\\Train_station\\\\Train_station\\\\Train_station.shp\",encoding=\"big5\")\n",
    "TW_Train = TW_Train.drop(labels=['COUNTYNAME', 'TOWNNAME', 'VILLNAME', 'VILLENG', 'COUNTYID',\\\n",
    "       'COUNTYCODE', 'TOWNID', 'TOWNCODE', 'NOTE', 'geometry'], axis=1)"
   ]
  },
  {
   "cell_type": "code",
   "execution_count": 181,
   "metadata": {},
   "outputs": [
    {
     "name": "stdout",
     "output_type": "stream",
     "text": [
      "0 Index(['VILLCODE', 'COUNTYNAME', 'TOWNNAME', 'VILLNAME', 'VILLENG', 'COUNTYID',\n",
      "       'COUNTYCODE', 'TOWNID', 'TOWNCODE', 'NOTE', 'geometry'],\n",
      "      dtype='object') (7939, 11)\n",
      "1 Index(['VILLCODE', 'Cluster'], dtype='object') (7939, 2)\n",
      "2 Index(['VILLCODE', 'high_rat', 'mid_rat', 'low_rat', 'high_edu', 'mid_edu',\n",
      "       'low_edu'],\n",
      "      dtype='object') (7939, 7)\n",
      "3 Index(['Hospital_1', 'Hospital_2', 'Hospital_3', 'Hospital_4', 'VILLCODE'], dtype='object') (7939, 5)\n",
      "4 Index(['VILLCODE', 'VILLAGE', 'M_F_RAT', 'P_H_CNT', 'P_DEN', 'DEPENDENCY',\n",
      "       'A0A14_A15A', 'A65UP_A15A', 'A65_A0A14_', 'H_CNT', 'P_CNT', 'M_CNT',\n",
      "       'F_CNT'],\n",
      "      dtype='object') (7939, 13)\n",
      "5 Index(['Elementary', 'Elementa_1', 'Junior_hig', 'Junior_h_1', 'Senior_hig',\n",
      "       'Senior_h_1', 'VILLCODE'],\n",
      "      dtype='object') (7939, 7)\n",
      "6 Index(['VILLCODE', 'TaxPayer', 'Tax_total', 'Tax_mean', 'Tax_median', 'Tax_Q1',\n",
      "       'Tax_Q3', 'Tax_stande', 'Tax_CV'],\n",
      "      dtype='object') (7939, 9)\n",
      "7 Index(['VILLCODE', 'Temple'], dtype='object') (7939, 2)\n",
      "8 Index(['Train-stat', 'Train-crow', 'VILLCODE'], dtype='object') (7939, 3)\n"
     ]
    }
   ],
   "source": [
    "n = 0\n",
    "print(n,Taiwan_village.columns,Taiwan_village.shape )\n",
    "n +=1\n",
    "print(n,TW_Clu.columns,TW_Clu.shape )\n",
    "n +=1\n",
    "print(n,TW_Edu.columns,TW_Edu.shape )\n",
    "n +=1\n",
    "print(n,TW_Hospital.columns,TW_Hospital.shape)\n",
    "n +=1\n",
    "print(n,TW_Population.columns,TW_Population.shape)\n",
    "n +=1\n",
    "print(n,TW_School.columns,TW_School.shape)\n",
    "n +=1\n",
    "print(n,TW_Tax.columns,TW_Tax.shape)\n",
    "n +=1\n",
    "print(n,TW_Temple.columns,TW_Temple.shape)\n",
    "n +=1\n",
    "print(n,TW_Train.columns,TW_Train.shape)"
   ]
  },
  {
   "cell_type": "code",
   "execution_count": 182,
   "metadata": {},
   "outputs": [
    {
     "name": "stderr",
     "output_type": "stream",
     "text": [
      "C:\\Users\\ChenWenRu\\anaconda3\\lib\\site-packages\\geopandas\\array.py:85: ShapelyDeprecationWarning: __len__ for multi-part geometries is deprecated and will be removed in Shapely 2.0. Check the length of the `geoms` property instead to get the  number of parts of a multi-part geometry.\n",
      "  aout[:] = out\n"
     ]
    },
    {
     "name": "stdout",
     "output_type": "stream",
     "text": [
      "0       0.000184\n",
      "1       0.000115\n",
      "2       0.000099\n",
      "3       0.000233\n",
      "4       0.000101\n",
      "          ...   \n",
      "7934    0.001268\n",
      "7935    0.000376\n",
      "7936    0.000202\n",
      "7937    0.000140\n",
      "7938    0.000403\n",
      "Length: 7939, dtype: float64 0       2.101052e+06\n",
      "1       1.306214e+06\n",
      "2       1.130898e+06\n",
      "3       2.653210e+06\n",
      "4       1.117617e+06\n",
      "            ...     \n",
      "7934    1.431354e+07\n",
      "7935    4.268018e+06\n",
      "7936    2.278451e+06\n",
      "7937    1.581437e+06\n",
      "7938    4.541425e+06\n",
      "Length: 7939, dtype: float64          VILLCODE COUNTYNAME TOWNNAME VILLNAME         VILLENG COUNTYID  \\\n",
      "0     64000130006        高雄市      林園區      中門里   Zhongmen Vil.        E   \n",
      "1     64000130008        高雄市      林園區      港埔里     Gangpu Vil.        E   \n",
      "2     64000100010        高雄市      旗津區      上竹里   Shangzhu Vil.        E   \n",
      "3     64000100013        高雄市      旗津區      中興里  Zhongxing Vil.        E   \n",
      "4     09007010006        連江縣      南竿鄉      津沙村     Jinsha Vil.        Z   \n",
      "...           ...        ...      ...      ...             ...      ...   \n",
      "7934  10008110015        南投縣      水里鄉      民和村      Minhe Vil.        M   \n",
      "7935  67000290019        臺南市      關廟區      龜洞里    Guidong Vil.        D   \n",
      "7936  10008010030        南投縣      南投市      內新里     Neixin Vil.        M   \n",
      "7937  10008010010        南投縣      南投市      軍功里    Jungong Vil.        M   \n",
      "7938  10008010029        南投縣      南投市      內興里    Neixing Vil.        M   \n",
      "\n",
      "     COUNTYCODE TOWNID  TOWNCODE  NOTE  \\\n",
      "0         64000    E13  64000130  None   \n",
      "1         64000    E13  64000130  None   \n",
      "2         64000    E10  64000100  None   \n",
      "3         64000    E10  64000100  None   \n",
      "4         09007    Z01  09007010  None   \n",
      "...         ...    ...       ...   ...   \n",
      "7934      10008    M11  10008110  None   \n",
      "7935      67000    D34  67000290  None   \n",
      "7936      10008    M01  10008010  None   \n",
      "7937      10008    M01  10008010  None   \n",
      "7938      10008    M01  10008010  None   \n",
      "\n",
      "                                               geometry  \n",
      "0     POLYGON ((184943.994 2488572.755, 184590.016 2...  \n",
      "1     POLYGON ((185511.017 2488081.757, 185328.574 2...  \n",
      "2     POLYGON ((176963.314 2497193.163, 176555.738 2...  \n",
      "3     POLYGON ((178335.853 2495250.028, 178300.362 2...  \n",
      "4     POLYGON ((141693.603 2892627.448, 141693.032 2...  \n",
      "...                                                 ...  \n",
      "7934  POLYGON ((243216.243 2636137.329, 243205.643 2...  \n",
      "7935  POLYGON ((185554.620 2534538.165, 185585.405 2...  \n",
      "7936  POLYGON ((218214.641 2648737.423, 218278.213 2...  \n",
      "7937  POLYGON ((220072.578 2646779.387, 220075.753 2...  \n",
      "7938  POLYGON ((221365.216 2649903.489, 221367.305 2...  \n",
      "\n",
      "[7939 rows x 11 columns]\n"
     ]
    }
   ],
   "source": [
    "Taiwan_village = gpd.read_file(\"..\\\\..\\\\Roaming-Dogs-Data\\\\Taiwan_village\\\\VILLAGE_MOI_1101214.shp\",encoding=\"utf-8\")\n",
    "Taiwan_village_02 = Taiwan_village.to_crs(\"EPSG:3826\")\n",
    "print(Taiwan_village.area,Taiwan_village_02.area,Taiwan_village_02 )"
   ]
  },
  {
   "cell_type": "code",
   "execution_count": 183,
   "metadata": {},
   "outputs": [
    {
     "name": "stdout",
     "output_type": "stream",
     "text": [
      "(7939, 11)\n",
      "(7939, 12)\n",
      "         VILLCODE  Cluster\n",
      "0     64000130006        2\n",
      "1     64000130008        2\n",
      "2     64000100010        1\n",
      "3     64000100013        1\n",
      "4     09007010006        1\n",
      "...           ...      ...\n",
      "7934  10008110015        2\n",
      "7935  67000290019        3\n",
      "7936  10008010030        1\n",
      "7937  10008010010        1\n",
      "7938  10008010029        1\n",
      "\n",
      "[7939 rows x 2 columns]\n"
     ]
    }
   ],
   "source": [
    "Taiwan_village_ = Taiwan_village[:]\n",
    "print(Taiwan_village_.shape )\n",
    "\n",
    "Taiwan_village_  = Taiwan_village_.merge(TW_Clu, left_on = ['VILLCODE'], right_on = ['VILLCODE'])\n",
    "print(Taiwan_village_.shape )\n",
    "\n",
    "print(TW_Clu)"
   ]
  },
  {
   "cell_type": "code",
   "execution_count": 184,
   "metadata": {},
   "outputs": [
    {
     "name": "stdout",
     "output_type": "stream",
     "text": [
      "(7939, 11)\n",
      "(7939, 12)\n",
      "(7939, 18)\n",
      "(7939, 22)\n",
      "(7939, 34)\n",
      "(7939, 40)\n",
      "(7939, 48)\n",
      "(7939, 49)\n",
      "(7939, 51)\n",
      "(7939, 53)\n",
      "Index(['VILLCODE', 'COUNTYNAME', 'TOWNNAME', 'VILLNAME', 'VILLENG', 'COUNTYID',\n",
      "       'COUNTYCODE', 'TOWNID', 'TOWNCODE', 'NOTE', 'geometry', 'Cluster',\n",
      "       'high_rat', 'mid_rat', 'low_rat', 'high_edu', 'mid_edu', 'low_edu',\n",
      "       'Hospital_1', 'Hospital_2', 'Hospital_3', 'Hospital_4', 'VILLAGE',\n",
      "       'M_F_RAT', 'P_H_CNT', 'P_DEN', 'DEPENDENCY', 'A0A14_A15A', 'A65UP_A15A',\n",
      "       'A65_A0A14_', 'H_CNT', 'P_CNT', 'M_CNT', 'F_CNT', 'Elementary',\n",
      "       'Elementa_1', 'Junior_hig', 'Junior_h_1', 'Senior_hig', 'Senior_h_1',\n",
      "       'TaxPayer', 'Tax_total', 'Tax_mean', 'Tax_median', 'Tax_Q1', 'Tax_Q3',\n",
      "       'Tax_stande', 'Tax_CV', 'Temple', 'Train-stat', 'Train-crow',\n",
      "       'Hospital', 'Clinic'],\n",
      "      dtype='object') 53\n"
     ]
    }
   ],
   "source": [
    "Taiwan_village_ = Taiwan_village[:]\n",
    "print(Taiwan_village_.shape )\n",
    "\n",
    "Taiwan_village_  = Taiwan_village_.merge(TW_Clu, left_on = ['VILLCODE'], right_on = ['VILLCODE'])\n",
    "print(Taiwan_village_.shape )\n",
    "\n",
    "Taiwan_village_  = Taiwan_village_.merge(TW_Edu, left_on = ['VILLCODE'], right_on = ['VILLCODE'])\n",
    "print(Taiwan_village_.shape )\n",
    "\n",
    "Taiwan_village_  = Taiwan_village_.merge(TW_Hospital, left_on = ['VILLCODE'], right_on = ['VILLCODE'])\n",
    "print(Taiwan_village_.shape )\n",
    "\n",
    "Taiwan_village_  = Taiwan_village_.merge(TW_Population, left_on = ['VILLCODE'], right_on = ['VILLCODE'])\n",
    "print(Taiwan_village_.shape )\n",
    "\n",
    "Taiwan_village_  = Taiwan_village_.merge(TW_School, left_on = ['VILLCODE'], right_on = ['VILLCODE'])\n",
    "print(Taiwan_village_.shape )\n",
    "\n",
    "Taiwan_village_  = Taiwan_village_.merge(TW_Tax, left_on = ['VILLCODE'], right_on = ['VILLCODE'])\n",
    "print(Taiwan_village_.shape )\n",
    "\n",
    "Taiwan_village_  = Taiwan_village_.merge(TW_Temple, left_on = ['VILLCODE'], right_on = ['VILLCODE'])\n",
    "print(Taiwan_village_.shape )\n",
    "\n",
    "Taiwan_village_  = Taiwan_village_.merge(TW_Train,left_on = ['VILLCODE'], right_on = ['VILLCODE'])\n",
    "print(Taiwan_village_.shape )\n",
    "\n",
    "Taiwan_village_['Hospital'] = Taiwan_village_[['Hospital_1','Hospital_2','Hospital_3']].sum(axis=1)\n",
    "Taiwan_village_['Clinic'] = Taiwan_village_['Hospital_4']\n",
    "print(Taiwan_village_.shape)\n",
    "print(Taiwan_village_.columns, len(Taiwan_village_.columns))\n"
   ]
  },
  {
   "cell_type": "code",
   "execution_count": 185,
   "metadata": {},
   "outputs": [
    {
     "data": {
      "text/plain": [
       "Index(['VILLCODE', 'COUNTYNAME', 'TOWNNAME', 'VILLNAME', 'VILLENG', 'COUNTYID',\n",
       "       'COUNTYCODE', 'TOWNID', 'TOWNCODE', 'NOTE', 'geometry', 'Cluster',\n",
       "       'high_rat', 'mid_rat', 'low_rat', 'high_edu', 'mid_edu', 'low_edu',\n",
       "       'Hospital_1', 'Hospital_2', 'Hospital_3', 'Hospital_4', 'VILLAGE',\n",
       "       'M_F_RAT', 'P_H_CNT', 'P_DEN', 'DEPENDENCY', 'A0A14_A15A', 'A65UP_A15A',\n",
       "       'A65_A0A14_', 'H_CNT', 'P_CNT', 'M_CNT', 'F_CNT', 'Elementary',\n",
       "       'Elementa_1', 'Junior_hig', 'Junior_h_1', 'Senior_hig', 'Senior_h_1',\n",
       "       'TaxPayer', 'Tax_total', 'Tax_mean', 'Tax_median', 'Tax_Q1', 'Tax_Q3',\n",
       "       'Tax_stande', 'Tax_CV', 'Temple', 'Train-stat', 'Train-crow',\n",
       "       'Hospital', 'Clinic'],\n",
       "      dtype='object')"
      ]
     },
     "execution_count": 185,
     "metadata": {},
     "output_type": "execute_result"
    }
   ],
   "source": [
    "Taiwan_village_.columns"
   ]
  },
  {
   "cell_type": "code",
   "execution_count": 186,
   "metadata": {},
   "outputs": [
    {
     "name": "stdout",
     "output_type": "stream",
     "text": [
      "53\n"
     ]
    }
   ],
   "source": [
    "col = ['VILLCODE', 'COUNTYNAME', 'TOWNNAME', 'VILLNAME', 'VILLENG', 'COUNTYID',\n",
    "       'COUNTYCODE', 'TOWNID', 'TOWNCODE', 'NOTE', 'geometry', 'Cluster',\n",
    "       'high_rat', 'mid_rat', 'low_rat', 'high_edu', 'mid_edu', 'low_edu',\n",
    "       'Hospital_1', 'Hospital_2', 'Hospital_3', 'Hospital_4', 'VILLAGE',\n",
    "       'M_F_RAT', 'P_H_CNT', 'P_DEN', 'DEPENDENCY', 'YOUN_DEP', 'OLD_DEP', \n",
    "       'AGING_IDX', 'H_CNT', 'P_CNT', 'M_CNT', 'F_CNT', 'Ele', \n",
    "       'Ele_stu', 'Junior', 'Junior_stu', 'Senior', 'Senior_stu', \n",
    "       'TaxPayer', 'Income_total','Income_mean', 'Income_median', 'Income_Q1',\n",
    "       'Income_Q3', 'Income_stande', 'Income_CV',  'Temple', 'Train-stat',\n",
    "       'Train-crow','Hospital', 'Clinic']\n",
    "print(len(col))\n",
    "Taiwan_village_.columns = col\n",
    "Taiwan_village_ = Taiwan_village_.drop('VILLAGE', axis = 1)"
   ]
  },
  {
   "cell_type": "markdown",
   "metadata": {},
   "source": [
    "#### Add the Area and Centroid"
   ]
  },
  {
   "cell_type": "code",
   "execution_count": 187,
   "metadata": {},
   "outputs": [
    {
     "name": "stderr",
     "output_type": "stream",
     "text": [
      "C:\\Users\\ChenWenRu\\anaconda3\\lib\\site-packages\\geopandas\\array.py:85: ShapelyDeprecationWarning: __len__ for multi-part geometries is deprecated and will be removed in Shapely 2.0. Check the length of the `geoms` property instead to get the  number of parts of a multi-part geometry.\n",
      "  aout[:] = out\n"
     ]
    }
   ],
   "source": [
    "\n",
    "Taiwan_village_ = gpd.GeoDataFrame(Taiwan_village_, geometry = 'geometry')\n",
    "Taiwan_village_.crs = Taiwan_village.crs\n",
    "\n",
    "Taiwan_village_ = Taiwan_village_.to_crs(\"EPSG:3826\")\n",
    "Taiwan_village_[\"Area_sqkm\"] = Taiwan_village_.area/1000000\n"
   ]
  },
  {
   "cell_type": "code",
   "execution_count": 188,
   "metadata": {},
   "outputs": [
    {
     "name": "stderr",
     "output_type": "stream",
     "text": [
      "C:\\Users\\ChenWenRu\\anaconda3\\lib\\site-packages\\geopandas\\array.py:524: ShapelyDeprecationWarning: The array interface is deprecated and will no longer work in Shapely 2.0. Convert the '.coords' to a numpy array instead.\n",
      "  return _unary_geo(\"centroid\", self)\n",
      "C:\\Users\\ChenWenRu\\anaconda3\\lib\\site-packages\\geopandas\\geoseries.py:133: ShapelyDeprecationWarning: The array interface is deprecated and will no longer work in Shapely 2.0. Convert the '.coords' to a numpy array instead.\n",
      "  data = from_shapely(s.values)\n"
     ]
    }
   ],
   "source": [
    "Taiwan_village_[\"X\"] = Taiwan_village_.centroid.x\n",
    "Taiwan_village_[\"Y\"] = Taiwan_village_.centroid.y"
   ]
  },
  {
   "cell_type": "code",
   "execution_count": 189,
   "metadata": {},
   "outputs": [
    {
     "data": {
      "text/plain": [
       "{'proj': 'longlat', 'ellps': 'GRS80', 'no_defs': True}"
      ]
     },
     "execution_count": 189,
     "metadata": {},
     "output_type": "execute_result"
    }
   ],
   "source": [
    "Taiwan_village.crs"
   ]
  },
  {
   "cell_type": "code",
   "execution_count": 190,
   "metadata": {},
   "outputs": [
    {
     "data": {
      "text/plain": [
       "(7939, 55)"
      ]
     },
     "execution_count": 190,
     "metadata": {},
     "output_type": "execute_result"
    }
   ],
   "source": [
    "Taiwan_village_.shape"
   ]
  },
  {
   "cell_type": "code",
   "execution_count": 191,
   "metadata": {},
   "outputs": [],
   "source": [
    "Taiwan_village_.to_csv('..\\\\..\\\\Roaming-Dogs-Data\\@Taiwan_village_variable\\\\Taiwan_village_variable.csv', encoding='utf-8')"
   ]
  },
  {
   "cell_type": "code",
   "execution_count": 192,
   "metadata": {},
   "outputs": [],
   "source": [
    "Taiwan_village_.to_file(driver='ESRI Shapefile', \\\n",
    "    filename='..\\\\..\\\\Roaming-Dogs-Data\\@Taiwan_village_variable\\\\Taiwan_village_variable.shp', encoding=\"Big5\")\n"
   ]
  },
  {
   "cell_type": "markdown",
   "metadata": {},
   "source": [
    "#### CodeBook"
   ]
  },
  {
   "cell_type": "code",
   "execution_count": 193,
   "metadata": {},
   "outputs": [
    {
     "name": "stdout",
     "output_type": "stream",
     "text": [
      "{'VILLCODE': '縣市名稱', 'COUNTYNAME': '鄉鎮市區名稱', 'TOWNNAME': '村里名稱', 'VILLNAME': '村里英文', 'VILLENG': '縣市ID', 'COUNTYID': '縣市代碼', 'COUNTYCODE': '鄉鎮市區ID', 'TOWNID': '鄉鎮市區代碼', 'TOWNCODE': '村里代碼', 'NOTE': '備註', 'Cluster': '分群', 'high_rat': '高等教育人口比', 'mid_rat': '中等教育人口比', 'low_rat': '初等教育人口比', 'high_edu': '高等教育人口', 'mid_edu': '中等教育人口', 'low_edu': '初等教育人口', 'Hospital_1': '醫學中心', 'Hospital_2': '區域醫院', 'Hospital_3': '地區醫院', 'Hospital_4': '診所', 'M_F_RAT': '性比例', 'P_H_CNT': '戶量', 'P_DEN': '人口密度', 'DEPENDENCY': '扶養比', 'YOUN_DEP': '扶幼比', 'OLD_DEP': '扶老比', 'AGING_IDX': '老化指數', 'H_CNT': '戶數', 'P_CNT': '人口數', 'M_CNT': '男性人口數', 'F_CNT': '女性人口數', 'Ele': '國小數量', 'Ele_stu': '國小學生數', 'Junior': '國中數量', 'Junior_stu': '國中學生數量', 'Senior': '高中數量', 'Senior_stu': '高中學生數量', 'TaxPayer': '納稅單位', 'Income_total': '綜合所得總額', 'Income_mean': '所得平均數', 'Income_median': '所得中位數', 'Income_Q1': '所得第一分位數', 'Income_Q3': '所得第三分位數', 'Income_stande': '所得標準差', 'Income_CV': '所得變異係數', 'Temple': '廟宇數量', 'Train-stat': '台鐵火車站站數', 'Train-crow': '台鐵人流', 'Hospital': '醫學中心+區域醫院+地區醫院', 'Clinic': '診所'}\n"
     ]
    }
   ],
   "source": [
    "col_explain= ['縣市名稱', \"鄉鎮市區名稱\",'村里名稱', '村里英文' , \"縣市ID\",\\\n",
    "            '縣市代碼', \"鄉鎮市區ID\", '鄉鎮市區代碼','村里代碼', '備註','分群',\\\n",
    "            '高等教育人口比','中等教育人口比','初等教育人口比',\\\n",
    "            '高等教育人口','中等教育人口','初等教育人口','醫學中心', '區域醫院', '地區醫院','診所', '性比例',\\\n",
    "            '戶量','人口密度','扶養比','扶幼比','扶老比',\\\n",
    "            '老化指數','戶數',\"人口數\",'男性人口數','女性人口數',\\\n",
    "            '國小數量','國小學生數','國中數量','國中學生數量','高中數量',\\\n",
    "            '高中學生數量','納稅單位', '綜合所得總額', '所得平均數','所得中位數', \\\n",
    "            '所得第一分位數', '所得第三分位數','所得標準差', '所得變異係數','廟宇數量',\\\n",
    "            '台鐵火車站站數','台鐵人流', \"醫學中心+區域醫院+地區醫院\",'診所']\n",
    "col = ['VILLCODE', 'COUNTYNAME', 'TOWNNAME', 'VILLNAME', 'VILLENG', 'COUNTYID',\n",
    "       'COUNTYCODE', 'TOWNID', 'TOWNCODE', 'NOTE', 'Cluster',\n",
    "       'high_rat', 'mid_rat', 'low_rat', 'high_edu', 'mid_edu', 'low_edu',\n",
    "       'Hospital_1', 'Hospital_2', 'Hospital_3', 'Hospital_4',\n",
    "       'M_F_RAT', 'P_H_CNT', 'P_DEN', 'DEPENDENCY', 'YOUN_DEP', 'OLD_DEP', \n",
    "       'AGING_IDX', 'H_CNT',  'P_CNT', 'M_CNT', 'F_CNT', 'Ele', \n",
    "       'Ele_stu', 'Junior', 'Junior_stu', 'Senior', 'Senior_stu', \n",
    "       'TaxPayer', 'Income_total','Income_mean', 'Income_median', 'Income_Q1',\n",
    "       'Income_Q3', 'Income_stande', 'Income_CV',  'Temple', 'Train-stat',\n",
    "       'Train-crow','Hospital', 'Clinic']\n",
    "\n",
    "x = zip(col, col_explain)\n",
    "codebook = dict(x)\n",
    "print(codebook)\n",
    "\n",
    "with open('..\\\\..\\\\Roaming-Dogs-Data\\\\@Taiwan_village_variable\\\\CodeBook.txt', 'w') as f: \n",
    "    for key, value in codebook.items(): \n",
    "        f.write('%s:%s\\n' % (key, value))\n",
    "with open('..\\\\..\\\\Roaming-Dogs-Data\\\\@Taiwan_sampling_village_variable\\\\CodeBook.txt', 'w') as f: \n",
    "    for key, value in codebook.items(): \n",
    "        f.write('%s:%s\\n' % (key, value))"
   ]
  },
  {
   "cell_type": "markdown",
   "metadata": {},
   "source": [
    "### Sampling villages \n",
    "    經整理有 628 里"
   ]
  },
  {
   "cell_type": "code",
   "execution_count": 194,
   "metadata": {},
   "outputs": [
    {
     "name": "stderr",
     "output_type": "stream",
     "text": [
      "C:\\Users\\ChenWenRu\\anaconda3\\lib\\site-packages\\geopandas\\array.py:85: ShapelyDeprecationWarning: __len__ for multi-part geometries is deprecated and will be removed in Shapely 2.0. Check the length of the `geoms` property instead to get the  number of parts of a multi-part geometry.\n",
      "  aout[:] = out\n"
     ]
    }
   ],
   "source": [
    "path ='..\\\\..\\\\Roaming-Dogs-Data\\\\zz_期末報告\\\\'\n",
    "N = pd.read_csv(path+'109_推估結果_村里.csv' ,encoding=\"big5\")\n",
    "Taiwan_village_variable = gpd.read_file(\"..\\\\..\\\\Roaming-Dogs-Data\\\\@Taiwan_village_variable\\\\Taiwan_village_variable.shp\",encoding=\"big5\")"
   ]
  },
  {
   "cell_type": "code",
   "execution_count": 195,
   "metadata": {},
   "outputs": [],
   "source": [
    "Variable_XY = Taiwan_village_variable.merge(N, left_on = ['COUNTYNAME','TOWNNAME','VILLNAME'],\\\n",
    "    right_on = ['COUNTYNAME','TOWNNAME','VILLNAME'], how = 'right')\n",
    "idx = (Variable_XY[\"TOWNNAME\"].isnull())"
   ]
  },
  {
   "cell_type": "markdown",
   "metadata": {},
   "source": [
    "1. 進學里：由大南里、**進學里**進行整編，大南門城、南門公園位於本里，以「南門里」為新里名。\n",
    "2. 五妃里： 改名為郡王里\n",
    "3. 華興里：國興里、**華興里**（部分）進行整編，二里合併為合興里(107 年 )\n",
    "4. 顯宮里：更名為媽祖宮里(2021/04)\n",
    "5. 保西里：安加里、**保西里**進行整編，二里合為安加里(107 年)\n",
    "6. 大同里：**大同里**、六嘉里進行整編，二里合為嘉同里(107 年)\n",
    "7. 西庄里：**西庄里**、東庄里進行整編，二里合為東西庄里(107 年)\n",
    "8. 拔林里：**拔林里**、渡頭里進行整編，二里合為渡拔里(107 年)\n",
    "9. 仁和里：找不到\n",
    "10. 永昌里：永光、永順、**永昌**，3里合併為永光里\n",
    "11. 萬年里：一心里（一心、萬年，2里合併）\n",
    "12. 南瑤里：疆界shp檔里名為\"南?里\"\n",
    "13. 鹽洲里：疆界shp檔里名為 ?洲里\n",
    "14~16. 鐵花里、強國里、建業里：會重新整合合併 (http://suggest.taitungcity.gov.tw/village/qna.htm)\n",
    "\n"
   ]
  },
  {
   "cell_type": "code",
   "execution_count": 196,
   "metadata": {},
   "outputs": [],
   "source": [
    "path ='..\\\\..\\\\Roaming-Dogs-Data\\\\zz_期末報告\\\\'\n",
    "N = pd.read_csv(path+'109_推估結果_村里.csv' ,encoding=\"big5\")\n",
    "Taiwan_village_variable = gpd.read_file(\"..\\\\..\\\\Roaming-Dogs-Data\\\\@Taiwan_village_variable\\\\Taiwan_village_variable.shp\",encoding=\"big5\")"
   ]
  },
  {
   "cell_type": "code",
   "execution_count": 197,
   "metadata": {},
   "outputs": [],
   "source": [
    "Variable_XY = Taiwan_village_variable.merge(N[['COUNTYNAME','TOWNNAME','VILLNAME',\"Nr\"]], left_on = ['COUNTYNAME','TOWNNAME','VILLNAME'], right_on = ['COUNTYNAME','TOWNNAME','VILLNAME'], how = 'inner')"
   ]
  },
  {
   "cell_type": "code",
   "execution_count": 198,
   "metadata": {},
   "outputs": [
    {
     "name": "stdout",
     "output_type": "stream",
     "text": [
      "(616, 56)\n"
     ]
    }
   ],
   "source": [
    "print(Variable_XY.shape)\n",
    "Variable_XY = gpd.GeoDataFrame(Variable_XY, geometry = 'geometry', crs =Taiwan_village_variable.crs )\n"
   ]
  },
  {
   "cell_type": "code",
   "execution_count": 199,
   "metadata": {},
   "outputs": [],
   "source": [
    "\n",
    "Variable_XY.to_file(driver='ESRI Shapefile', \\\n",
    "    filename='..\\\\..\\\\Roaming-Dogs-Data\\\\@Taiwan_sampling_village_variable\\\\Taiwan_sampling_village_variable.shp', encoding=\"Big5\")"
   ]
  }
 ],
 "metadata": {
  "interpreter": {
   "hash": "5c1f92212ab31ba0e82aa63c923810efcac412c36286e8f762ba05b30cbe558f"
  },
  "kernelspec": {
   "display_name": "Python 3.9.6 64-bit",
   "language": "python",
   "name": "python3"
  },
  "language_info": {
   "codemirror_mode": {
    "name": "ipython",
    "version": 3
   },
   "file_extension": ".py",
   "mimetype": "text/x-python",
   "name": "python",
   "nbconvert_exporter": "python",
   "pygments_lexer": "ipython3",
   "version": "3.8.8"
  },
  "orig_nbformat": 4
 },
 "nbformat": 4,
 "nbformat_minor": 2
}
