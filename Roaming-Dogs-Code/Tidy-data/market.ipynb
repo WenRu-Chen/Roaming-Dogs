{
 "cells": [
  {
   "cell_type": "code",
   "execution_count": 17,
   "metadata": {},
   "outputs": [],
   "source": [
    "import pandas as pd \n",
    "from shapely.geometry import Point\n",
    "import geopandas as gpd\n",
    "import numpy as np\n",
    "from collections import Counter\n",
    "\n",
    "## import my modules\n",
    "import sys\n",
    "sys.path.append(\"..\\\\modules\")\n",
    "import convert\n",
    "import aggregation"
   ]
  },
  {
   "cell_type": "code",
   "execution_count": 21,
   "metadata": {},
   "outputs": [],
   "source": [
    "path = \"..\\\\..\\\\Roaming-Dogs-Data\\\\\"\n",
    "market_KS = pd.read_csv(path+'Market\\\\高雄\\\\all-retail-market.csv', encoding='big5')\n",
    "market_KS = convert.Csv_to_Shp(market_KS,coor = [\"X\",\"Y\"])\n",
    "Taiwan_village = gpd.read_file(path+\"Taiwan_village\\\\VILLAGE_MOI_1101214.shp\",encoding=\"utf-8\")\n",
    "\n"
   ]
  },
  {
   "cell_type": "code",
   "execution_count": 30,
   "metadata": {},
   "outputs": [
    {
     "name": "stderr",
     "output_type": "stream",
     "text": [
      "C:\\Users\\ChenWenRu\\anaconda3\\lib\\site-packages\\pyproj\\crs\\crs.py:131: FutureWarning: '+init=<authority>:<code>' syntax is deprecated. '<authority>:<code>' is the preferred initialization method. When making the change, be mindful of axis order changes: https://pyproj4.github.io/pyproj/stable/gotchas.html#axis-order-changes-in-proj-6\n",
      "  in_crs_string = _prepare_from_proj_string(in_crs_string)\n",
      "C:\\Users\\ChenWenRu\\anaconda3\\lib\\site-packages\\geopandas\\array.py:85: ShapelyDeprecationWarning: __len__ for multi-part geometries is deprecated and will be removed in Shapely 2.0. Check the length of the `geoms` property instead to get the  number of parts of a multi-part geometry.\n",
      "  aout[:] = out\n"
     ]
    }
   ],
   "source": [
    "market_KS_list = aggregation.HowManyPoint(Taiwan_village, market_KS, x = \"VILLCODE\")\n",
    "Taiwan_village_market_KS = pd.concat([Taiwan_village.set_index('VILLCODE'),market_KS_list],axis=1, join = 'outer')\n"
   ]
  },
  {
   "cell_type": "code",
   "execution_count": 31,
   "metadata": {},
   "outputs": [
    {
     "name": "stdout",
     "output_type": "stream",
     "text": [
      "Index(['COUNTYNAME', 'TOWNNAME', 'VILLNAME', 'VILLENG', 'COUNTYID',\n",
      "       'COUNTYCODE', 'TOWNID', 'TOWNCODE', 'NOTE', 'geometry', 'Market',\n",
      "       'VILLCODE'],\n",
      "      dtype='object')\n"
     ]
    }
   ],
   "source": [
    "col = ['COUNTYNAME',   'TOWNNAME',   'VILLNAME',    'VILLENG',   'COUNTYID',\n",
    "       'COUNTYCODE',     'TOWNID',   'TOWNCODE',       'NOTE',   'geometry',\n",
    "                  \"Market\"]\n",
    "Taiwan_village_market_KS.columns = col\n",
    "Taiwan_village_market_KS['VILLCODE'] = Taiwan_village_market_KS.index\n",
    "print(Taiwan_village_market_KS.columns)"
   ]
  },
  {
   "cell_type": "code",
   "execution_count": 14,
   "metadata": {},
   "outputs": [],
   "source": [
    "\n",
    "Taiwan_village_market_KS.to_file(driver='ESRI Shapefile', \\\n",
    "    filename=path+'Market\\高雄\\Market_KS.shp', encoding=\"Big5\")"
   ]
  }
 ],
 "metadata": {
  "interpreter": {
   "hash": "130cb21ae947994e67709f98b0e7febef99d570d5d2bf1331cc020fa608bd67a"
  },
  "kernelspec": {
   "display_name": "Python 3.8.8 64-bit (conda)",
   "language": "python",
   "name": "python3"
  },
  "language_info": {
   "codemirror_mode": {
    "name": "ipython",
    "version": 3
   },
   "file_extension": ".py",
   "mimetype": "text/x-python",
   "name": "python",
   "nbconvert_exporter": "python",
   "pygments_lexer": "ipython3",
   "version": "3.8.8"
  },
  "orig_nbformat": 4
 },
 "nbformat": 4,
 "nbformat_minor": 2
}
