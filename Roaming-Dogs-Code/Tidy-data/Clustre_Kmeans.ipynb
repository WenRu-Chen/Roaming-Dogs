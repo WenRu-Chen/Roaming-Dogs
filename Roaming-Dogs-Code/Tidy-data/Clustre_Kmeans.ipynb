{
 "cells": [
  {
   "cell_type": "markdown",
   "metadata": {},
   "source": [
    "## 重新分群\n",
    "\n",
    "- 要重新做記得要重新跑一遍 `Organising-materials`"
   ]
  },
  {
   "cell_type": "code",
   "execution_count": 15,
   "metadata": {},
   "outputs": [],
   "source": [
    "import pandas as pd \n",
    "from shapely.geometry import Point\n",
    "import geopandas as gpd\n",
    "import numpy as np\n",
    "from collections import Counter\n",
    "import math\n",
    "import matplotlib.pyplot as plt\n",
    "import seaborn as sns\n",
    "## import my modules\n",
    "import sys\n",
    "sys.path.append(\"..\\\\modules\")\n",
    "import convert\n",
    "import aggregation\n",
    "\n",
    "## for k means\n",
    "\n",
    "from sklearn.cluster import KMeans"
   ]
  },
  {
   "cell_type": "code",
   "execution_count": 16,
   "metadata": {},
   "outputs": [],
   "source": [
    "Taiwan_village_variable = gpd.read_file(\"..\\\\..\\\\Roaming-Dogs-Data\\\\@Taiwan_village_variable\\\\Taiwan_village_variable.shp\",encoding=\"big5\")\n",
    "Taiwan_village_variable = Taiwan_village_variable.set_index(\"VILLCODE\")\n"
   ]
  },
  {
   "cell_type": "code",
   "execution_count": 17,
   "metadata": {},
   "outputs": [
    {
     "data": {
      "text/plain": [
       "(7939, 54)"
      ]
     },
     "execution_count": 17,
     "metadata": {},
     "output_type": "execute_result"
    }
   ],
   "source": [
    "Taiwan_village_variable.shape"
   ]
  },
  {
   "cell_type": "markdown",
   "metadata": {},
   "source": [
    "- 使用依照人口密度(P_DEN)、專科以上人口比例(high_rat)、老化指數(AGING_IDX)等變數，以群分析（Kmeans）作為全台灣都市化程度分為四層。\n",
    "- 原本只是照區做分群，現在照村里，單位更細\n",
    "- 原本有農業人口比例，但是我找不到！\n",
    "- 原本用老年人口比例，但這次改用老化指數\n",
    "\n"
   ]
  },
  {
   "cell_type": "code",
   "execution_count": 18,
   "metadata": {},
   "outputs": [],
   "source": [
    "col_kmeans = [\"P_DEN\", \"high_rat\", \"AGING_IDX\"]"
   ]
  },
  {
   "cell_type": "markdown",
   "metadata": {},
   "source": [
    "尋找nan\n",
    "- [[link]](https://blog.csdn.net/u012387178/article/details/52571725)"
   ]
  },
  {
   "cell_type": "code",
   "execution_count": 19,
   "metadata": {},
   "outputs": [
    {
     "name": "stdout",
     "output_type": "stream",
     "text": [
      "P_DEN        True\n",
      "high_rat     True\n",
      "AGING_IDX    True\n",
      "dtype: bool\n",
      "7658\n"
     ]
    }
   ],
   "source": [
    "df_kmeans = Taiwan_village_variable[col_kmeans]\n",
    "print(df_kmeans.isnull().any()) # 都有nan\n",
    "\n",
    "not_null_list = []\n",
    "\n",
    "for i in col_kmeans:\n",
    "    not_null_0 = df_kmeans[df_kmeans[i].isnull().values != True].index\n",
    "    not_null_list.append(not_null_0)\n",
    "    \n",
    "not_null = not_null_list[0]\n",
    "\n",
    "for n  in not_null_list[1:]:\n",
    "    not_null = not_null.intersection(n)\n",
    "\n",
    "\n",
    "print(len(not_null))"
   ]
  },
  {
   "cell_type": "code",
   "execution_count": 20,
   "metadata": {},
   "outputs": [
    {
     "name": "stdout",
     "output_type": "stream",
     "text": [
      "(7658, 3)\n"
     ]
    },
    {
     "data": {
      "text/plain": [
       "P_DEN        False\n",
       "high_rat     False\n",
       "AGING_IDX    False\n",
       "dtype: bool"
      ]
     },
     "execution_count": 20,
     "metadata": {},
     "output_type": "execute_result"
    }
   ],
   "source": [
    "df_kmeans = df_kmeans.loc[not_null]\n",
    "print(df_kmeans.shape)\n",
    "df_kmeans.isnull().any()"
   ]
  },
  {
   "cell_type": "code",
   "execution_count": 21,
   "metadata": {},
   "outputs": [],
   "source": [
    "from sklearn.preprocessing import StandardScaler\n",
    "\n",
    "scaler = StandardScaler().fit(df_kmeans)\n",
    "df_X_scaled = scaler.transform(df_kmeans)\n",
    "df_X_scaled = np.insert(df_X_scaled.T,0,df_kmeans.index,axis= 0)\n",
    "df_X_scaled = pd.DataFrame(dict(zip([\"VILLCODE\"]+col_kmeans, df_X_scaled)))\n",
    "df_X_scaled = df_X_scaled.set_index(\"VILLCODE\")\n",
    "df_X_scaled.index = [int(x) for x in df_X_scaled.index]\n",
    "df_X_scaled.index = [str(x) for x in df_X_scaled.index]"
   ]
  },
  {
   "cell_type": "code",
   "execution_count": 22,
   "metadata": {},
   "outputs": [],
   "source": [
    "most_com = Counter(df_kmeans.index).most_common(40)\n",
    "\n",
    "most_com_villcode = []\n",
    "\n",
    "for i in range(40):\n",
    "    if float(most_com[i][1]) >1:\n",
    "        most_com_villcode.append(most_com[i][0])\n"
   ]
  },
  {
   "cell_type": "code",
   "execution_count": 23,
   "metadata": {},
   "outputs": [
    {
     "name": "stdout",
     "output_type": "stream",
     "text": [
      "[]\n"
     ]
    }
   ],
   "source": [
    "print(most_com_villcode) # 確定沒有重複的村里"
   ]
  },
  {
   "cell_type": "markdown",
   "metadata": {},
   "source": [
    "### Kmeans"
   ]
  },
  {
   "cell_type": "markdown",
   "metadata": {},
   "source": [
    "#### Elbow Method plot\n",
    "- 中文教學 [[link]](https://medium.com/@pahome.chen/clustering%E6%B1%BA%E5%AE%9A%E5%88%86%E7%BE%A4%E6%95%B8%E7%9A%84%E6%96%B9%E6%B3%95-abedc1d81ccb)"
   ]
  },
  {
   "cell_type": "code",
   "execution_count": 24,
   "metadata": {},
   "outputs": [],
   "source": [
    "# distortions = []\n",
    "# K = range(2,10)\n",
    "# for k in K:\n",
    "#     kmeanModel = KMeans(init='random',n_clusters=k,random_state=100,  max_iter=10000, n_init=100)\n",
    "#     kmeanModel.fit(df_X_scaled)\n",
    "#     distortions.append(kmeanModel.inertia_)"
   ]
  },
  {
   "cell_type": "code",
   "execution_count": 25,
   "metadata": {},
   "outputs": [],
   "source": [
    "# plt.figure(figsize=(16,8))\n",
    "# plt.plot(K, distortions, 'bx-')\n",
    "# plt.xlabel('k')\n",
    "# plt.ylabel('Distortion')\n",
    "# plt.title('The Elbow Method showing the optimal k')\n",
    "# plt.show()"
   ]
  },
  {
   "cell_type": "code",
   "execution_count": 26,
   "metadata": {},
   "outputs": [],
   "source": [
    "col_Cluster = []\n",
    "for i in range(2,6):\n",
    "    kmeans = KMeans(init='random',random_state=10000, n_clusters=i, max_iter=10000, n_init=100).fit(df_X_scaled)\n",
    "    df_kmeans[f\"Clu_new_{i}\"] = kmeans.labels_\n",
    "    df_X_scaled[f\"Clu_new_{i}\"] = kmeans.labels_\n",
    "    col_Cluster.append(f\"Clu_new_{i}\")   "
   ]
  },
  {
   "cell_type": "code",
   "execution_count": 27,
   "metadata": {},
   "outputs": [
    {
     "name": "stdout",
     "output_type": "stream",
     "text": [
      "<class 'str'> <class 'str'>\n"
     ]
    }
   ],
   "source": [
    "print(type(Taiwan_village_variable.index[0]),type(df_X_scaled.index[0]))"
   ]
  },
  {
   "cell_type": "code",
   "execution_count": 28,
   "metadata": {},
   "outputs": [
    {
     "name": "stdout",
     "output_type": "stream",
     "text": [
      "             Clu_new_2  Clu_new_3  Clu_new_4  Clu_new_5\n",
      "64000130006          0          1          1          3\n",
      "64000130008          0          1          1          3\n",
      "64000100010          0          1          1          3\n",
      "64000100013          0          1          1          3\n",
      "10013020003          0          1          1          3\n",
      "...                ...        ...        ...        ...\n",
      "10008110015          0          0          2          4\n",
      "67000290019          0          1          1          3\n",
      "10008010030          0          1          1          3\n",
      "10008010010          0          1          1          3\n",
      "10008010029          1          2          0          1\n",
      "\n",
      "[7658 rows x 4 columns]\n"
     ]
    }
   ],
   "source": [
    "print(df_X_scaled[col_Cluster])\n"
   ]
  },
  {
   "cell_type": "code",
   "execution_count": 29,
   "metadata": {},
   "outputs": [
    {
     "name": "stdout",
     "output_type": "stream",
     "text": [
      "              P_DEN  high_rat  AGING_IDX\n",
      "Clu_new_2                               \n",
      "0         -0.512157 -0.545183   0.206501\n",
      "1          0.953499  1.014986  -0.384450\n",
      "Counter({0: 4982, 1: 2676})\n",
      "              P_DEN  high_rat  AGING_IDX\n",
      "Clu_new_3                               \n",
      "0         -0.556197 -1.013381   1.743016\n",
      "1         -0.500803 -0.432523  -0.163086\n",
      "2          0.952922  1.015683  -0.385250\n",
      "Counter({1: 4016, 2: 2675, 0: 967})\n",
      "              P_DEN  high_rat  AGING_IDX\n",
      "Clu_new_4                               \n",
      "0          0.363871  1.087791  -0.414777\n",
      "1         -0.500803 -0.432523  -0.163086\n",
      "2         -0.556197 -1.013381   1.743016\n",
      "3          2.501879  0.826067  -0.307606\n",
      "Counter({1: 4016, 0: 1938, 2: 967, 3: 737})\n",
      "              P_DEN  high_rat  AGING_IDX\n",
      "Clu_new_5                               \n",
      "0          2.501879  0.826067  -0.307606\n",
      "1          0.363871  1.087791  -0.414777\n",
      "2         -0.563980 -1.063235   9.130697\n",
      "3         -0.500803 -0.432523  -0.163086\n",
      "4         -0.556016 -1.012220   1.571027\n",
      "Counter({3: 4016, 1: 1938, 4: 945, 0: 737, 2: 22})\n"
     ]
    }
   ],
   "source": [
    "for i in col_Cluster:\n",
    "    print(df_X_scaled[col_kmeans+[i]].groupby(by = i).mean())\n",
    "    print(Counter(df_X_scaled[i]))"
   ]
  },
  {
   "cell_type": "code",
   "execution_count": 30,
   "metadata": {},
   "outputs": [],
   "source": [
    "Taiwan_village_variable_new = pd.concat([Taiwan_village_variable, df_X_scaled[col_Cluster]], axis=1)"
   ]
  },
  {
   "cell_type": "code",
   "execution_count": 31,
   "metadata": {},
   "outputs": [],
   "source": [
    "Taiwan_village_variable_new.insert(0, \"VILLCODE\", Taiwan_village_variable_new.index, allow_duplicates=True)"
   ]
  },
  {
   "cell_type": "code",
   "execution_count": 32,
   "metadata": {},
   "outputs": [],
   "source": [
    "Taiwan_village_variable_new.to_file(driver='ESRI Shapefile', \\\n",
    "    filename='..\\\\..\\\\Roaming-Dogs-Data\\@Taiwan_village_variable\\\\Taiwan_village_variable.shp', encoding=\"Big5\")\n"
   ]
  },
  {
   "cell_type": "code",
   "execution_count": 33,
   "metadata": {},
   "outputs": [
    {
     "name": "stderr",
     "output_type": "stream",
     "text": [
      "C:\\Users\\ChenWenRu\\anaconda3\\lib\\site-packages\\geopandas\\array.py:85: ShapelyDeprecationWarning: __len__ for multi-part geometries is deprecated and will be removed in Shapely 2.0. Check the length of the `geoms` property instead to get the  number of parts of a multi-part geometry.\n",
      "  aout[:] = out\n"
     ]
    }
   ],
   "source": [
    "path ='..\\\\..\\\\Roaming-Dogs-Data\\\\zz_期末報告\\\\'\n",
    "N = pd.read_csv(path+'109_推估結果_村里.csv' ,encoding=\"big5\")\n",
    "Taiwan_village_variable = gpd.read_file(\"..\\\\..\\\\Roaming-Dogs-Data\\\\@Taiwan_village_variable\\\\Taiwan_village_variable.shp\",encoding=\"big5\", index = True)"
   ]
  },
  {
   "cell_type": "code",
   "execution_count": 34,
   "metadata": {},
   "outputs": [
    {
     "data": {
      "text/plain": [
       "Index(['VILLCODE', 'COUNTYNAME', 'TOWNNAME', 'VILLNAME', 'VILLENG', 'COUNTYID',\n",
       "       'COUNTYCODE', 'TOWNID', 'TOWNCODE', 'NOTE', 'Cluster', 'high_rat',\n",
       "       'mid_rat', 'low_rat', 'high_edu', 'mid_edu', 'low_edu', 'Hospital_1',\n",
       "       'Hospital_2', 'Hospital_3', 'Hospital_4', 'M_F_RAT', 'P_H_CNT', 'P_DEN',\n",
       "       'DEPENDENCY', 'YOUN_DEP', 'OLD_DEP', 'AGING_IDX', 'H_CNT', 'P_CNT',\n",
       "       'M_CNT', 'F_CNT', 'Ele', 'Ele_stu', 'Junior', 'Junior_stu', 'Senior',\n",
       "       'Senior_stu', 'TaxPayer', 'Income_tot', 'Income_mea', 'Income_med',\n",
       "       'Income_Q1', 'Income_Q3', 'Income_sta', 'Income_CV', 'Temple',\n",
       "       'Train-stat', 'Train-crow', 'Hospital', 'Clinic', 'Area_sqkm', 'X', 'Y',\n",
       "       'Clu_new_2', 'Clu_new_3', 'Clu_new_4', 'Clu_new_5', 'geometry'],\n",
       "      dtype='object')"
      ]
     },
     "execution_count": 34,
     "metadata": {},
     "output_type": "execute_result"
    }
   ],
   "source": [
    "Taiwan_village_variable.columns"
   ]
  },
  {
   "cell_type": "code",
   "execution_count": 35,
   "metadata": {},
   "outputs": [
    {
     "name": "stdout",
     "output_type": "stream",
     "text": [
      "(616, 60)\n"
     ]
    }
   ],
   "source": [
    "Variable_XY = Taiwan_village_variable.merge(N[['COUNTYNAME','TOWNNAME','VILLNAME',\"Nr\"]], left_on = ['COUNTYNAME','TOWNNAME','VILLNAME'], right_on = ['COUNTYNAME','TOWNNAME','VILLNAME'], how = 'inner')\n",
    "print(Variable_XY.shape)\n",
    "Variable_XY = gpd.GeoDataFrame(Variable_XY, geometry = 'geometry', crs =Taiwan_village_variable.crs )\n",
    "\n",
    "Variable_XY.to_file(driver='ESRI Shapefile', \\\n",
    "    filename='..\\\\..\\\\Roaming-Dogs-Data\\\\@Taiwan_sampling_village_variable\\\\Taiwan_sampling_village_variable.shp', encoding=\"Big5\")"
   ]
  }
 ],
 "metadata": {
  "interpreter": {
   "hash": "130cb21ae947994e67709f98b0e7febef99d570d5d2bf1331cc020fa608bd67a"
  },
  "kernelspec": {
   "display_name": "Python 3.8.8 64-bit (conda)",
   "language": "python",
   "name": "python3"
  },
  "language_info": {
   "codemirror_mode": {
    "name": "ipython",
    "version": 3
   },
   "file_extension": ".py",
   "mimetype": "text/x-python",
   "name": "python",
   "nbconvert_exporter": "python",
   "pygments_lexer": "ipython3",
   "version": "3.8.8"
  },
  "orig_nbformat": 4
 },
 "nbformat": 4,
 "nbformat_minor": 2
}
