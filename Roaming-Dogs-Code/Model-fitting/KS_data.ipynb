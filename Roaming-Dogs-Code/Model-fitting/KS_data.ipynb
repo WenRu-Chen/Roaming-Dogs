{
 "cells": [
  {
   "cell_type": "code",
   "execution_count": 1,
   "metadata": {},
   "outputs": [],
   "source": [
    "import pandas as pd \n",
    "from shapely.geometry import Point\n",
    "import geopandas as gpd\n",
    "import numpy as np\n",
    "from collections import Counter\n",
    "import seaborn as sns\n",
    "\n",
    "## import my modules\n",
    "import sys\n",
    "sys.path.append(\"..\\\\modules\")\n",
    "import convert\n",
    "import aggregation"
   ]
  },
  {
   "cell_type": "markdown",
   "metadata": {},
   "source": [
    "### 高雄市\n",
    "    抽 58 個里"
   ]
  },
  {
   "cell_type": "code",
   "execution_count": 2,
   "metadata": {},
   "outputs": [
    {
     "name": "stderr",
     "output_type": "stream",
     "text": [
      "C:\\Users\\ChenWenRu\\anaconda3\\lib\\site-packages\\geopandas\\array.py:85: ShapelyDeprecationWarning: __len__ for multi-part geometries is deprecated and will be removed in Shapely 2.0. Check the length of the `geoms` property instead to get the  number of parts of a multi-part geometry.\n",
      "  aout[:] = out\n"
     ]
    },
    {
     "name": "stdout",
     "output_type": "stream",
     "text": [
      "(58, 59) {'init': 'epsg:3826'}\n"
     ]
    }
   ],
   "source": [
    "path = \"..\\\\..\\\\Roaming-Dogs-Data\\\\\"\n",
    "Xy = gpd.read_file(path+\"@Taiwan_sampling_village_variable\\\\Taiwan_sampling_village_variable.shp\",encoding=\"big5\")\n",
    "market = gpd.read_file(path+\"Market\\高雄\\Market_KS.shp\",encoding=\"big5\")\n",
    "Xy.crs = {'init': 'epsg:3826'}\n",
    "market = market.set_index(\"VILLCODE\")\n",
    "market_KS = market[market[\"COUNTYNAME\"] == '高雄市']['Market']\n",
    "market_KS = market_KS.fillna(0)\n",
    "market_KS = market_KS.fillna(0)\n",
    "Xy_KS = Xy.set_index(\"VILLCODE\")\n",
    "Xy_KS = Xy_KS[Xy_KS[\"COUNTYNAME\"] == '高雄市']\n",
    "Xy_KS = pd.concat([market_KS, Xy_KS], axis = 1, join = 'inner')\n",
    "Xy_KS.crs ={'init': 'epsg:3826'}\n",
    "\n",
    "print(Xy_KS.shape, Xy_KS.crs)"
   ]
  },
  {
   "cell_type": "code",
   "execution_count": 4,
   "metadata": {},
   "outputs": [
    {
     "data": {
      "text/plain": [
       "Index(['Market', 'COUNTYNAME', 'TOWNNAME', 'VILLNAME', 'VILLENG', 'COUNTYID',\n",
       "       'COUNTYCODE', 'TOWNID', 'TOWNCODE', 'NOTE', 'Cluster', 'high_rat',\n",
       "       'mid_rat', 'low_rat', 'high_edu', 'mid_edu', 'low_edu', 'Hospital_1',\n",
       "       'Hospital_2', 'Hospital_3', 'Hospital_4', 'M_F_RAT', 'P_H_CNT', 'P_DEN',\n",
       "       'DEPENDENCY', 'YOUN_DEP', 'OLD_DEP', 'AGING_IDX', 'H_CNT', 'P_CNT',\n",
       "       'M_CNT', 'F_CNT', 'Ele', 'Ele_stu', 'Junior', 'Junior_stu', 'Senior',\n",
       "       'Senior_stu', 'TaxPayer', 'Income_tot', 'Income_mea', 'Income_med',\n",
       "       'Income_Q1', 'Income_Q3', 'Income_sta', 'Income_CV', 'Temple',\n",
       "       'Train-stat', 'Train-crow', 'Hospital', 'Clinic', 'Area_sqkm', 'X', 'Y',\n",
       "       'country', 'town', 'village', 'Nt', 'geometry'],\n",
       "      dtype='object')"
      ]
     },
     "execution_count": 4,
     "metadata": {},
     "output_type": "execute_result"
    }
   ],
   "source": [
    "Xy_KS.columns"
   ]
  },
  {
   "cell_type": "code",
   "execution_count": 81,
   "metadata": {},
   "outputs": [],
   "source": [
    "\n",
    "Xy_KS.to_csv(path+'@Test_KS\\\\Variable.csv')\n",
    "Xy_KS.to_file(driver='ESRI Shapefile', \\\n",
    "    filename=path+'@Test_KS\\\\Variable.shp', encoding=\"Big5\")\n",
    "\n"
   ]
  }
 ],
 "metadata": {
  "interpreter": {
   "hash": "130cb21ae947994e67709f98b0e7febef99d570d5d2bf1331cc020fa608bd67a"
  },
  "kernelspec": {
   "display_name": "Python 3.8.8 64-bit (conda)",
   "language": "python",
   "name": "python3"
  },
  "language_info": {
   "codemirror_mode": {
    "name": "ipython",
    "version": 3
   },
   "file_extension": ".py",
   "mimetype": "text/x-python",
   "name": "python",
   "nbconvert_exporter": "python",
   "pygments_lexer": "ipython3",
   "version": "3.8.8"
  },
  "orig_nbformat": 4
 },
 "nbformat": 4,
 "nbformat_minor": 2
}
