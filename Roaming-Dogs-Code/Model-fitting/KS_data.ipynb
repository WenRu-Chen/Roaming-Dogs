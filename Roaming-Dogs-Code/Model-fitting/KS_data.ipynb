{
 "cells": [
  {
   "cell_type": "code",
   "execution_count": 3,
   "metadata": {},
   "outputs": [],
   "source": [
    "import pandas as pd \n",
    "from shapely.geometry import Point\n",
    "import geopandas as gpd\n",
    "import numpy as np\n",
    "from collections import Counter\n",
    "import seaborn as sns\n",
    "\n",
    "## import my modules\n",
    "import sys\n",
    "sys.path.append(\"..\\\\modules\")\n",
    "import convert\n",
    "import aggregation"
   ]
  },
  {
   "cell_type": "markdown",
   "metadata": {},
   "source": [
    "### 高雄市\n",
    "    抽 58 個里"
   ]
  },
  {
   "cell_type": "code",
   "execution_count": 5,
   "metadata": {},
   "outputs": [
    {
     "name": "stdout",
     "output_type": "stream",
     "text": [
      "(58, 57)\n"
     ]
    }
   ],
   "source": [
    "path = \"..\\\\..\\\\Roaming-Dogs-Data\\\\\"\n",
    "Xy = gpd.read_file(path+\"@Taiwan_sampling_village_variable\\\\Taiwan_sampling_village_variable.shp\",encoding=\"big5\")\n",
    "\n",
    "market = gpd.read_file(path+\"Market\\高雄\\Market_KS.shp\",encoding=\"big5\")\n",
    "market = market.set_index(\"VILLCODE\")\n",
    "market_KS = market[market[\"COUNTYNAME\"] == '高雄市']['Market']\n",
    "market_KS = market_KS.fillna(0)\n",
    "market_KS = market_KS.fillna(0)\n",
    "Xy_KS = Xy.set_index(\"VILLCODE\")\n",
    "Xy_KS = Xy_KS[Xy_KS[\"COUNTYNAME\"] == '高雄市']\n",
    "Xy_KS = pd.concat([market_KS, Xy_KS], axis = 1, join = 'inner')\n",
    "Xy_KS.crs = {\"init\":\"epsg:4326\"}\n",
    "print(Xy_KS.shape)"
   ]
  },
  {
   "cell_type": "code",
   "execution_count": 8,
   "metadata": {},
   "outputs": [
    {
     "data": {
      "text/plain": [
       "{'init': 'epsg:4326'}"
      ]
     },
     "execution_count": 8,
     "metadata": {},
     "output_type": "execute_result"
    }
   ],
   "source": [
    "Xy_KS.crs"
   ]
  },
  {
   "cell_type": "code",
   "execution_count": 9,
   "metadata": {},
   "outputs": [],
   "source": [
    "\n",
    "Xy_KS.to_csv(path+'@Test_KS\\\\Variable.csv')\n",
    "Xy_KS.to_file(driver='ESRI Shapefile', \\\n",
    "    filename=path+'@Test_KS\\\\Variable.shp', encoding=\"Big5\")\n",
    "\n"
   ]
  }
 ],
 "metadata": {
  "interpreter": {
   "hash": "130cb21ae947994e67709f98b0e7febef99d570d5d2bf1331cc020fa608bd67a"
  },
  "kernelspec": {
   "display_name": "Python 3.8.8 64-bit (conda)",
   "language": "python",
   "name": "python3"
  },
  "language_info": {
   "codemirror_mode": {
    "name": "ipython",
    "version": 3
   },
   "file_extension": ".py",
   "mimetype": "text/x-python",
   "name": "python",
   "nbconvert_exporter": "python",
   "pygments_lexer": "ipython3",
   "version": "3.8.8"
  },
  "orig_nbformat": 4
 },
 "nbformat": 4,
 "nbformat_minor": 2
}
