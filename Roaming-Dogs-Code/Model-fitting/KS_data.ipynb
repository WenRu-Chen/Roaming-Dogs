{
 "cells": [
  {
   "cell_type": "code",
   "execution_count": 32,
   "metadata": {},
   "outputs": [],
   "source": [
    "import pandas as pd \n",
    "from shapely.geometry import Point\n",
    "import geopandas as gpd\n",
    "import numpy as np\n",
    "from collections import Counter\n",
    "import seaborn as sns\n",
    "\n",
    "## import my modules\n",
    "import sys\n",
    "sys.path.append(\"..\\\\modules\")\n",
    "import convert\n",
    "import aggregation"
   ]
  },
  {
   "cell_type": "markdown",
   "metadata": {},
   "source": [
    "### 高雄市\n",
    "    抽 58 個里"
   ]
  },
  {
   "cell_type": "code",
   "execution_count": 79,
   "metadata": {},
   "outputs": [
    {
     "name": "stderr",
     "output_type": "stream",
     "text": [
      "Exception ignored in: <function Collection.__del__ at 0x0000025C71F0F8B0>\n",
      "Traceback (most recent call last):\n",
      "  File \"C:\\Users\\ChenWenRu\\anaconda3\\lib\\site-packages\\fiona\\collection.py\", line 484, in __del__\n",
      "    self.close()\n",
      "  File \"C:\\Users\\ChenWenRu\\anaconda3\\lib\\site-packages\\fiona\\collection.py\", line 454, in close\n",
      "    if self.session is not None and self.session.isactive():\n",
      "AttributeError: 'Collection' object has no attribute 'session'\n"
     ]
    },
    {
     "name": "stdout",
     "output_type": "stream",
     "text": [
      "(58, 57) {'init': 'epsg:3826'}\n"
     ]
    }
   ],
   "source": [
    "path = \"..\\\\..\\\\Roaming-Dogs-Data\\\\\"\n",
    "Xy = gpd.read_file(path+\"@Taiwan_sampling_village_variable\\\\Taiwan_sampling_village_variable.shp\",encoding=\"big5\")\n",
    "market = gpd.read_file(path+\"Market\\高雄\\Market_KS.shp\",encoding=\"big5\")\n",
    "Xy.crs = {'init': 'epsg:3826'}\n",
    "market = market.set_index(\"VILLCODE\")\n",
    "market_KS = market[market[\"COUNTYNAME\"] == '高雄市']['Market']\n",
    "market_KS = market_KS.fillna(0)\n",
    "market_KS = market_KS.fillna(0)\n",
    "Xy_KS = Xy.set_index(\"VILLCODE\")\n",
    "Xy_KS = Xy_KS[Xy_KS[\"COUNTYNAME\"] == '高雄市']\n",
    "Xy_KS = pd.concat([market_KS, Xy_KS], axis = 1, join = 'inner')\n",
    "Xy_KS.crs ={'init': 'epsg:3826'}\n",
    "\n",
    "print(Xy_KS.shape, Xy_KS.crs)"
   ]
  },
  {
   "cell_type": "code",
   "execution_count": 77,
   "metadata": {},
   "outputs": [
    {
     "name": "stdout",
     "output_type": "stream",
     "text": [
      "3826\n"
     ]
    },
    {
     "name": "stderr",
     "output_type": "stream",
     "text": [
      "C:\\Users\\ChenWenRu\\anaconda3\\lib\\site-packages\\geopandas\\array.py:524: ShapelyDeprecationWarning: The array interface is deprecated and will no longer work in Shapely 2.0. Convert the '.coords' to a numpy array instead.\n",
      "  return _unary_geo(\"centroid\", self)\n",
      "C:\\Users\\ChenWenRu\\anaconda3\\lib\\site-packages\\geopandas\\geoseries.py:133: ShapelyDeprecationWarning: The array interface is deprecated and will no longer work in Shapely 2.0. Convert the '.coords' to a numpy array instead.\n",
      "  data = from_shapely(s.values)\n"
     ]
    }
   ],
   "source": [
    "print(Xy_KS.crs); \n",
    "Xy_KS['X'],Xy_KS['Y']  = Xy_KS.centroid.x, Xy_KS.centroid.y"
   ]
  },
  {
   "cell_type": "code",
   "execution_count": 80,
   "metadata": {},
   "outputs": [],
   "source": [
    "\n",
    "Xy_KS.to_csv(path+'@Test_KS\\\\Variable.csv')\n",
    "Xy_KS.to_file(driver='ESRI Shapefile', \\\n",
    "    filename=path+'@Test_KS\\\\Variable.shp', encoding=\"Big5\")\n",
    "\n"
   ]
  }
 ],
 "metadata": {
  "interpreter": {
   "hash": "130cb21ae947994e67709f98b0e7febef99d570d5d2bf1331cc020fa608bd67a"
  },
  "kernelspec": {
   "display_name": "Python 3.8.8 64-bit (conda)",
   "language": "python",
   "name": "python3"
  },
  "language_info": {
   "codemirror_mode": {
    "name": "ipython",
    "version": 3
   },
   "file_extension": ".py",
   "mimetype": "text/x-python",
   "name": "python",
   "nbconvert_exporter": "python",
   "pygments_lexer": "ipython3",
   "version": "3.8.8"
  },
  "orig_nbformat": 4
 },
 "nbformat": 4,
 "nbformat_minor": 2
}
