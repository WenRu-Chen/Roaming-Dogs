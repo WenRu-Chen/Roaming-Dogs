{
 "cells": [
  {
   "cell_type": "markdown",
   "metadata": {},
   "source": [
    "### Import packages"
   ]
  },
  {
   "cell_type": "code",
   "execution_count": 9,
   "metadata": {},
   "outputs": [
    {
     "name": "stderr",
     "output_type": "stream",
     "text": [
      "\n",
      "載入套件：'dplyr'\n",
      "\n",
      "\n",
      "下列物件被遮斷自 'package:MASS':\n",
      "\n",
      "    select\n",
      "\n",
      "\n",
      "下列物件被遮斷自 'package:gridExtra':\n",
      "\n",
      "    combine\n",
      "\n",
      "\n",
      "下列物件被遮斷自 'package:raster':\n",
      "\n",
      "    intersect, select, union\n",
      "\n",
      "\n",
      "下列物件被遮斷自 'package:stats':\n",
      "\n",
      "    filter, lag\n",
      "\n",
      "\n",
      "下列物件被遮斷自 'package:base':\n",
      "\n",
      "    intersect, setdiff, setequal, union\n",
      "\n",
      "\n",
      "載入需要的套件：carData\n",
      "\n",
      "\n",
      "載入套件：'car'\n",
      "\n",
      "\n",
      "下列物件被遮斷自 'package:dplyr':\n",
      "\n",
      "    recode\n",
      "\n",
      "\n"
     ]
    }
   ],
   "source": [
    "library(GWmodel)      ### GW models\n",
    "library(dplyr)\n",
    "library(sp)           ## Data management\n",
    "library(car)          ## vif\n",
    "library(spdep)        ## Spatial autocorrelation\n",
    "library(RColorBrewer) ## Visualization\n",
    "library(classInt)     ## Class intervals\n",
    "library(raster)       ## spatial data\n",
    "library(grid)         # plot\n",
    "library(gridExtra)    # Multiple plot\n",
    "library(ggplot2)      # Multiple plot\n",
    "library(gtable)\n",
    "library(GGally)       # 相關係數圖矩陣（scatter plot matrix）\n",
    "library(maptools)\n",
    "library(MASS)\n",
    "library(tmap)"
   ]
  },
  {
   "cell_type": "markdown",
   "metadata": {},
   "source": [
    "### Load datas"
   ]
  },
  {
   "cell_type": "code",
   "execution_count": 11,
   "metadata": {},
   "outputs": [
    {
     "data": {
      "text/html": [
       "'c:/@@Roaming_Dogs_Data_Analysis/Roaming-Dogs-Code/Model-fitting'"
      ],
      "text/latex": [
       "'c:/@@Roaming\\_Dogs\\_Data\\_Analysis/Roaming-Dogs-Code/Model-fitting'"
      ],
      "text/markdown": [
       "'c:/@@Roaming_Dogs_Data_Analysis/Roaming-Dogs-Code/Model-fitting'"
      ],
      "text/plain": [
       "[1] \"c:/@@Roaming_Dogs_Data_Analysis/Roaming-Dogs-Code/Model-fitting\""
      ]
     },
     "metadata": {},
     "output_type": "display_data"
    }
   ],
   "source": [
    "getwd()\n",
    "path = '..\\\\..\\\\Roaming-Dogs-Data\\\\'\n",
    "Variable_KS_df <- read.csv(paste0(path, \"@Test_KS\\\\Variable.csv\" ), fileEncoding = 'utf-8')\n",
    "Variable_KS_shp<-shapefile(paste0(path, \"@Test_KS\\\\Variable.shp\" ),warnPRJ = F)"
   ]
  },
  {
   "cell_type": "markdown",
   "metadata": {},
   "source": [
    "### select Xy"
   ]
  },
  {
   "cell_type": "code",
   "execution_count": 12,
   "metadata": {},
   "outputs": [],
   "source": [
    "col_X = c(\"Market\",\"Cluster\",   \n",
    "           \"high_rat\",   \"mid_rat\",    \"low_rat\",   \n",
    "          \"Hospital\" ,  \"Clinic\", \"M_F_RAT\" ,    \n",
    "           \"P_DEN\",      \"DEPENDENCY\", \"YOUN_DEP\",   \"OLD_DEP\",    \"AGING_IDX\",     \n",
    "           \"Ele\" ,       \"Ele_stu\",    \"Junior\" ,   \n",
    "           \"Junior_stu\", \"Senior\",     \"Senior_stu\", \"TaxPayer\" ,  \"Income_tot\", \"Income_mea\",\n",
    "           \"Income_med\" ,\"Income_Q1\",  \"Income_Q3\",  \"Income_sta\", \"Income_CV\",  \"Temple\",    \n",
    "           \"Train.stat\", \"Train.crow\" )\n",
    "col_y = c('Nt')"
   ]
  },
  {
   "cell_type": "code",
   "execution_count": 24,
   "metadata": {},
   "outputs": [
    {
     "data": {
      "text/plain": [
       "CRS arguments: +proj=longlat +datum=WGS84 +no_defs "
      ]
     },
     "metadata": {},
     "output_type": "display_data"
    },
    {
     "ename": "ERROR",
     "evalue": "Error in area(Variable_KS_shp$geometry): 缺少引數 \"b\"，也沒有預設值\n",
     "output_type": "error",
     "traceback": [
      "Error in area(Variable_KS_shp$geometry): 缺少引數 \"b\"，也沒有預設值\nTraceback:\n",
      "1. area(Variable_KS_shp$geometry)"
     ]
    }
   ],
   "source": [
    "crs(Variable_KS_shp) = CRS('+init=EPSG:4326')\n",
    "(crs(Variable_KS_shp))\n",
    "area(Variable_KS_shp$geometry)\n"
   ]
  },
  {
   "cell_type": "code",
   "execution_count": 5,
   "metadata": {},
   "outputs": [
    {
     "data": {
      "image/png": "[encoded data removed]",
      "text/plain": [
       "plot without title"
      ]
     },
     "metadata": {
      "image/png": {
       "height": 420,
       "width": 420
      }
     },
     "output_type": "display_data"
    }
   ],
   "source": [
    "Y_pdf = ggplot()+\n",
    "  geom_bar(aes(x = dt[,col_y]), fill = '#557C55', alpha = 0.8)+\n",
    "  xlab(\"\")+ylab(\"\")+theme_bw()\n",
    "\n",
    "Y_pdf"
   ]
  }
 ],
 "metadata": {
  "interpreter": {
   "hash": "130cb21ae947994e67709f98b0e7febef99d570d5d2bf1331cc020fa608bd67a"
  },
  "kernelspec": {
   "display_name": "R",
   "language": "R",
   "name": "ir"
  },
  "language_info": {
   "codemirror_mode": "r",
   "file_extension": ".r",
   "mimetype": "text/x-r-source",
   "name": "R",
   "pygments_lexer": "r",
   "version": "4.1.2"
  },
  "orig_nbformat": 4
 },
 "nbformat": 4,
 "nbformat_minor": 2
}
