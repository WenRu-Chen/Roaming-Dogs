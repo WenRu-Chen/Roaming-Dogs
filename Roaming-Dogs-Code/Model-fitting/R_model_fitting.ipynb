{
 "cells": [
  {
   "cell_type": "markdown",
   "metadata": {},
   "source": [
    "### Import packages"
   ]
  },
  {
   "cell_type": "code",
   "execution_count": 88,
   "metadata": {
    "vscode": {
     "languageId": "r"
    }
   },
   "outputs": [],
   "source": [
    "library(GWmodel)      ### GW models\n",
    "library(dplyr)\n",
    "library(sp)           ## Data management\n",
    "library(car)          ## vif\n",
    "library(spdep)        ## Spatial autocorrelation\n",
    "library(RColorBrewer) ## Visualization\n",
    "library(classInt)     ## Class intervals\n",
    "library(raster)       ## spatial data\n",
    "library(grid)         # plot\n",
    "library(gridExtra)    # Multiple plot\n",
    "library(ggplot2)      # Multiple plot\n",
    "library(gtable)\n",
    "library(GGally)       # 相關係數圖矩陣（scatter plot matrix）\n",
    "library(maptools)\n",
    "library(MASS)\n",
    "library(tmap)"
   ]
  },
  {
   "cell_type": "markdown",
   "metadata": {},
   "source": [
    "### Function"
   ]
  },
  {
   "cell_type": "markdown",
   "metadata": {},
   "source": [
    "#### pdf_plot"
   ]
  },
  {
   "cell_type": "code",
   "execution_count": 89,
   "metadata": {
    "vscode": {
     "languageId": "r"
    }
   },
   "outputs": [],
   "source": [
    "\n",
    "pdf_plot <- function(x){\n",
    "  g = ggplot()+\n",
    "    geom_histogram(aes(x = x, y = ..density..), \n",
    "                   fill = '#557C55', alpha = 0.8)+\n",
    "    geom_density(aes(x = x, y = ..density..), \n",
    "                 color = '#062C30', size = 1)+\n",
    "    theme_bw()\n",
    "  \n",
    "  return(g)\n",
    "}"
   ]
  },
  {
   "cell_type": "markdown",
   "metadata": {},
   "source": [
    "### Load datas"
   ]
  },
  {
   "cell_type": "code",
   "execution_count": 90,
   "metadata": {
    "vscode": {
     "languageId": "r"
    }
   },
   "outputs": [
    {
     "data": {
      "text/html": [
       "'c:/@@Roaming_Dogs_Data_Analysis/Roaming-Dogs-Code/Model-fitting'"
      ],
      "text/latex": [
       "'c:/@@Roaming\\_Dogs\\_Data\\_Analysis/Roaming-Dogs-Code/Model-fitting'"
      ],
      "text/markdown": [
       "'c:/@@Roaming_Dogs_Data_Analysis/Roaming-Dogs-Code/Model-fitting'"
      ],
      "text/plain": [
       "[1] \"c:/@@Roaming_Dogs_Data_Analysis/Roaming-Dogs-Code/Model-fitting\""
      ]
     },
     "metadata": {},
     "output_type": "display_data"
    },
    {
     "name": "stderr",
     "output_type": "stream",
     "text": [
      "Warning message in OGRSpatialRef(dsn, layer, morphFromESRI = morphFromESRI, dumpSRS = dumpSRS, :\n",
      "\"Discarded datum Taiwan_Datum_1997 in Proj4 definition: +proj=tmerc +lat_0=0 +lon_0=121 +k=0.9999 +x_0=250000 +y_0=0 +ellps=GRS80 +towgs84=0,0,0,0,0,0,0 +units=m +no_defs\"\n",
      "Warning message in showSRID(uprojargs, format = \"PROJ\", multiline = \"NO\", prefer_proj = prefer_proj):\n",
      "\"Discarded datum Taiwan_Datum_1997 in Proj4 definition\"\n"
     ]
    }
   ],
   "source": [
    "getwd()\n",
    "path = '..\\\\..\\\\Roaming-Dogs-Data\\\\'\n",
    "Variable_KS_df <- read.csv(paste0(path, \"@Test_KS\\\\Variable.csv\" ), fileEncoding = 'utf-8')\n",
    "Variable_KS_df[\"Clinic\"][is.na(Variable_KS_df[\"Clinic\"])] = 0\n",
    "Variable_KS_shp<-shapefile(paste0(path, \"@Test_KS\\\\Variable.shp\" ),encoding = 'big5')\n",
    "crs(Variable_KS_shp) <- CRS('+init=EPSG:3826') \n",
    "# Variable_KS_shp_02 = st_read(paste0(path, \"@Test_KS\\\\Variable.shp\"))\n",
    "# Variable_KS_centroid <-  st_centroid(Variable_KS_shp)\n",
    "# colnames(Variable_KS_centroid)"
   ]
  },
  {
   "cell_type": "markdown",
   "metadata": {},
   "source": [
    "### Create a residual dataframe"
   ]
  },
  {
   "cell_type": "markdown",
   "metadata": {},
   "source": [
    "### select Xy"
   ]
  },
  {
   "cell_type": "code",
   "execution_count": 91,
   "metadata": {
    "vscode": {
     "languageId": "r"
    }
   },
   "outputs": [],
   "source": [
    "col_X = \n",
    "c( \"Cluster\", # 分群\n",
    "\"Market\",\"Hospital\" ,  \"Temple\",  \"Ele\" ,\"Junior\" ,\"Senior\", \"Train.stat\",  \"Clinic\", # 公共建設\n",
    "\"high_rat\",   \"mid_rat\",\"low_rat\", \"M_F_RAT\" , \"P_DEN\", \"YOUN_DEP\",\"OLD_DEP\",\"AGING_IDX\", # 人口統計(教育程度、人口密度...)\n",
    "\"Income_mea\", \"Income_med\" ,\"Income_Q1\",  \"Income_Q3\",  \"Income_sta\") # 村里收入\n",
    "col_y = c('Nt')"
   ]
  },
  {
   "cell_type": "code",
   "execution_count": 92,
   "metadata": {
    "vscode": {
     "languageId": "r"
    }
   },
   "outputs": [
    {
     "name": "stdout",
     "output_type": "stream",
     "text": [
      "[1] \"Market_den\"\n",
      "[1] \"Hospital_den\"\n",
      "[1] \"Temple_den\"\n",
      "[1] \"Ele_den\"\n",
      "[1] \"Junior_den\"\n",
      "[1] \"Senior_den\"\n",
      "[1] \"Train.stat_den\"\n",
      "[1] \"Clinic_den\"\n"
     ]
    }
   ],
   "source": [
    "for(i in c('Market','Hospital',  \"Temple\",  \"Ele\" ,\"Junior\" ,\"Senior\", \"Train.stat\",  \"Clinic\")){\n",
    "        \n",
    "    i_new = paste0(i, \"_den\")\n",
    "    print(i_new)\n",
    "    \n",
    "    Variable_KS_shp@data[i_new] = Variable_KS_shp@data[i]/Variable_KS_shp@data$Area_sqkm\n",
    "    Variable_KS_df[i_new] = Variable_KS_df[i]/Variable_KS_df$Area_sqkm\n",
    "}"
   ]
  },
  {
   "cell_type": "code",
   "execution_count": 93,
   "metadata": {
    "vscode": {
     "languageId": "r"
    }
   },
   "outputs": [],
   "source": [
    "col_X = \n",
    "c( \"Cluster\", # 分群\n",
    "\"Market_den\",\"Hospital_den\" ,  \"Temple_den\",  \"Ele_den\" ,\"Junior_den\" ,\"Senior_den\", \"Train.stat_den\",  \"Clinic_den\", # 公共建設\n",
    "\"high_rat\",   \"mid_rat\",\"low_rat\", \"M_F_RAT\" , \"P_DEN\", \"YOUN_DEP\",\"OLD_DEP\",\"AGING_IDX\", # 人口統計(教育程度、人口密度...)\n",
    "\"Income_mea\", \"Income_med\" ,\"Income_Q1\",  \"Income_Q3\",  \"Income_sta\")"
   ]
  },
  {
   "cell_type": "code",
   "execution_count": 94,
   "metadata": {
    "vscode": {
     "languageId": "r"
    }
   },
   "outputs": [],
   "source": [
    "for(i in c(col_X, col_y)){\n",
    "\n",
    "    Variable_KS_shp@data[i] = sapply(Variable_KS_df[i], function(x) as.numeric(x))\n",
    "}"
   ]
  },
  {
   "cell_type": "markdown",
   "metadata": {},
   "source": [
    "#### Correlation "
   ]
  },
  {
   "cell_type": "code",
   "execution_count": 77,
   "metadata": {
    "vscode": {
     "languageId": "r"
    }
   },
   "outputs": [],
   "source": [
    "corr = cor(Variable_KS_df[c(col_y,col_X)])\n",
    "# col_income = c( \"Income_mea\",\"Income_med\" ,\"Income_Q1\", \n",
    "#                 \"Income_Q3\",  \"Income_sta\", \"Income_CV\")\n",
    "# corr_income = sort(corr[col_income,'Nt'])\n",
    "idx = abs(corr[,'Nt'])>.1\n",
    "col_X_02 = names(corr[idx,'Nt']) %>% tail(-1)"
   ]
  },
  {
   "cell_type": "code",
   "execution_count": 78,
   "metadata": {
    "vscode": {
     "languageId": "r"
    }
   },
   "outputs": [
    {
     "data": {
      "text/html": [
       "<style>\n",
       ".dl-inline {width: auto; margin:0; padding: 0}\n",
       ".dl-inline>dt, .dl-inline>dd {float: none; width: auto; display: inline-block}\n",
       ".dl-inline>dt::after {content: \":\\0020\"; padding-right: .5ex}\n",
       ".dl-inline>dt:not(:first-of-type) {padding-left: .5ex}\n",
       "</style><dl class=dl-inline><dt>P_DEN</dt><dd>-0.568947427478958</dd><dt>high_rat</dt><dd>-0.327187815587741</dd><dt>Income_mea</dt><dd>-0.322130926691458</dd><dt>Income_sta</dt><dd>-0.308815540098109</dd><dt>OLD_DEP</dt><dd>-0.296239580703197</dd><dt>Income_Q3</dt><dd>-0.287398533855768</dd><dt>Clinic_den</dt><dd>-0.281361366321303</dd><dt>Income_med</dt><dd>-0.258784551258305</dd><dt>Temple_den</dt><dd>-0.247904014824422</dd><dt>Income_Q1</dt><dd>-0.211634063739052</dd><dt>Ele_den</dt><dd>-0.190430872028132</dd><dt>YOUN_DEP</dt><dd>-0.165190866974223</dd><dt>Hospital_den</dt><dd>-0.141259029769119</dd><dt>mid_rat</dt><dd>-0.136294945828384</dd><dt>AGING_IDX</dt><dd>-0.111234191571639</dd><dt>Junior_den</dt><dd>-0.10769142548819</dd><dt>Market_den</dt><dd>-0.104448141957546</dd><dt>low_rat</dt><dd>0.352051163076637</dd><dt>M_F_RAT</dt><dd>0.369724357878555</dd><dt>Cluster</dt><dd>0.38283189690322</dd></dl>\n"
      ],
      "text/latex": [
       "\\begin{description*}\n",
       "\\item[P\\textbackslash{}\\_DEN] -0.568947427478958\n",
       "\\item[high\\textbackslash{}\\_rat] -0.327187815587741\n",
       "\\item[Income\\textbackslash{}\\_mea] -0.322130926691458\n",
       "\\item[Income\\textbackslash{}\\_sta] -0.308815540098109\n",
       "\\item[OLD\\textbackslash{}\\_DEP] -0.296239580703197\n",
       "\\item[Income\\textbackslash{}\\_Q3] -0.287398533855768\n",
       "\\item[Clinic\\textbackslash{}\\_den] -0.281361366321303\n",
       "\\item[Income\\textbackslash{}\\_med] -0.258784551258305\n",
       "\\item[Temple\\textbackslash{}\\_den] -0.247904014824422\n",
       "\\item[Income\\textbackslash{}\\_Q1] -0.211634063739052\n",
       "\\item[Ele\\textbackslash{}\\_den] -0.190430872028132\n",
       "\\item[YOUN\\textbackslash{}\\_DEP] -0.165190866974223\n",
       "\\item[Hospital\\textbackslash{}\\_den] -0.141259029769119\n",
       "\\item[mid\\textbackslash{}\\_rat] -0.136294945828384\n",
       "\\item[AGING\\textbackslash{}\\_IDX] -0.111234191571639\n",
       "\\item[Junior\\textbackslash{}\\_den] -0.10769142548819\n",
       "\\item[Market\\textbackslash{}\\_den] -0.104448141957546\n",
       "\\item[low\\textbackslash{}\\_rat] 0.352051163076637\n",
       "\\item[M\\textbackslash{}\\_F\\textbackslash{}\\_RAT] 0.369724357878555\n",
       "\\item[Cluster] 0.38283189690322\n",
       "\\end{description*}\n"
      ],
      "text/markdown": [
       "P_DEN\n",
       ":   -0.568947427478958high_rat\n",
       ":   -0.327187815587741Income_mea\n",
       ":   -0.322130926691458Income_sta\n",
       ":   -0.308815540098109OLD_DEP\n",
       ":   -0.296239580703197Income_Q3\n",
       ":   -0.287398533855768Clinic_den\n",
       ":   -0.281361366321303Income_med\n",
       ":   -0.258784551258305Temple_den\n",
       ":   -0.247904014824422Income_Q1\n",
       ":   -0.211634063739052Ele_den\n",
       ":   -0.190430872028132YOUN_DEP\n",
       ":   -0.165190866974223Hospital_den\n",
       ":   -0.141259029769119mid_rat\n",
       ":   -0.136294945828384AGING_IDX\n",
       ":   -0.111234191571639Junior_den\n",
       ":   -0.10769142548819Market_den\n",
       ":   -0.104448141957546low_rat\n",
       ":   0.352051163076637M_F_RAT\n",
       ":   0.369724357878555Cluster\n",
       ":   0.38283189690322\n",
       "\n"
      ],
      "text/plain": [
       "       P_DEN     high_rat   Income_mea   Income_sta      OLD_DEP    Income_Q3 \n",
       "  -0.5689474   -0.3271878   -0.3221309   -0.3088155   -0.2962396   -0.2873985 \n",
       "  Clinic_den   Income_med   Temple_den    Income_Q1      Ele_den     YOUN_DEP \n",
       "  -0.2813614   -0.2587846   -0.2479040   -0.2116341   -0.1904309   -0.1651909 \n",
       "Hospital_den      mid_rat    AGING_IDX   Junior_den   Market_den      low_rat \n",
       "  -0.1412590   -0.1362949   -0.1112342   -0.1076914   -0.1044481    0.3520512 \n",
       "     M_F_RAT      Cluster \n",
       "   0.3697244    0.3828319 "
      ]
     },
     "metadata": {},
     "output_type": "display_data"
    },
    {
     "name": "stdout",
     "output_type": "stream",
     "text": [
      " [1] \"Cluster\"      \"Market_den\"   \"Hospital_den\" \"Temple_den\"   \"Ele_den\"     \n",
      " [6] \"Junior_den\"   \"Clinic_den\"   \"high_rat\"     \"mid_rat\"      \"low_rat\"     \n",
      "[11] \"M_F_RAT\"      \"P_DEN\"        \"YOUN_DEP\"     \"OLD_DEP\"      \"AGING_IDX\"   \n",
      "[16] \"Income_mea\"   \"Income_med\"   \"Income_Q1\"    \"Income_Q3\"    \"Income_sta\"  \n"
     ]
    }
   ],
   "source": [
    "(corr[idx,'Nt']) %>% tail(-1) %>% sort\n",
    "print(col_X_02)"
   ]
  },
  {
   "cell_type": "markdown",
   "metadata": {},
   "source": [
    "### GW PCA\n",
    "-  [link01](https://gis.stackexchange.com/questions/35159/how-can-i-conduct-geographically-weighted-principal-component-analysis-using-arc)"
   ]
  },
  {
   "cell_type": "code",
   "execution_count": 95,
   "metadata": {
    "vscode": {
     "languageId": "r"
    }
   },
   "outputs": [
    {
     "name": "stderr",
     "output_type": "stream",
     "text": [
      "Warning message in proj4string(data):\n",
      "\"CRS object has comment, which is lost in output\"\n"
     ]
    },
    {
     "name": "stdout",
     "output_type": "stream",
     "text": [
      "Adaptive bandwidth(number of nearest neighbours): 36 CV score: 1125214 \n",
      "Adaptive bandwidth(number of nearest neighbours): 23 CV score: 1581478 \n",
      "Adaptive bandwidth(number of nearest neighbours): 44 CV score: 875981.9 \n",
      "Adaptive bandwidth(number of nearest neighbours): 49 CV score: 821830.9 \n",
      "Adaptive bandwidth(number of nearest neighbours): 52 CV score: 909113.8 \n",
      "Adaptive bandwidth(number of nearest neighbours): 46 CV score: 840732 \n",
      "Adaptive bandwidth(number of nearest neighbours): 49 CV score: 821830.9 \n"
     ]
    }
   ],
   "source": [
    "DM<-gw.dist(dp.locat=data.matrix(((Variable_KS_df[c('X', \"Y\")]))))\n",
    "\n",
    "\n",
    "bw.gwpca.basic <- \n",
    "bw.gwpca(Variable_KS_shp, vars = col_X_02, k =5, robust = FALSE, adaptive = TRUE, dMat = DM)\n",
    "# bw.gwpca.robust <- \n",
    "# bw.gwpca(Variable_KS_shp, vars = col_X_02, k = 5, robust = TRUE, adaptive = TRUE, dMat = DM )"
   ]
  },
  {
   "cell_type": "code",
   "execution_count": 96,
   "metadata": {
    "vscode": {
     "languageId": "r"
    }
   },
   "outputs": [
    {
     "data": {
      "text/html": [
       "49"
      ],
      "text/latex": [
       "49"
      ],
      "text/markdown": [
       "49"
      ],
      "text/plain": [
       "[1] 49"
      ]
     },
     "metadata": {},
     "output_type": "display_data"
    }
   ],
   "source": [
    "bw.gwpca.basic"
   ]
  },
  {
   "cell_type": "code",
   "execution_count": 100,
   "metadata": {
    "vscode": {
     "languageId": "r"
    }
   },
   "outputs": [
    {
     "name": "stderr",
     "output_type": "stream",
     "text": [
      "Warning message in proj4string(data):\n",
      "\"CRS object has comment, which is lost in output\"\n"
     ]
    }
   ],
   "source": [
    "gwpca.basic <- gwpca(Variable_KS_shp,\n",
    " vars = col_X_02, bw = bw.gwpca.basic, k = 8, robust = FALSE, adaptive = TRUE)"
   ]
  },
  {
   "cell_type": "code",
   "execution_count": 102,
   "metadata": {
    "vscode": {
     "languageId": "r"
    }
   },
   "outputs": [],
   "source": [
    "prop.var <- function(gwpca.obj, n.components) {\n",
    "\n",
    "    return((rowSums(gwpca.obj$var[, 1:n.components]) /rowSums(gwpca.obj$var)) * 100)\n",
    "     }"
   ]
  },
  {
   "cell_type": "code",
   "execution_count": 105,
   "metadata": {
    "vscode": {
     "languageId": "r"
    }
   },
   "outputs": [
    {
     "data": {
      "text/html": [
       "<style>\n",
       ".list-inline {list-style: none; margin:0; padding: 0}\n",
       ".list-inline>li {display: inline-block}\n",
       ".list-inline>li:not(:last-child)::after {content: \"\\00b7\"; padding: 0 .5ex}\n",
       "</style>\n",
       "<ol class=list-inline><li>99.9945515904073</li><li>99.9945375311846</li><li>99.9944686845586</li><li>99.994500027139</li><li>99.9947615793725</li><li>99.9951197419504</li><li>99.9951223961896</li><li>99.9946134790504</li><li>99.9945886164619</li><li>99.9946026428191</li><li>99.9946805017631</li><li>99.9945807412088</li><li>99.9944661221491</li><li>99.9945106833233</li><li>99.9945186940694</li><li>99.9954752850658</li><li>99.9957674447119</li><li>99.9960712486554</li><li>99.9963304216654</li><li>99.9952725280573</li><li>99.9919638718617</li><li>99.9899357005267</li><li>99.9897188948984</li><li>99.9948326972928</li><li>99.9948991333667</li><li>99.9955428025588</li><li>99.991166463845</li><li>99.9919757455258</li><li>99.9902380455723</li><li>99.9908026629478</li><li>99.9956141752955</li><li>99.9952636337679</li><li>99.9952587062352</li><li>99.9951892543705</li><li>99.9948089707609</li><li>99.9944894618159</li><li>99.9945626200112</li><li>99.9945991400672</li><li>99.9946878964511</li><li>99.9945571883905</li><li>99.9945510934456</li><li>99.9945270272312</li><li>99.9945751577093</li><li>99.994616939103</li><li>99.9947444487635</li><li>99.9947379211294</li><li>99.9945155174485</li><li>99.995685464804</li><li>99.9955638905072</li><li>99.9946515760379</li><li>99.9948206769286</li><li>99.9945029020018</li><li>99.994545690168</li><li>99.9947235940039</li><li>99.9946944783524</li><li>99.9948124540691</li><li>99.9945600247241</li><li>99.9945525204275</li></ol>\n"
      ],
      "text/latex": [
       "\\begin{enumerate*}\n",
       "\\item 99.9945515904073\n",
       "\\item 99.9945375311846\n",
       "\\item 99.9944686845586\n",
       "\\item 99.994500027139\n",
       "\\item 99.9947615793725\n",
       "\\item 99.9951197419504\n",
       "\\item 99.9951223961896\n",
       "\\item 99.9946134790504\n",
       "\\item 99.9945886164619\n",
       "\\item 99.9946026428191\n",
       "\\item 99.9946805017631\n",
       "\\item 99.9945807412088\n",
       "\\item 99.9944661221491\n",
       "\\item 99.9945106833233\n",
       "\\item 99.9945186940694\n",
       "\\item 99.9954752850658\n",
       "\\item 99.9957674447119\n",
       "\\item 99.9960712486554\n",
       "\\item 99.9963304216654\n",
       "\\item 99.9952725280573\n",
       "\\item 99.9919638718617\n",
       "\\item 99.9899357005267\n",
       "\\item 99.9897188948984\n",
       "\\item 99.9948326972928\n",
       "\\item 99.9948991333667\n",
       "\\item 99.9955428025588\n",
       "\\item 99.991166463845\n",
       "\\item 99.9919757455258\n",
       "\\item 99.9902380455723\n",
       "\\item 99.9908026629478\n",
       "\\item 99.9956141752955\n",
       "\\item 99.9952636337679\n",
       "\\item 99.9952587062352\n",
       "\\item 99.9951892543705\n",
       "\\item 99.9948089707609\n",
       "\\item 99.9944894618159\n",
       "\\item 99.9945626200112\n",
       "\\item 99.9945991400672\n",
       "\\item 99.9946878964511\n",
       "\\item 99.9945571883905\n",
       "\\item 99.9945510934456\n",
       "\\item 99.9945270272312\n",
       "\\item 99.9945751577093\n",
       "\\item 99.994616939103\n",
       "\\item 99.9947444487635\n",
       "\\item 99.9947379211294\n",
       "\\item 99.9945155174485\n",
       "\\item 99.995685464804\n",
       "\\item 99.9955638905072\n",
       "\\item 99.9946515760379\n",
       "\\item 99.9948206769286\n",
       "\\item 99.9945029020018\n",
       "\\item 99.994545690168\n",
       "\\item 99.9947235940039\n",
       "\\item 99.9946944783524\n",
       "\\item 99.9948124540691\n",
       "\\item 99.9945600247241\n",
       "\\item 99.9945525204275\n",
       "\\end{enumerate*}\n"
      ],
      "text/markdown": [
       "1. 99.9945515904073\n",
       "2. 99.9945375311846\n",
       "3. 99.9944686845586\n",
       "4. 99.994500027139\n",
       "5. 99.9947615793725\n",
       "6. 99.9951197419504\n",
       "7. 99.9951223961896\n",
       "8. 99.9946134790504\n",
       "9. 99.9945886164619\n",
       "10. 99.9946026428191\n",
       "11. 99.9946805017631\n",
       "12. 99.9945807412088\n",
       "13. 99.9944661221491\n",
       "14. 99.9945106833233\n",
       "15. 99.9945186940694\n",
       "16. 99.9954752850658\n",
       "17. 99.9957674447119\n",
       "18. 99.9960712486554\n",
       "19. 99.9963304216654\n",
       "20. 99.9952725280573\n",
       "21. 99.9919638718617\n",
       "22. 99.9899357005267\n",
       "23. 99.9897188948984\n",
       "24. 99.9948326972928\n",
       "25. 99.9948991333667\n",
       "26. 99.9955428025588\n",
       "27. 99.991166463845\n",
       "28. 99.9919757455258\n",
       "29. 99.9902380455723\n",
       "30. 99.9908026629478\n",
       "31. 99.9956141752955\n",
       "32. 99.9952636337679\n",
       "33. 99.9952587062352\n",
       "34. 99.9951892543705\n",
       "35. 99.9948089707609\n",
       "36. 99.9944894618159\n",
       "37. 99.9945626200112\n",
       "38. 99.9945991400672\n",
       "39. 99.9946878964511\n",
       "40. 99.9945571883905\n",
       "41. 99.9945510934456\n",
       "42. 99.9945270272312\n",
       "43. 99.9945751577093\n",
       "44. 99.994616939103\n",
       "45. 99.9947444487635\n",
       "46. 99.9947379211294\n",
       "47. 99.9945155174485\n",
       "48. 99.995685464804\n",
       "49. 99.9955638905072\n",
       "50. 99.9946515760379\n",
       "51. 99.9948206769286\n",
       "52. 99.9945029020018\n",
       "53. 99.994545690168\n",
       "54. 99.9947235940039\n",
       "55. 99.9946944783524\n",
       "56. 99.9948124540691\n",
       "57. 99.9945600247241\n",
       "58. 99.9945525204275\n",
       "\n",
       "\n"
      ],
      "text/plain": [
       " [1] 99.99455 99.99454 99.99447 99.99450 99.99476 99.99512 99.99512 99.99461\n",
       " [9] 99.99459 99.99460 99.99468 99.99458 99.99447 99.99451 99.99452 99.99548\n",
       "[17] 99.99577 99.99607 99.99633 99.99527 99.99196 99.98994 99.98972 99.99483\n",
       "[25] 99.99490 99.99554 99.99117 99.99198 99.99024 99.99080 99.99561 99.99526\n",
       "[33] 99.99526 99.99519 99.99481 99.99449 99.99456 99.99460 99.99469 99.99456\n",
       "[41] 99.99455 99.99453 99.99458 99.99462 99.99474 99.99474 99.99452 99.99569\n",
       "[49] 99.99556 99.99465 99.99482 99.99450 99.99455 99.99472 99.99469 99.99481\n",
       "[57] 99.99456 99.99455"
      ]
     },
     "metadata": {},
     "output_type": "display_data"
    }
   ],
   "source": [
    "prop.var(gwpca.basic, 3)"
   ]
  },
  {
   "cell_type": "markdown",
   "metadata": {},
   "source": [
    "### GLM_POISSON "
   ]
  },
  {
   "cell_type": "code",
   "execution_count": null,
   "metadata": {
    "vscode": {
     "languageId": "r"
    }
   },
   "outputs": [],
   "source": [
    "Fit_Po <-glm(Nt~.,data=Variable_KS_df[,c(col_y,col_X_02)],family=poisson())\n",
    "# Fit_Po <- glm(Nt~., data=Variable_KS_df[,c(col_y,col_X_02)], family = Gamma(link = \"log\"))\n",
    "summary(Fit_Po) #查看回归模型参数\n"
   ]
  },
  {
   "cell_type": "code",
   "execution_count": null,
   "metadata": {
    "vscode": {
     "languageId": "r"
    }
   },
   "outputs": [],
   "source": [
    "# pdf_plot(Fit_Po$residuals)+xlab('residuals')\n",
    "Variable_KS_centroid %>% \n",
    "  ggplot()+geom_sf(aes(color = residuals(Fit_Po), size = residuals(Fit_Po), alpha = .8))+\n",
    "  scale_fill_gradient(low = \"#56B1F7\", high = \"#132B43\", na.value = NA)+\n",
    "  theme_bw()"
   ]
  },
  {
   "cell_type": "code",
   "execution_count": null,
   "metadata": {
    "vscode": {
     "languageId": "r"
    }
   },
   "outputs": [],
   "source": [
    "nb <- poly2nb(Variable_KS_shp, queen=TRUE)\n",
    "lw <- nb2listw(nb, style=\"W\", zero.policy=TRUE)"
   ]
  },
  {
   "cell_type": "code",
   "execution_count": null,
   "metadata": {
    "vscode": {
     "languageId": "r"
    }
   },
   "outputs": [],
   "source": [
    "print(lw$weights[[1]])"
   ]
  },
  {
   "cell_type": "markdown",
   "metadata": {},
   "source": [
    "### Spatial glmm\n",
    "- [Package](https://kimura.univ-montp2.fr/~rousset/spaMM/spaMMintro.pdf)\n",
    "- [Theory](https://bookdown.org/xiangyun/Thesis-Template-Bookdown/)"
   ]
  },
  {
   "cell_type": "markdown",
   "metadata": {},
   "source": [
    "### GWR-Poisson"
   ]
  },
  {
   "cell_type": "code",
   "execution_count": null,
   "metadata": {
    "vscode": {
     "languageId": "r"
    }
   },
   "outputs": [],
   "source": [
    "formula.GWPR = Nt ~.\n",
    "DM<-gw.dist(dp.locat=data.matrix(((Variable_KS_df[c('X', \"Y\")]))))"
   ]
  },
  {
   "cell_type": "code",
   "execution_count": null,
   "metadata": {
    "vscode": {
     "languageId": "r"
    }
   },
   "outputs": [],
   "source": [
    "Variable_KS_df$Nt = as.numeric(Variable_KS_df$Nt )\n",
    "Variable_KS_shp$Nt = Variable_KS_df$Nt"
   ]
  },
  {
   "cell_type": "markdown",
   "metadata": {},
   "source": [
    "#### GW PCA"
   ]
  },
  {
   "cell_type": "code",
   "execution_count": null,
   "metadata": {
    "vscode": {
     "languageId": "r"
    }
   },
   "outputs": [],
   "source": [
    "bw.gwpca(data,vars,k=2, robust=FALSE,kernel=\"bisquare\",adaptive=FALSE,p=2, \n",
    "         theta=0, longlat=F,dMat)"
   ]
  }
 ],
 "metadata": {
  "interpreter": {
   "hash": "130cb21ae947994e67709f98b0e7febef99d570d5d2bf1331cc020fa608bd67a"
  },
  "kernelspec": {
   "display_name": "R",
   "language": "R",
   "name": "ir"
  },
  "language_info": {
   "codemirror_mode": "r",
   "file_extension": ".r",
   "mimetype": "text/x-r-source",
   "name": "R",
   "pygments_lexer": "r",
   "version": "4.1.2"
  },
  "orig_nbformat": 4
 },
 "nbformat": 4,
 "nbformat_minor": 2
}
