{
 "cells": [
  {
   "cell_type": "markdown",
   "metadata": {},
   "source": [
    "### Import packages"
   ]
  },
  {
   "cell_type": "code",
   "execution_count": 1,
   "metadata": {},
   "outputs": [
    {
     "name": "stderr",
     "output_type": "stream",
     "text": [
      "載入需要的套件：maptools\n",
      "\n",
      "載入需要的套件：sp\n",
      "\n",
      "Checking rgeos availability: TRUE\n",
      "\n",
      "載入需要的套件：robustbase\n",
      "\n",
      "載入需要的套件：Rcpp\n",
      "\n",
      "載入需要的套件：spatialreg\n",
      "\n",
      "載入需要的套件：spData\n",
      "\n",
      "載入需要的套件：Matrix\n",
      "\n",
      "載入需要的套件：sf\n",
      "\n",
      "Linking to GEOS 3.9.0, GDAL 3.2.1, PROJ 7.2.1\n",
      "\n",
      "Welcome to GWmodel version 2.2-8.\n",
      "\n",
      "\n",
      "載入套件：'dplyr'\n",
      "\n",
      "\n",
      "下列物件被遮斷自 'package:stats':\n",
      "\n",
      "    filter, lag\n",
      "\n",
      "\n",
      "下列物件被遮斷自 'package:base':\n",
      "\n",
      "    intersect, setdiff, setequal, union\n",
      "\n",
      "\n",
      "載入需要的套件：carData\n",
      "\n",
      "\n",
      "載入套件：'car'\n",
      "\n",
      "\n",
      "下列物件被遮斷自 'package:dplyr':\n",
      "\n",
      "    recode\n",
      "\n",
      "\n",
      "\n",
      "載入套件：'spdep'\n",
      "\n",
      "\n",
      "下列物件被遮斷自 'package:spatialreg':\n",
      "\n",
      "    aple, aple.mc, aple.plot, as.spam.listw, as_dgRMatrix_listw,\n",
      "    as_dsCMatrix_I, as_dsCMatrix_IrW, as_dsTMatrix_listw,\n",
      "    can.be.simmed, cheb_setup, create_WX, do_ldet, eigen_pre_setup,\n",
      "    eigen_setup, eigenw, errorsarlm, get.ClusterOption,\n",
      "    get.coresOption, get.mcOption, get.VerboseOption,\n",
      "    get.ZeroPolicyOption, GMargminImage, GMerrorsar, griffith_sone,\n",
      "    gstsls, Hausman.test, impacts, intImpacts, invIrM, invIrW,\n",
      "    Jacobian_W, jacobianSetup, l_max, lagmess, lagsarlm, lextrB,\n",
      "    lextrS, lextrW, lmSLX, localAple, LU_prepermutate_setup, LU_setup,\n",
      "    Matrix_J_setup, Matrix_setup, mcdet_setup, MCMCsamp, ME, mom_calc,\n",
      "    mom_calc_int2, moments_setup, powerWeights, sacsarlm,\n",
      "    SE_classic_setup, SE_interp_setup, SE_whichMin_setup,\n",
      "    set.ClusterOption, set.coresOption, set.mcOption,\n",
      "    set.VerboseOption, set.ZeroPolicyOption, similar.listw, spam_setup,\n",
      "    spam_update_setup, SpatialFiltering, spautolm, spBreg_err,\n",
      "    spBreg_lag, spBreg_sac, stsls, subgraph_eigenw, trW\n",
      "\n",
      "\n",
      "\n",
      "載入套件：'raster'\n",
      "\n",
      "\n",
      "下列物件被遮斷自 'package:dplyr':\n",
      "\n",
      "    select\n",
      "\n",
      "\n",
      "\n",
      "載入套件：'gridExtra'\n",
      "\n",
      "\n",
      "下列物件被遮斷自 'package:dplyr':\n",
      "\n",
      "    combine\n",
      "\n",
      "\n",
      "Registered S3 method overwritten by 'GGally':\n",
      "  method from   \n",
      "  +.gg   ggplot2\n",
      "\n",
      "\n",
      "載入套件：'MASS'\n",
      "\n",
      "\n",
      "下列物件被遮斷自 'package:raster':\n",
      "\n",
      "    area, select\n",
      "\n",
      "\n",
      "下列物件被遮斷自 'package:dplyr':\n",
      "\n",
      "    select\n",
      "\n",
      "\n"
     ]
    }
   ],
   "source": [
    "library(GWmodel)      ### GW models\n",
    "library(dplyr)\n",
    "library(sp)           ## Data management\n",
    "library(car)          ## vif\n",
    "library(spdep)        ## Spatial autocorrelation\n",
    "library(RColorBrewer) ## Visualization\n",
    "library(classInt)     ## Class intervals\n",
    "library(raster)       ## spatial data\n",
    "library(grid)         # plot\n",
    "library(gridExtra)    # Multiple plot\n",
    "library(ggplot2)      # Multiple plot\n",
    "library(gtable)\n",
    "library(GGally)       # 相關係數圖矩陣（scatter plot matrix）\n",
    "library(maptools)\n",
    "library(MASS)\n",
    "library(tmap)"
   ]
  },
  {
   "cell_type": "markdown",
   "metadata": {},
   "source": [
    "### Function"
   ]
  },
  {
   "cell_type": "markdown",
   "metadata": {},
   "source": [
    "#### pdf_plot"
   ]
  },
  {
   "cell_type": "code",
   "execution_count": 2,
   "metadata": {},
   "outputs": [],
   "source": [
    "\n",
    "pdf_plot <- function(x){\n",
    "  g = ggplot()+\n",
    "    geom_histogram(aes(x = x, y = ..density..), \n",
    "                   fill = '#557C55', alpha = 0.8)+\n",
    "    geom_density(aes(x = x, y = ..density..), \n",
    "                 color = '#062C30', size = 1)+\n",
    "    theme_bw()\n",
    "  \n",
    "  return(g)\n",
    "}\n"
   ]
  },
  {
   "cell_type": "markdown",
   "metadata": {},
   "source": [
    "### Load datas"
   ]
  },
  {
   "cell_type": "code",
   "execution_count": 3,
   "metadata": {},
   "outputs": [
    {
     "data": {
      "text/html": [
       "'c:/@@Roaming_Dogs_Data_Analysis/Roaming-Dogs-Code/Model-fitting'"
      ],
      "text/latex": [
       "'c:/@@Roaming\\_Dogs\\_Data\\_Analysis/Roaming-Dogs-Code/Model-fitting'"
      ],
      "text/markdown": [
       "'c:/@@Roaming_Dogs_Data_Analysis/Roaming-Dogs-Code/Model-fitting'"
      ],
      "text/plain": [
       "[1] \"c:/@@Roaming_Dogs_Data_Analysis/Roaming-Dogs-Code/Model-fitting\""
      ]
     },
     "metadata": {},
     "output_type": "display_data"
    }
   ],
   "source": [
    "getwd()\n",
    "path = '..\\\\..\\\\Roaming-Dogs-Data\\\\'\n",
    "Variable_KS_df <- read.csv(paste0(path, \"@Test_KS\\\\Variable.csv\" ), fileEncoding = 'utf-8')\n",
    "Variable_KS_shp<-shapefile(paste0(path, \"@Test_KS\\\\Variable.shp\" ),warnPRJ = F)"
   ]
  },
  {
   "cell_type": "code",
   "execution_count": 4,
   "metadata": {},
   "outputs": [],
   "source": [
    "Variable_KS_df[\"Clinic\"][is.na(Variable_KS_df[\"Clinic\"])] = 0"
   ]
  },
  {
   "cell_type": "markdown",
   "metadata": {},
   "source": [
    "### select Xy"
   ]
  },
  {
   "cell_type": "code",
   "execution_count": 5,
   "metadata": {},
   "outputs": [],
   "source": [
    "col_X = c( \"Market\",\"Cluster\",\"high_rat\",   \"mid_rat\",\"low_rat\",\"Hospital\" ,  \"Clinic\", \"M_F_RAT\" ,\n",
    "           \"P_DEN\",      \"DEPENDENCY\", \"YOUN_DEP\",   \"OLD_DEP\",    \"AGING_IDX\",\"Ele\" ,\"Ele_stu\",\"Junior\" ,   \n",
    "           \"Junior_stu\", \"Senior\",     \"Senior_stu\", \"TaxPayer\" ,  \"Income_tot\", \"Income_mea\",\n",
    "           \"Income_med\" ,\"Income_Q1\",  \"Income_Q3\",  \"Income_sta\", \"Income_CV\",  \"Temple\",    \n",
    "           \"Train.stat\", \"Train.crow\" )\n",
    "col_y = c('Nt')"
   ]
  },
  {
   "cell_type": "code",
   "execution_count": 6,
   "metadata": {},
   "outputs": [
    {
     "data": {
      "text/plain": [
       "CRS arguments: +proj=longlat +datum=WGS84 +no_defs "
      ]
     },
     "metadata": {},
     "output_type": "display_data"
    }
   ],
   "source": [
    "crs(Variable_KS_shp)  <-  CRS('+init=EPSG:4326')\n",
    "(crs(Variable_KS_shp))"
   ]
  },
  {
   "cell_type": "markdown",
   "metadata": {},
   "source": [
    "#### Correlation "
   ]
  },
  {
   "cell_type": "code",
   "execution_count": 7,
   "metadata": {},
   "outputs": [],
   "source": [
    "corr = cor(Variable_KS_df[c(col_y,col_X)])\n",
    "col_income = c( \"Income_mea\",\"Income_med\" ,\"Income_Q1\", \n",
    "                \"Income_Q3\",  \"Income_sta\", \"Income_CV\")\n",
    "corr_income = sort(corr[col_income,'Nt'])\n",
    "idx = abs(corr[,'Nt'])>.15\n",
    "col_X_02 = names(corr[idx,'Nt']) %>% tail(-1)"
   ]
  },
  {
   "cell_type": "code",
   "execution_count": 9,
   "metadata": {},
   "outputs": [
    {
     "data": {
      "text/html": [
       "<style>\n",
       ".list-inline {list-style: none; margin:0; padding: 0}\n",
       ".list-inline>li {display: inline-block}\n",
       ".list-inline>li:not(:last-child)::after {content: \"\\00b7\"; padding: 0 .5ex}\n",
       "</style>\n",
       "<ol class=list-inline><li>0.09375</li><li>0.125890736</li><li>0.129952456</li><li>0.138646288</li><li>0.141575274</li><li>0.157422969</li><li>0.166507785</li><li>0.175496689</li><li>0.181972069</li><li>0.189805825</li><li>0.195279787</li><li>0.201623816</li><li>0.201900238</li><li>0.204997882</li><li>0.205353409</li><li>0.206194196</li><li>0.207033185</li><li>0.207317073</li><li>0.220447284</li><li>0.233962264</li><li>0.240858693</li><li>0.248091603</li><li>0.260125261</li><li>0.260226284</li><li>0.265588235</li><li>0.266481994</li><li>0.271113831</li><li>0.275734053</li><li>0.282837967</li><li>0.291355721</li><li>0.292435974</li><li>0.292895721</li><li>0.293836478</li><li>0.295209803</li><li>0.295926211</li><li>0.302990897</li><li>0.304701627</li><li>0.30834512</li><li>0.312907432</li><li>0.317639674</li><li>0.317764471</li><li>0.319727891</li><li>0.322600492</li><li>0.340996169</li><li>0.346989141</li><li>0.350965575</li><li>0.352580927</li><li>0.357573608</li><li>0.364145658</li><li>0.366809553</li><li>0.380578512</li><li>0.395950022</li><li>0.399406088</li><li>0.408794788</li><li>0.413092208</li><li>0.418357934</li><li>0.459576639</li><li>0.504399859</li></ol>\n"
      ],
      "text/latex": [
       "\\begin{enumerate*}\n",
       "\\item 0.09375\n",
       "\\item 0.125890736\n",
       "\\item 0.129952456\n",
       "\\item 0.138646288\n",
       "\\item 0.141575274\n",
       "\\item 0.157422969\n",
       "\\item 0.166507785\n",
       "\\item 0.175496689\n",
       "\\item 0.181972069\n",
       "\\item 0.189805825\n",
       "\\item 0.195279787\n",
       "\\item 0.201623816\n",
       "\\item 0.201900238\n",
       "\\item 0.204997882\n",
       "\\item 0.205353409\n",
       "\\item 0.206194196\n",
       "\\item 0.207033185\n",
       "\\item 0.207317073\n",
       "\\item 0.220447284\n",
       "\\item 0.233962264\n",
       "\\item 0.240858693\n",
       "\\item 0.248091603\n",
       "\\item 0.260125261\n",
       "\\item 0.260226284\n",
       "\\item 0.265588235\n",
       "\\item 0.266481994\n",
       "\\item 0.271113831\n",
       "\\item 0.275734053\n",
       "\\item 0.282837967\n",
       "\\item 0.291355721\n",
       "\\item 0.292435974\n",
       "\\item 0.292895721\n",
       "\\item 0.293836478\n",
       "\\item 0.295209803\n",
       "\\item 0.295926211\n",
       "\\item 0.302990897\n",
       "\\item 0.304701627\n",
       "\\item 0.30834512\n",
       "\\item 0.312907432\n",
       "\\item 0.317639674\n",
       "\\item 0.317764471\n",
       "\\item 0.319727891\n",
       "\\item 0.322600492\n",
       "\\item 0.340996169\n",
       "\\item 0.346989141\n",
       "\\item 0.350965575\n",
       "\\item 0.352580927\n",
       "\\item 0.357573608\n",
       "\\item 0.364145658\n",
       "\\item 0.366809553\n",
       "\\item 0.380578512\n",
       "\\item 0.395950022\n",
       "\\item 0.399406088\n",
       "\\item 0.408794788\n",
       "\\item 0.413092208\n",
       "\\item 0.418357934\n",
       "\\item 0.459576639\n",
       "\\item 0.504399859\n",
       "\\end{enumerate*}\n"
      ],
      "text/markdown": [
       "1. 0.09375\n",
       "2. 0.125890736\n",
       "3. 0.129952456\n",
       "4. 0.138646288\n",
       "5. 0.141575274\n",
       "6. 0.157422969\n",
       "7. 0.166507785\n",
       "8. 0.175496689\n",
       "9. 0.181972069\n",
       "10. 0.189805825\n",
       "11. 0.195279787\n",
       "12. 0.201623816\n",
       "13. 0.201900238\n",
       "14. 0.204997882\n",
       "15. 0.205353409\n",
       "16. 0.206194196\n",
       "17. 0.207033185\n",
       "18. 0.207317073\n",
       "19. 0.220447284\n",
       "20. 0.233962264\n",
       "21. 0.240858693\n",
       "22. 0.248091603\n",
       "23. 0.260125261\n",
       "24. 0.260226284\n",
       "25. 0.265588235\n",
       "26. 0.266481994\n",
       "27. 0.271113831\n",
       "28. 0.275734053\n",
       "29. 0.282837967\n",
       "30. 0.291355721\n",
       "31. 0.292435974\n",
       "32. 0.292895721\n",
       "33. 0.293836478\n",
       "34. 0.295209803\n",
       "35. 0.295926211\n",
       "36. 0.302990897\n",
       "37. 0.304701627\n",
       "38. 0.30834512\n",
       "39. 0.312907432\n",
       "40. 0.317639674\n",
       "41. 0.317764471\n",
       "42. 0.319727891\n",
       "43. 0.322600492\n",
       "44. 0.340996169\n",
       "45. 0.346989141\n",
       "46. 0.350965575\n",
       "47. 0.352580927\n",
       "48. 0.357573608\n",
       "49. 0.364145658\n",
       "50. 0.366809553\n",
       "51. 0.380578512\n",
       "52. 0.395950022\n",
       "53. 0.399406088\n",
       "54. 0.408794788\n",
       "55. 0.413092208\n",
       "56. 0.418357934\n",
       "57. 0.459576639\n",
       "58. 0.504399859\n",
       "\n",
       "\n"
      ],
      "text/plain": [
       " [1] 0.0937500 0.1258907 0.1299525 0.1386463 0.1415753 0.1574230 0.1665078\n",
       " [8] 0.1754967 0.1819721 0.1898058 0.1952798 0.2016238 0.2019002 0.2049979\n",
       "[15] 0.2053534 0.2061942 0.2070332 0.2073171 0.2204473 0.2339623 0.2408587\n",
       "[22] 0.2480916 0.2601253 0.2602263 0.2655882 0.2664820 0.2711138 0.2757341\n",
       "[29] 0.2828380 0.2913557 0.2924360 0.2928957 0.2938365 0.2952098 0.2959262\n",
       "[36] 0.3029909 0.3047016 0.3083451 0.3129074 0.3176397 0.3177645 0.3197279\n",
       "[43] 0.3226005 0.3409962 0.3469891 0.3509656 0.3525809 0.3575736 0.3641457\n",
       "[50] 0.3668096 0.3805785 0.3959500 0.3994061 0.4087948 0.4130922 0.4183579\n",
       "[57] 0.4595766 0.5043999"
      ]
     },
     "metadata": {},
     "output_type": "display_data"
    }
   ],
   "source": [
    "sort(Variable_KS_df[,'high_rat'])"
   ]
  },
  {
   "cell_type": "markdown",
   "metadata": {},
   "source": [
    "### GLM_POISSON "
   ]
  },
  {
   "cell_type": "code",
   "execution_count": 10,
   "metadata": {},
   "outputs": [
    {
     "name": "stderr",
     "output_type": "stream",
     "text": [
      "Your code contains a unicode char which cannot be displayed in your\n",
      "current locale and R will silently convert it to an escaped form when the\n",
      "R kernel executes this code. This can lead to subtle errors if you use\n",
      "such chars to do comparisons. For more information, please see\n",
      "https://github.com/IRkernel/repr/wiki/Problems-with-unicode-on-windows"
     ]
    },
    {
     "data": {
      "text/plain": [
       "\n",
       "Call:\n",
       "glm(formula = Nt ~ ., family = poisson(), data = Variable_KS_df[, \n",
       "    c(col_y, col_X_02)])\n",
       "\n",
       "Deviance Residuals: \n",
       "    Min       1Q   Median       3Q      Max  \n",
       "-2.9864  -1.2933  -0.3625   1.1794   4.2733  \n",
       "\n",
       "Coefficients:\n",
       "              Estimate Std. Error z value Pr(>|z|)    \n",
       "(Intercept) -3.176e+00  2.285e+00  -1.390   0.1646    \n",
       "Cluster      1.116e-01  1.412e-01   0.790   0.4294    \n",
       "high_rat     5.423e-01  1.626e+00   0.334   0.7387    \n",
       "low_rat     -2.352e+00  1.264e+00  -1.860   0.0629 .  \n",
       "M_F_RAT      6.121e-02  1.118e-02   5.473 4.42e-08 ***\n",
       "P_DEN       -6.263e-05  6.393e-06  -9.797  < 2e-16 ***\n",
       "DEPENDENCY   1.316e+01  8.705e+00   1.512   0.1306    \n",
       "YOUN_DEP    -1.325e+01  8.708e+00  -1.521   0.1282    \n",
       "OLD_DEP     -1.326e+01  8.705e+00  -1.523   0.1278    \n",
       "Ele          7.775e-01  9.583e-02   8.113 4.94e-16 ***\n",
       "Income_mea  -1.561e-02  6.160e-03  -2.534   0.0113 *  \n",
       "Income_med   3.891e-03  3.931e-03   0.990   0.3223    \n",
       "Income_Q1    1.068e-03  3.186e-03   0.335   0.7374    \n",
       "Income_Q3    9.749e-03  2.010e-03   4.849 1.24e-06 ***\n",
       "Income_sta  -8.569e-05  3.256e-03  -0.026   0.9790    \n",
       "Income_CV    4.045e-02  1.953e-02   2.071   0.0384 *  \n",
       "Temple      -1.174e-01  2.636e-02  -4.454 8.41e-06 ***\n",
       "---\n",
       "Signif. codes:  0 '***' 0.001 '**' 0.01 '*' 0.05 '.' 0.1 ' ' 1\n",
       "\n",
       "(Dispersion parameter for poisson family taken to be 1)\n",
       "\n",
       "    Null deviance: 1020.13  on 57  degrees of freedom\n",
       "Residual deviance:  184.34  on 41  degrees of freedom\n",
       "AIC: 433.18\n",
       "\n",
       "Number of Fisher Scoring iterations: 5\n"
      ]
     },
     "metadata": {},
     "output_type": "display_data"
    },
    {
     "name": "stderr",
     "output_type": "stream",
     "text": [
      "`stat_bin()` using `bins = 30`. Pick better value with `binwidth`.\n",
      "\n"
     ]
    },
    {
     "data": {
      "image/png": "[encoded data removed]",
      "text/plain": [
       "plot without title"
      ]
     },
     "metadata": {
      "image/png": {
       "height": 420,
       "width": 420
      }
     },
     "output_type": "display_data"
    }
   ],
   "source": [
    "Fit_Po <-glm(Nt~.,data=Variable_KS_df[,c(col_y,col_X_02)],family=poisson())\n",
    "summary(Fit_Po) #查看回归模型参数\n",
    "pdf_plot(Fit_Po$residuals)+xlab('residuals')"
   ]
  }
 ],
 "metadata": {
  "interpreter": {
   "hash": "130cb21ae947994e67709f98b0e7febef99d570d5d2bf1331cc020fa608bd67a"
  },
  "kernelspec": {
   "display_name": "R",
   "language": "R",
   "name": "ir"
  },
  "language_info": {
   "codemirror_mode": "r",
   "file_extension": ".r",
   "mimetype": "text/x-r-source",
   "name": "R",
   "pygments_lexer": "r",
   "version": "4.1.2"
  },
  "orig_nbformat": 4
 },
 "nbformat": 4,
 "nbformat_minor": 2
}
