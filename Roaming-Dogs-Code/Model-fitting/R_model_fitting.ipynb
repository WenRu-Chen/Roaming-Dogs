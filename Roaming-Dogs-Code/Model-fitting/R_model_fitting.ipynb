{
 "cells": [
  {
   "cell_type": "markdown",
   "metadata": {},
   "source": [
    "### Import packages"
   ]
  },
  {
   "cell_type": "code",
   "execution_count": null,
   "metadata": {
    "vscode": {
     "languageId": "r"
    }
   },
   "outputs": [],
   "source": [
    "library(GWmodel)      ### GW models\n",
    "library(dplyr)\n",
    "library(sp)           ## Data management\n",
    "library(car)          ## vif\n",
    "library(spdep)        ## Spatial autocorrelation\n",
    "library(RColorBrewer) ## Visualization\n",
    "library(classInt)     ## Class intervals\n",
    "library(raster)       ## spatial data\n",
    "library(grid)         # plot\n",
    "library(gridExtra)    # Multiple plot\n",
    "library(ggplot2)      # Multiple plot\n",
    "library(gtable)\n",
    "library(GGally)       # 相關係數圖矩陣（scatter plot matrix）\n",
    "library(maptools)\n",
    "library(MASS)\n",
    "library(tmap)"
   ]
  },
  {
   "cell_type": "markdown",
   "metadata": {},
   "source": [
    "### Function"
   ]
  },
  {
   "cell_type": "markdown",
   "metadata": {},
   "source": [
    "#### pdf_plot"
   ]
  },
  {
   "cell_type": "code",
   "execution_count": null,
   "metadata": {
    "vscode": {
     "languageId": "r"
    }
   },
   "outputs": [],
   "source": [
    "\n",
    "pdf_plot <- function(x){\n",
    "  g = ggplot()+\n",
    "    geom_histogram(aes(x = x, y = ..density..), \n",
    "                   fill = '#557C55', alpha = 0.8)+\n",
    "    geom_density(aes(x = x, y = ..density..), \n",
    "                 color = '#062C30', size = 1)+\n",
    "    theme_bw()\n",
    "  \n",
    "  return(g)\n",
    "}\n"
   ]
  },
  {
   "cell_type": "markdown",
   "metadata": {},
   "source": [
    "### Load datas"
   ]
  },
  {
   "cell_type": "code",
   "execution_count": 63,
   "metadata": {
    "vscode": {
     "languageId": "r"
    }
   },
   "outputs": [
    {
     "data": {
      "text/html": [
       "'c:/@@Roaming_Dogs_Data_Analysis/Roaming-Dogs-Code/Model-fitting'"
      ],
      "text/latex": [
       "'c:/@@Roaming\\_Dogs\\_Data\\_Analysis/Roaming-Dogs-Code/Model-fitting'"
      ],
      "text/markdown": [
       "'c:/@@Roaming_Dogs_Data_Analysis/Roaming-Dogs-Code/Model-fitting'"
      ],
      "text/plain": [
       "[1] \"c:/@@Roaming_Dogs_Data_Analysis/Roaming-Dogs-Code/Model-fitting\""
      ]
     },
     "metadata": {},
     "output_type": "display_data"
    },
    {
     "data": {
      "text/html": [
       "58"
      ],
      "text/latex": [
       "58"
      ],
      "text/markdown": [
       "58"
      ],
      "text/plain": [
       "[1] 58"
      ]
     },
     "metadata": {},
     "output_type": "display_data"
    },
    {
     "data": {
      "text/html": [
       "58"
      ],
      "text/latex": [
       "58"
      ],
      "text/markdown": [
       "58"
      ],
      "text/plain": [
       "[1] 58"
      ]
     },
     "metadata": {},
     "output_type": "display_data"
    },
    {
     "data": {
      "text/plain": [
       "NULL"
      ]
     },
     "metadata": {},
     "output_type": "display_data"
    }
   ],
   "source": [
    "getwd()\n",
    "path = '..\\\\..\\\\Roaming-Dogs-Data\\\\'\n",
    "Variable_KS_df <- read.csv(paste0(path, \"@Test_KS\\\\Variable.csv\" ), fileEncoding = 'utf-8')\n",
    "Variable_KS_df[\"Clinic\"][is.na(Variable_KS_df[\"Clinic\"])] = 0\n",
    "Variable_KS_shp<-shapefile(paste0(path, \"@Test_KS\\\\Variable.shp\" ))\n",
    "# Variable_KS_centroid <-  st_centroid(Variable_KS_shp)\n",
    "# colnames(Variable_KS_centroid)\n",
    "\n",
    "ncol(Variable_KS_shp); nrow(Variable_KS_shp); colnames(Variable_KS_shp)"
   ]
  },
  {
   "cell_type": "markdown",
   "metadata": {},
   "source": [
    "### Create a residual dataframe"
   ]
  },
  {
   "cell_type": "code",
   "execution_count": null,
   "metadata": {
    "vscode": {
     "languageId": "r"
    }
   },
   "outputs": [],
   "source": [
    "residual  <-  \n",
    "data.frame(VILLCODE = Variable_KS_df$VILLCODE,\n",
    "VILLNAME = Variable_KS_df$VILLNAME,\n",
    "geometry = Variable_KS_centroid$geometry )"
   ]
  },
  {
   "cell_type": "markdown",
   "metadata": {},
   "source": [
    "### select Xy"
   ]
  },
  {
   "cell_type": "code",
   "execution_count": null,
   "metadata": {
    "vscode": {
     "languageId": "r"
    }
   },
   "outputs": [],
   "source": [
    "col_X = c( \"Market\",\"Cluster\",\"high_rat\",   \"mid_rat\",\"low_rat\",\"Hospital\" ,  \"Clinic\", \"M_F_RAT\" ,\n",
    "           \"P_DEN\",      \"DEPENDENCY\", \"YOUN_DEP\",   \"OLD_DEP\",    \"AGING_IDX\",\"Ele\" ,\"Ele_stu\",\"Junior\" ,   \n",
    "           \"Junior_stu\", \"Senior\",     \"Senior_stu\", \"TaxPayer\" ,  \"Income_tot\", \"Income_mea\",\n",
    "           \"Income_med\" ,\"Income_Q1\",  \"Income_Q3\",  \"Income_sta\", \"Income_CV\",  \"Temple\",    \n",
    "           \"Train.stat\", \"Train.crow\" )\n",
    "col_y = c('Nt')"
   ]
  },
  {
   "cell_type": "code",
   "execution_count": null,
   "metadata": {
    "vscode": {
     "languageId": "r"
    }
   },
   "outputs": [],
   "source": [
    "# crs(Variable_KS_shp)  <-  CRS('+init=EPSG:4326')\n"
   ]
  },
  {
   "cell_type": "markdown",
   "metadata": {},
   "source": [
    "#### Correlation "
   ]
  },
  {
   "cell_type": "code",
   "execution_count": 17,
   "metadata": {
    "vscode": {
     "languageId": "r"
    }
   },
   "outputs": [],
   "source": [
    "corr = cor(Variable_KS_df[c(col_y,col_X)])\n",
    "# col_income = c( \"Income_mea\",\"Income_med\" ,\"Income_Q1\", \n",
    "#                 \"Income_Q3\",  \"Income_sta\", \"Income_CV\")\n",
    "# corr_income = sort(corr[col_income,'Nt'])\n",
    "idx = abs(corr[,'Nt'])>.15\n",
    "col_X_02 = names(corr[idx,'Nt']) %>% tail(-1)"
   ]
  },
  {
   "cell_type": "code",
   "execution_count": 18,
   "metadata": {
    "vscode": {
     "languageId": "r"
    }
   },
   "outputs": [
    {
     "data": {
      "text/html": [
       "<style>\n",
       ".list-inline {list-style: none; margin:0; padding: 0}\n",
       ".list-inline>li {display: inline-block}\n",
       ".list-inline>li:not(:last-child)::after {content: \"\\00b7\"; padding: 0 .5ex}\n",
       "</style>\n",
       "<ol class=list-inline><li>'Cluster'</li><li>'high_rat'</li><li>'low_rat'</li><li>'M_F_RAT'</li><li>'P_DEN'</li><li>'DEPENDENCY'</li><li>'YOUN_DEP'</li><li>'OLD_DEP'</li><li>'Ele'</li><li>'Income_mea'</li><li>'Income_med'</li><li>'Income_Q1'</li><li>'Income_Q3'</li><li>'Income_sta'</li><li>'Income_CV'</li><li>'Temple'</li></ol>\n"
      ],
      "text/latex": [
       "\\begin{enumerate*}\n",
       "\\item 'Cluster'\n",
       "\\item 'high\\_rat'\n",
       "\\item 'low\\_rat'\n",
       "\\item 'M\\_F\\_RAT'\n",
       "\\item 'P\\_DEN'\n",
       "\\item 'DEPENDENCY'\n",
       "\\item 'YOUN\\_DEP'\n",
       "\\item 'OLD\\_DEP'\n",
       "\\item 'Ele'\n",
       "\\item 'Income\\_mea'\n",
       "\\item 'Income\\_med'\n",
       "\\item 'Income\\_Q1'\n",
       "\\item 'Income\\_Q3'\n",
       "\\item 'Income\\_sta'\n",
       "\\item 'Income\\_CV'\n",
       "\\item 'Temple'\n",
       "\\end{enumerate*}\n"
      ],
      "text/markdown": [
       "1. 'Cluster'\n",
       "2. 'high_rat'\n",
       "3. 'low_rat'\n",
       "4. 'M_F_RAT'\n",
       "5. 'P_DEN'\n",
       "6. 'DEPENDENCY'\n",
       "7. 'YOUN_DEP'\n",
       "8. 'OLD_DEP'\n",
       "9. 'Ele'\n",
       "10. 'Income_mea'\n",
       "11. 'Income_med'\n",
       "12. 'Income_Q1'\n",
       "13. 'Income_Q3'\n",
       "14. 'Income_sta'\n",
       "15. 'Income_CV'\n",
       "16. 'Temple'\n",
       "\n",
       "\n"
      ],
      "text/plain": [
       " [1] \"Cluster\"    \"high_rat\"   \"low_rat\"    \"M_F_RAT\"    \"P_DEN\"     \n",
       " [6] \"DEPENDENCY\" \"YOUN_DEP\"   \"OLD_DEP\"    \"Ele\"        \"Income_mea\"\n",
       "[11] \"Income_med\" \"Income_Q1\"  \"Income_Q3\"  \"Income_sta\" \"Income_CV\" \n",
       "[16] \"Temple\"    "
      ]
     },
     "metadata": {},
     "output_type": "display_data"
    }
   ],
   "source": [
    "col_X_02"
   ]
  },
  {
   "cell_type": "markdown",
   "metadata": {},
   "source": [
    "### GLM_POISSON "
   ]
  },
  {
   "cell_type": "code",
   "execution_count": null,
   "metadata": {
    "vscode": {
     "languageId": "r"
    }
   },
   "outputs": [],
   "source": [
    "Fit_Po <-glm(Nt~.,data=Variable_KS_df[,c(col_y,col_X_02)],family=poisson())\n",
    "# Fit_Po <- glm(Nt~., data=Variable_KS_df[,c(col_y,col_X_02)], family = Gamma(link = \"log\"))\n",
    "summary(Fit_Po) #查看回归模型参数\n"
   ]
  },
  {
   "cell_type": "code",
   "execution_count": null,
   "metadata": {
    "vscode": {
     "languageId": "r"
    }
   },
   "outputs": [],
   "source": [
    "# pdf_plot(Fit_Po$residuals)+xlab('residuals')\n",
    "Variable_KS_centroid %>% \n",
    "  ggplot()+geom_sf(aes(color = residuals(Fit_Po), size = residuals(Fit_Po), alpha = .8))+\n",
    "  scale_fill_gradient(low = \"#56B1F7\", high = \"#132B43\", na.value = NA)+\n",
    "  theme_bw()"
   ]
  },
  {
   "cell_type": "code",
   "execution_count": null,
   "metadata": {
    "vscode": {
     "languageId": "r"
    }
   },
   "outputs": [],
   "source": [
    "nb <- poly2nb(Variable_KS_shp, queen=TRUE)\n",
    "lw <- nb2listw(nb, style=\"W\", zero.policy=TRUE)"
   ]
  },
  {
   "cell_type": "code",
   "execution_count": null,
   "metadata": {
    "vscode": {
     "languageId": "r"
    }
   },
   "outputs": [],
   "source": [
    "print(lw$weights[[1]])"
   ]
  },
  {
   "cell_type": "markdown",
   "metadata": {},
   "source": [
    "### Spatial glmm\n",
    "- [Package](https://kimura.univ-montp2.fr/~rousset/spaMM/spaMMintro.pdf)\n",
    "- [Theory](https://bookdown.org/xiangyun/Thesis-Template-Bookdown/)"
   ]
  },
  {
   "cell_type": "markdown",
   "metadata": {},
   "source": [
    "### GWR-Poisson"
   ]
  },
  {
   "cell_type": "code",
   "execution_count": null,
   "metadata": {
    "vscode": {
     "languageId": "r"
    }
   },
   "outputs": [],
   "source": []
  },
  {
   "cell_type": "code",
   "execution_count": 49,
   "metadata": {
    "vscode": {
     "languageId": "r"
    }
   },
   "outputs": [],
   "source": [
    "formula.GWPR = Nt ~.\n",
    "DM<-gw.dist(dp.locat=data.matrix(((Variable_KS_df[c('X', \"Y\")]))))"
   ]
  },
  {
   "cell_type": "code",
   "execution_count": 65,
   "metadata": {
    "vscode": {
     "languageId": "r"
    }
   },
   "outputs": [
    {
     "ename": "ERROR",
     "evalue": "Error in y + 0.1: 二元運算子中有非數值引數\n",
     "output_type": "error",
     "traceback": [
      "Error in y + 0.1: 二元運算子中有非數值引數\nTraceback:\n",
      "1. bw.ggwr(formula.GWPR, data = (Variable_KS_shp[c(col_X_02, col_y)]), \n .     family = \"poisson\", approach = \"AICc\", kernel = \"gaussian\", \n .     adaptive = TRUE, dMat = DM)",
      "2. gold(ggwr.aic, lower, upper, adapt.bw = adaptive, x, y, family = family, \n .     kernel, adaptive, dp.locat, p, theta, longlat, dMat)",
      "3. eval(fun(x1, ...))",
      "4. fun(x1, ...)",
      "5. gwr.poisson.wt(Y, X, bw, Wt)"
     ]
    }
   ],
   "source": [
    "bw.gwr <- bw.ggwr(formula.GWPR,  \n",
    "                 data = (Variable_KS_shp[c(col_X_02, col_y)]),\n",
    "                 family = \"poisson\",\n",
    "                 approach = \"AICc\",\n",
    "                 kernel = \"gaussian\", \n",
    "                 adaptive = TRUE,\n",
    "                 dMat = DM )\n",
    "bw.gwr"
   ]
  },
  {
   "cell_type": "code",
   "execution_count": 109,
   "metadata": {
    "vscode": {
     "languageId": "r"
    }
   },
   "outputs": [
    {
     "ename": "ERROR",
     "evalue": "Error in as.list.default(X): 沒有方法可將這個 S4 類別強制變更成向量\n",
     "output_type": "error",
     "traceback": [
      "Error in as.list.default(X): 沒有方法可將這個 S4 類別強制變更成向量\nTraceback:\n",
      "1. lapply(Variable_KS_shp[\"Nt\"], as.numeric)",
      "2. as.list(X)",
      "3. as.list.default(X)"
     ]
    }
   ],
   "source": [
    "df  <- lapply(Variable_KS_shp[\"Nt\"],as.numeric)"
   ]
  },
  {
   "cell_type": "code",
   "execution_count": 119,
   "metadata": {
    "vscode": {
     "languageId": "r"
    }
   },
   "outputs": [
    {
     "data": {
      "text/html": [
       "<table class=\"dataframe\">\n",
       "<caption>A matrix: 1 × 58 of type chr</caption>\n",
       "<tbody>\n",
       "\t<tr><td>3</td><td>8</td><td>11</td><td>3</td><td>2</td><td>19</td><td>5</td><td>3</td><td>1</td><td>3</td><td>⋯</td><td>31</td><td>26</td><td>11</td><td>9</td><td>2</td><td>1</td><td>16</td><td>2</td><td>1</td><td>2</td></tr>\n",
       "</tbody>\n",
       "</table>\n"
      ],
      "text/latex": [
       "A matrix: 1 × 58 of type chr\n",
       "\\begin{tabular}{lllllllllllllllllllll}\n",
       "\t 3 & 8 & 11 & 3 & 2 & 19 & 5 & 3 & 1 & 3 & ⋯ & 31 & 26 & 11 & 9 & 2 & 1 & 16 & 2 & 1 & 2\\\\\n",
       "\\end{tabular}\n"
      ],
      "text/markdown": [
       "\n",
       "A matrix: 1 × 58 of type chr\n",
       "\n",
       "| 3 | 8 | 11 | 3 | 2 | 19 | 5 | 3 | 1 | 3 | ⋯ | 31 | 26 | 11 | 9 | 2 | 1 | 16 | 2 | 1 | 2 |\n",
       "\n"
      ],
      "text/plain": [
       "     [,1] [,2] [,3] [,4] [,5] [,6] [,7] [,8] [,9] [,10] [,11] [,12] [,13] [,14]\n",
       "[1,] 3    8    11   3    2    19   5    3    1    3     <U+22EF> 31    26    11   \n",
       "     [,15] [,16] [,17] [,18] [,19] [,20] [,21]\n",
       "[1,] 9     2     1     16    2     1     2    "
      ]
     },
     "metadata": {},
     "output_type": "display_data"
    }
   ],
   "source": []
  },
  {
   "cell_type": "code",
   "execution_count": 100,
   "metadata": {
    "vscode": {
     "languageId": "r"
    }
   },
   "outputs": [
    {
     "ename": "ERROR",
     "evalue": "Error in parse(text = x, srcfile = src): <text>:8:1: 未預期的 '}'\n7:    }\n8: }\n   ^\n",
     "output_type": "error",
     "traceback": [
      "Error in parse(text = x, srcfile = src): <text>:8:1: 未預期的 '}'\n7:    }\n8: }\n   ^\nTraceback:\n"
     ]
    }
   ],
   "source": [
    "for (i  in c(col_X_02, col_y)) {\n",
    "\n",
    "    for (x in c(1:nrow(Variable_KS_shp))){\n",
    "\n",
    "        Variable_KS_shp[x,i]  <-  as.numeric(Variable_KS_shp[x,i])\n",
    "    }\n",
    "   }\n",
    "}"
   ]
  },
  {
   "cell_type": "code",
   "execution_count": 101,
   "metadata": {
    "vscode": {
     "languageId": "r"
    }
   },
   "outputs": [
    {
     "name": "stdout",
     "output_type": "stream",
     "text": [
      "class       : SpatialPolygonsDataFrame \n",
      "features    : 1 \n",
      "extent      : 120.3375, 120.3412, 22.60602, 22.61078  (xmin, xmax, ymin, ymax)\n",
      "crs         : +proj=longlat +datum=WGS84 +no_defs \n",
      "variables   : 1\n",
      "names       : Nt \n",
      "value       :  2 \n"
     ]
    }
   ],
   "source": [
    "print(Variable_KS_shp[58,\"Nt\"])"
   ]
  }
 ],
 "metadata": {
  "interpreter": {
   "hash": "130cb21ae947994e67709f98b0e7febef99d570d5d2bf1331cc020fa608bd67a"
  },
  "kernelspec": {
   "display_name": "R",
   "language": "R",
   "name": "ir"
  },
  "language_info": {
   "codemirror_mode": "r",
   "file_extension": ".r",
   "mimetype": "text/x-r-source",
   "name": "R",
   "pygments_lexer": "r",
   "version": "4.1.2"
  },
  "orig_nbformat": 4
 },
 "nbformat": 4,
 "nbformat_minor": 2
}
