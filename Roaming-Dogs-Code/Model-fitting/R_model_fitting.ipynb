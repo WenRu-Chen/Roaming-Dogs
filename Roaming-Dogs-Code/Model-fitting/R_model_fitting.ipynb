{
 "cells": [
  {
   "cell_type": "markdown",
   "metadata": {},
   "source": [
    "### Import packages"
   ]
  },
  {
   "cell_type": "code",
   "execution_count": 2,
   "metadata": {
    "vscode": {
     "languageId": "r"
    }
   },
   "outputs": [],
   "source": [
    "library(GWmodel)      ### GW models\n",
    "library(dplyr)\n",
    "library(sp)           ## Data management\n",
    "library(car)          ## vif\n",
    "library(spdep)        ## Spatial autocorrelation\n",
    "library(RColorBrewer) ## Visualization\n",
    "library(classInt)     ## Class intervals\n",
    "library(raster)       ## spatial data\n",
    "library(grid)         # plot\n",
    "library(gridExtra)    # Multiple plot\n",
    "library(ggplot2)      # Multiple plot\n",
    "library(gtable)\n",
    "library(GGally)       # 相關係數圖矩陣（scatter plot matrix）\n",
    "library(maptools)\n",
    "library(MASS)\n",
    "library(tmap)\n"
   ]
  },
  {
   "cell_type": "markdown",
   "metadata": {},
   "source": [
    "### Function"
   ]
  },
  {
   "cell_type": "markdown",
   "metadata": {},
   "source": [
    "#### pdf_plot"
   ]
  },
  {
   "cell_type": "code",
   "execution_count": 3,
   "metadata": {
    "vscode": {
     "languageId": "r"
    }
   },
   "outputs": [],
   "source": [
    "\n",
    "pdf_plot <- function(x){\n",
    "  g = ggplot()+\n",
    "    geom_histogram(aes(x = x, y = ..density..), \n",
    "                   fill = '#557C55', alpha = 0.8)+\n",
    "    geom_density(aes(x = x, y = ..density..), \n",
    "                 color = '#062C30', size = 1)+\n",
    "    theme_bw()\n",
    "  \n",
    "  return(g)\n",
    "}"
   ]
  },
  {
   "cell_type": "markdown",
   "metadata": {},
   "source": [
    "### Load datas"
   ]
  },
  {
   "cell_type": "code",
   "execution_count": 4,
   "metadata": {
    "vscode": {
     "languageId": "r"
    }
   },
   "outputs": [
    {
     "data": {
      "text/html": [
       "'c:/@@Roaming_Dogs_Data_Analysis/Roaming-Dogs-Code/Model-fitting'"
      ],
      "text/latex": [
       "'c:/@@Roaming\\_Dogs\\_Data\\_Analysis/Roaming-Dogs-Code/Model-fitting'"
      ],
      "text/markdown": [
       "'c:/@@Roaming_Dogs_Data_Analysis/Roaming-Dogs-Code/Model-fitting'"
      ],
      "text/plain": [
       "[1] \"c:/@@Roaming_Dogs_Data_Analysis/Roaming-Dogs-Code/Model-fitting\""
      ]
     },
     "metadata": {},
     "output_type": "display_data"
    },
    {
     "name": "stderr",
     "output_type": "stream",
     "text": [
      "Warning message in OGRSpatialRef(dsn, layer, morphFromESRI = morphFromESRI, dumpSRS = dumpSRS, :\n",
      "\"Discarded datum Taiwan_Datum_1997 in Proj4 definition: +proj=tmerc +lat_0=0 +lon_0=121 +k=0.9999 +x_0=250000 +y_0=0 +ellps=GRS80 +towgs84=0,0,0,0,0,0,0 +units=m +no_defs\"\n",
      "Warning message in showSRID(uprojargs, format = \"PROJ\", multiline = \"NO\", prefer_proj = prefer_proj):\n",
      "\"Discarded datum Taiwan_Datum_1997 in Proj4 definition\"\n"
     ]
    }
   ],
   "source": [
    "getwd()\n",
    "path = '..\\\\..\\\\Roaming-Dogs-Data\\\\'\n",
    "Variable_KS_df <- read.csv(paste0(path, \"@Test_KS\\\\Variable.csv\" ), fileEncoding = 'utf-8')\n",
    "Variable_KS_df[\"Clinic\"][is.na(Variable_KS_df[\"Clinic\"])] = 0\n",
    "Variable_KS_shp<-shapefile(paste0(path, \"@Test_KS\\\\Variable.shp\" ),encoding = 'big5')\n",
    "Variable_KS_shp@data[is.na(Variable_KS_shp@data)] <- 0\n",
    "Variable_KS_df[is.na(Variable_KS_df)] <- 0\n",
    "crs(Variable_KS_shp) <- CRS('+init=EPSG:3826') \n",
    "# Variable_KS_shp_02 = st_read(paste0(path, \"@Test_KS\\\\Variable.shp\"))\n",
    "# Variable_KS_centroid <-  st_centroid(Variable_KS_shp)\n",
    "# colnames(Variable_KS_centroid)"
   ]
  },
  {
   "cell_type": "code",
   "execution_count": 5,
   "metadata": {
    "vscode": {
     "languageId": "r"
    }
   },
   "outputs": [
    {
     "data": {
      "text/html": [
       "<style>\n",
       ".list-inline {list-style: none; margin:0; padding: 0}\n",
       ".list-inline>li {display: inline-block}\n",
       ".list-inline>li:not(:last-child)::after {content: \"\\00b7\"; padding: 0 .5ex}\n",
       "</style>\n",
       "<ol class=list-inline><li>0.03545101414932</li><li>0.089210538688815</li><li>1.76056603352074</li><li>0.037770695863434</li><li>0.028783116494603</li><li>0.258113380334197</li><li>0.242802029071305</li><li>0.101930732664544</li><li>0.075362000128821</li><li>0.102980987348319</li><li>0.087130905068987</li><li>0.143304377585651</li><li>0.257793029576156</li><li>0.131369232210368</li><li>0.099311050055154</li><li>1.04320774431144</li><li>1.84039318536273</li><li>2.5930285407679</li><li>2.82685969090651</li><li>0.323995779332518</li><li>2.78465427173848</li><li>1.29212594034883</li><li>0.61044279712046</li><li>0.132202666356857</li><li>0.083970615129989</li><li>2.95640488279767</li><li>8.26908482082664</li><li>4.83195953658305</li><li>9.77580973589323</li><li>6.87362161785386</li><li>4.07275543154344</li><li>2.5651352818077</li><li>3.8972457160787</li><li>0.607563221538216</li><li>1.69963487424603</li><li>0.232023358814403</li><li>0.054152623566544</li><li>0.13553976970184</li><li>0.111752626613902</li><li>0.096576316632115</li><li>0.117333845785482</li><li>0.034475445074147</li><li>0.108589550698529</li><li>0.109848504385659</li><li>0.358282837652521</li><li>1.28967487455207</li><li>1.01096265923596</li><li>0.263875377578919</li><li>1.35786848845372</li><li>1.23247158435852</li><li>0.284386298178578</li><li>0.057787599943634</li><li>0.080973409039716</li><li>0.089462413794984</li><li>0.255564520634415</li><li>0.256992010989781</li><li>0.137442529019896</li><li>0.113278116226824</li></ol>\n"
      ],
      "text/latex": [
       "\\begin{enumerate*}\n",
       "\\item 0.03545101414932\n",
       "\\item 0.089210538688815\n",
       "\\item 1.76056603352074\n",
       "\\item 0.037770695863434\n",
       "\\item 0.028783116494603\n",
       "\\item 0.258113380334197\n",
       "\\item 0.242802029071305\n",
       "\\item 0.101930732664544\n",
       "\\item 0.075362000128821\n",
       "\\item 0.102980987348319\n",
       "\\item 0.087130905068987\n",
       "\\item 0.143304377585651\n",
       "\\item 0.257793029576156\n",
       "\\item 0.131369232210368\n",
       "\\item 0.099311050055154\n",
       "\\item 1.04320774431144\n",
       "\\item 1.84039318536273\n",
       "\\item 2.5930285407679\n",
       "\\item 2.82685969090651\n",
       "\\item 0.323995779332518\n",
       "\\item 2.78465427173848\n",
       "\\item 1.29212594034883\n",
       "\\item 0.61044279712046\n",
       "\\item 0.132202666356857\n",
       "\\item 0.083970615129989\n",
       "\\item 2.95640488279767\n",
       "\\item 8.26908482082664\n",
       "\\item 4.83195953658305\n",
       "\\item 9.77580973589323\n",
       "\\item 6.87362161785386\n",
       "\\item 4.07275543154344\n",
       "\\item 2.5651352818077\n",
       "\\item 3.8972457160787\n",
       "\\item 0.607563221538216\n",
       "\\item 1.69963487424603\n",
       "\\item 0.232023358814403\n",
       "\\item 0.054152623566544\n",
       "\\item 0.13553976970184\n",
       "\\item 0.111752626613902\n",
       "\\item 0.096576316632115\n",
       "\\item 0.117333845785482\n",
       "\\item 0.034475445074147\n",
       "\\item 0.108589550698529\n",
       "\\item 0.109848504385659\n",
       "\\item 0.358282837652521\n",
       "\\item 1.28967487455207\n",
       "\\item 1.01096265923596\n",
       "\\item 0.263875377578919\n",
       "\\item 1.35786848845372\n",
       "\\item 1.23247158435852\n",
       "\\item 0.284386298178578\n",
       "\\item 0.057787599943634\n",
       "\\item 0.080973409039716\n",
       "\\item 0.089462413794984\n",
       "\\item 0.255564520634415\n",
       "\\item 0.256992010989781\n",
       "\\item 0.137442529019896\n",
       "\\item 0.113278116226824\n",
       "\\end{enumerate*}\n"
      ],
      "text/markdown": [
       "1. 0.03545101414932\n",
       "2. 0.089210538688815\n",
       "3. 1.76056603352074\n",
       "4. 0.037770695863434\n",
       "5. 0.028783116494603\n",
       "6. 0.258113380334197\n",
       "7. 0.242802029071305\n",
       "8. 0.101930732664544\n",
       "9. 0.075362000128821\n",
       "10. 0.102980987348319\n",
       "11. 0.087130905068987\n",
       "12. 0.143304377585651\n",
       "13. 0.257793029576156\n",
       "14. 0.131369232210368\n",
       "15. 0.099311050055154\n",
       "16. 1.04320774431144\n",
       "17. 1.84039318536273\n",
       "18. 2.5930285407679\n",
       "19. 2.82685969090651\n",
       "20. 0.323995779332518\n",
       "21. 2.78465427173848\n",
       "22. 1.29212594034883\n",
       "23. 0.61044279712046\n",
       "24. 0.132202666356857\n",
       "25. 0.083970615129989\n",
       "26. 2.95640488279767\n",
       "27. 8.26908482082664\n",
       "28. 4.83195953658305\n",
       "29. 9.77580973589323\n",
       "30. 6.87362161785386\n",
       "31. 4.07275543154344\n",
       "32. 2.5651352818077\n",
       "33. 3.8972457160787\n",
       "34. 0.607563221538216\n",
       "35. 1.69963487424603\n",
       "36. 0.232023358814403\n",
       "37. 0.054152623566544\n",
       "38. 0.13553976970184\n",
       "39. 0.111752626613902\n",
       "40. 0.096576316632115\n",
       "41. 0.117333845785482\n",
       "42. 0.034475445074147\n",
       "43. 0.108589550698529\n",
       "44. 0.109848504385659\n",
       "45. 0.358282837652521\n",
       "46. 1.28967487455207\n",
       "47. 1.01096265923596\n",
       "48. 0.263875377578919\n",
       "49. 1.35786848845372\n",
       "50. 1.23247158435852\n",
       "51. 0.284386298178578\n",
       "52. 0.057787599943634\n",
       "53. 0.080973409039716\n",
       "54. 0.089462413794984\n",
       "55. 0.255564520634415\n",
       "56. 0.256992010989781\n",
       "57. 0.137442529019896\n",
       "58. 0.113278116226824\n",
       "\n",
       "\n"
      ],
      "text/plain": [
       " [1] 0.03545101 0.08921054 1.76056603 0.03777070 0.02878312 0.25811338\n",
       " [7] 0.24280203 0.10193073 0.07536200 0.10298099 0.08713091 0.14330438\n",
       "[13] 0.25779303 0.13136923 0.09931105 1.04320774 1.84039319 2.59302854\n",
       "[19] 2.82685969 0.32399578 2.78465427 1.29212594 0.61044280 0.13220267\n",
       "[25] 0.08397062 2.95640488 8.26908482 4.83195954 9.77580974 6.87362162\n",
       "[31] 4.07275543 2.56513528 3.89724572 0.60756322 1.69963487 0.23202336\n",
       "[37] 0.05415262 0.13553977 0.11175263 0.09657632 0.11733385 0.03447545\n",
       "[43] 0.10858955 0.10984850 0.35828284 1.28967487 1.01096266 0.26387538\n",
       "[49] 1.35786849 1.23247158 0.28438630 0.05778760 0.08097341 0.08946241\n",
       "[55] 0.25556452 0.25699201 0.13744253 0.11327812"
      ]
     },
     "metadata": {},
     "output_type": "display_data"
    }
   ],
   "source": [
    "Variable_KS_df$Area_sqkm\n"
   ]
  },
  {
   "cell_type": "markdown",
   "metadata": {},
   "source": [
    "### Create a residual dataframe"
   ]
  },
  {
   "cell_type": "markdown",
   "metadata": {},
   "source": [
    "### select Xy"
   ]
  },
  {
   "cell_type": "code",
   "execution_count": 28,
   "metadata": {
    "vscode": {
     "languageId": "r"
    }
   },
   "outputs": [],
   "source": [
    "col_X = \n",
    "c( \"Cluster\", # 分群\n",
    "\"Market\",\"Hospital\" ,  \"Temple\",  \"Ele\" ,\"Junior\" ,\"Senior\", \"Train.stat\",  \"Clinic\", # 公共建設\n",
    "\"high_rat\",   \"mid_rat\",\"low_rat\", \"M_F_RAT\" , \"P_DEN\", \"YOUN_DEP\",\"OLD_DEP\",\"AGING_IDX\", # 人口統計(教育程度、人口密度...)\n",
    "\"Income_mea\", \"Income_med\" ,\"Income_Q1\",  \"Income_Q3\",  \"Income_sta\") # 村里收入\n",
    "col_y = c('Nt')"
   ]
  },
  {
   "cell_type": "code",
   "execution_count": 29,
   "metadata": {
    "vscode": {
     "languageId": "r"
    }
   },
   "outputs": [],
   "source": [
    "for(i in c(col_X, col_y)){\n",
    "\n",
    "    Variable_KS_shp@data[i] = Variable_KS_df[i] = sapply(Variable_KS_df[i], function(x) as.numeric(x))\n",
    "}"
   ]
  },
  {
   "cell_type": "code",
   "execution_count": 30,
   "metadata": {
    "vscode": {
     "languageId": "r"
    }
   },
   "outputs": [
    {
     "name": "stdout",
     "output_type": "stream",
     "text": [
      "[1] \"Market_den\"\n",
      "[1] \"Hospital_den\"\n",
      "[1] \"Temple_den\"\n",
      "[1] \"Ele_den\"\n",
      "[1] \"Junior_den\"\n",
      "[1] \"Senior_den\"\n",
      "[1] \"Train.stat_den\"\n",
      "[1] \"Clinic_den\"\n"
     ]
    }
   ],
   "source": [
    "for(i in c('Market','Hospital',  \"Temple\",  \"Ele\" ,\"Junior\" ,\"Senior\", \"Train.stat\",  \"Clinic\")){\n",
    "        \n",
    "    i_new = paste0(i, \"_den\")\n",
    "    print(i_new)\n",
    "    \n",
    "    Variable_KS_shp@data[i_new] = Variable_KS_shp@data[i]/Variable_KS_shp@data$Area_sqkm\n",
    "    Variable_KS_df[i_new] = Variable_KS_df[i]/Variable_KS_df$Area_sqkm\n",
    "}"
   ]
  },
  {
   "cell_type": "code",
   "execution_count": 31,
   "metadata": {
    "vscode": {
     "languageId": "r"
    }
   },
   "outputs": [],
   "source": [
    "col_X = \n",
    "  c( \"Cluster\", # 分群\n",
    "     \"Market_den\",\"Hospital_den\" ,  \"Temple_den\",  \"Ele_den\" ,\"Junior_den\" ,\"Senior_den\", \"Train.stat_den\",  \"Clinic_den\", # 公共建設\n",
    "     \"high_rat\",   \"mid_rat\",\"low_rat\", \"M_F_RAT\" , \"P_DEN\", \"YOUN_DEP\",\"OLD_DEP\",\"AGING_IDX\", # 人口統計(教育程度、人口密度...)\n",
    "     \"Income_mea\",\"Income_sta\")"
   ]
  },
  {
   "cell_type": "markdown",
   "metadata": {},
   "source": [
    "#### Normalize the data"
   ]
  },
  {
   "cell_type": "code",
   "execution_count": 32,
   "metadata": {
    "vscode": {
     "languageId": "r"
    }
   },
   "outputs": [],
   "source": [
    "col_X_scale = \n",
    "c( \n",
    "\"Market_den\",\"Hospital_den\" ,  \"Temple_den\",  \"Ele_den\" ,\"Junior_den\" ,\"Senior_den\", \"Train.stat_den\",  \"Clinic_den\", # 公共建設\n",
    "\"high_rat\",   \"mid_rat\",\"low_rat\", \"M_F_RAT\" , \"P_DEN\", \"YOUN_DEP\",\"OLD_DEP\",\"AGING_IDX\", # 人口統計(教育程度、人口密度...)\n",
    "\"Income_mea\", \"Income_sta\")"
   ]
  },
  {
   "cell_type": "code",
   "execution_count": 33,
   "metadata": {
    "vscode": {
     "languageId": "r"
    }
   },
   "outputs": [
    {
     "name": "stdout",
     "output_type": "stream",
     "text": [
      "[1] \"Market_den\"\n",
      "[1] \"Hospital_den\"\n",
      "[1] \"Temple_den\"\n",
      "[1] \"Ele_den\"\n",
      "[1] \"Junior_den\"\n",
      "[1] \"Senior_den\"\n",
      "[1] \"Train.stat_den\"\n",
      "[1] \"Clinic_den\"\n",
      "[1] \"high_rat\"\n",
      "[1] \"mid_rat\"\n",
      "[1] \"low_rat\"\n",
      "[1] \"M_F_RAT\"\n",
      "[1] \"P_DEN\"\n",
      "[1] \"YOUN_DEP\"\n",
      "[1] \"OLD_DEP\"\n",
      "[1] \"AGING_IDX\"\n",
      "[1] \"Income_mea\"\n",
      "[1] \"Income_sta\"\n"
     ]
    }
   ],
   "source": [
    "for (i in col_X_scale){\n",
    "    print(i)\n",
    "\n",
    "    Variable_KS_df[i] <- scale(Variable_KS_df[i])\n",
    "    Variable_KS_shp@data[i] <-scale(Variable_KS_shp@data[i])\n",
    "\n",
    "}\n"
   ]
  },
  {
   "cell_type": "markdown",
   "metadata": {},
   "source": [
    "#### Correlation "
   ]
  },
  {
   "cell_type": "code",
   "execution_count": 34,
   "metadata": {
    "vscode": {
     "languageId": "r"
    }
   },
   "outputs": [],
   "source": [
    "corr = cor(Variable_KS_df[c(col_y,col_X)])\n",
    "# col_income = c( \"Income_mea\",\"Income_med\" ,\"Income_Q1\", \n",
    "#                 \"Income_Q3\",  \"Income_sta\", \"Income_CV\")\n",
    "# corr_income = sort(corr[col_income,'Nt'])\n",
    "idx = abs(corr[,'Nt'])>.2\n",
    "col_X_02 = names(corr[idx,'Nt']) %>% tail(-1)"
   ]
  },
  {
   "cell_type": "code",
   "execution_count": 35,
   "metadata": {
    "vscode": {
     "languageId": "r"
    }
   },
   "outputs": [
    {
     "data": {
      "text/html": [
       "<style>\n",
       ".dl-inline {width: auto; margin:0; padding: 0}\n",
       ".dl-inline>dt, .dl-inline>dd {float: none; width: auto; display: inline-block}\n",
       ".dl-inline>dt::after {content: \":\\0020\"; padding-right: .5ex}\n",
       ".dl-inline>dt:not(:first-of-type) {padding-left: .5ex}\n",
       "</style><dl class=dl-inline><dt>P_DEN</dt><dd>-0.568947427478958</dd><dt>high_rat</dt><dd>-0.327187815587741</dd><dt>Income_mea</dt><dd>-0.322130926691458</dd><dt>Income_sta</dt><dd>-0.308815540098109</dd><dt>OLD_DEP</dt><dd>-0.296239580703197</dd><dt>Clinic_den</dt><dd>-0.281361366321303</dd><dt>Temple_den</dt><dd>-0.247904014824422</dd><dt>low_rat</dt><dd>0.352051163076637</dd><dt>M_F_RAT</dt><dd>0.369724357878555</dd><dt>Cluster</dt><dd>0.38283189690322</dd></dl>\n"
      ],
      "text/latex": [
       "\\begin{description*}\n",
       "\\item[P\\textbackslash{}\\_DEN] -0.568947427478958\n",
       "\\item[high\\textbackslash{}\\_rat] -0.327187815587741\n",
       "\\item[Income\\textbackslash{}\\_mea] -0.322130926691458\n",
       "\\item[Income\\textbackslash{}\\_sta] -0.308815540098109\n",
       "\\item[OLD\\textbackslash{}\\_DEP] -0.296239580703197\n",
       "\\item[Clinic\\textbackslash{}\\_den] -0.281361366321303\n",
       "\\item[Temple\\textbackslash{}\\_den] -0.247904014824422\n",
       "\\item[low\\textbackslash{}\\_rat] 0.352051163076637\n",
       "\\item[M\\textbackslash{}\\_F\\textbackslash{}\\_RAT] 0.369724357878555\n",
       "\\item[Cluster] 0.38283189690322\n",
       "\\end{description*}\n"
      ],
      "text/markdown": [
       "P_DEN\n",
       ":   -0.568947427478958high_rat\n",
       ":   -0.327187815587741Income_mea\n",
       ":   -0.322130926691458Income_sta\n",
       ":   -0.308815540098109OLD_DEP\n",
       ":   -0.296239580703197Clinic_den\n",
       ":   -0.281361366321303Temple_den\n",
       ":   -0.247904014824422low_rat\n",
       ":   0.352051163076637M_F_RAT\n",
       ":   0.369724357878555Cluster\n",
       ":   0.38283189690322\n",
       "\n"
      ],
      "text/plain": [
       "     P_DEN   high_rat Income_mea Income_sta    OLD_DEP Clinic_den Temple_den \n",
       "-0.5689474 -0.3271878 -0.3221309 -0.3088155 -0.2962396 -0.2813614 -0.2479040 \n",
       "   low_rat    M_F_RAT    Cluster \n",
       " 0.3520512  0.3697244  0.3828319 "
      ]
     },
     "metadata": {},
     "output_type": "display_data"
    },
    {
     "name": "stdout",
     "output_type": "stream",
     "text": [
      " [1] \"Cluster\"    \"Temple_den\" \"Clinic_den\" \"high_rat\"   \"low_rat\"   \n",
      " [6] \"M_F_RAT\"    \"P_DEN\"      \"OLD_DEP\"    \"Income_mea\" \"Income_sta\"\n"
     ]
    }
   ],
   "source": [
    "(corr[idx,'Nr']) %>% tail(-1) %>% sort\n",
    "print(col_X_02)"
   ]
  },
  {
   "cell_type": "markdown",
   "metadata": {},
   "source": [
    "#### Global PCA"
   ]
  },
  {
   "cell_type": "code",
   "execution_count": 36,
   "metadata": {
    "vscode": {
     "languageId": "r"
    }
   },
   "outputs": [],
   "source": [
    "formula_Nt = Nt ~."
   ]
  },
  {
   "cell_type": "code",
   "execution_count": 42,
   "metadata": {
    "vscode": {
     "languageId": "r"
    }
   },
   "outputs": [
    {
     "ename": "ERROR",
     "evalue": "Error in prcomp.formula(formula_Nt, data = Variable_KS_df[c(col_X_02, : response not allowed in formula\n",
     "output_type": "error",
     "traceback": [
      "Error in prcomp.formula(formula_Nt, data = Variable_KS_df[c(col_X_02, : response not allowed in formula\nTraceback:\n",
      "1. prcomp(formula_Nt, data = Variable_KS_df[c(col_X_02, col_y)], \n .     scale = TRUE)",
      "2. prcomp.formula(formula_Nt, data = Variable_KS_df[c(col_X_02, \n .     col_y)], scale = TRUE)",
      "3. stop(\"response not allowed in formula\")"
     ]
    }
   ],
   "source": [
    "pca <- prcomp(formula_Nt,  #選擇變數 \n",
    "              data = Variable_KS_df[c(col_X_02,col_y)],  # 資料\n",
    "              scale = TRUE)                          # 正規化資料"
   ]
  },
  {
   "cell_type": "code",
   "execution_count": 39,
   "metadata": {
    "vscode": {
     "languageId": "r"
    }
   },
   "outputs": [
    {
     "data": {
      "text/html": [
       "'data.frame'"
      ],
      "text/latex": [
       "'data.frame'"
      ],
      "text/markdown": [
       "'data.frame'"
      ],
      "text/plain": [
       "[1] \"data.frame\""
      ]
     },
     "metadata": {},
     "output_type": "display_data"
    }
   ],
   "source": [
    "class(Variable_KS_df[c(col_X_02,col_y)])"
   ]
  },
  {
   "cell_type": "markdown",
   "metadata": {},
   "source": [
    "### GW PCA\n",
    "-  [link01](https://gis.stackexchange.com/questions/35159/how-can-i-conduct-geographically-weighted-principal-component-analysis-using-arc)\n",
    "- [運算方式](https://cihh.utp.ac.pa/sites/default/files/documentos/2021/pdf/geographically_weighted_principal_component.pdf)"
   ]
  },
  {
   "cell_type": "code",
   "execution_count": null,
   "metadata": {
    "vscode": {
     "languageId": "r"
    }
   },
   "outputs": [],
   "source": [
    "DM<-gw.dist(dp.locat=data.matrix(((Variable_KS_df[c('X', \"Y\")]))))\n",
    "\n",
    "\n",
    "bw.gwpca.basic <- \n",
    "bw.gwpca(Variable_KS_shp, vars = col_X_02, k =5, robust = FALSE, adaptive = TRUE, dMat = DM)\n",
    "# bw.gwpca.robust <- \n",
    "# bw.gwpca(Variable_KS_shp, vars = col_X_02, k = 5, robust = TRUE, adaptive = TRUE, dMat = DM )"
   ]
  },
  {
   "cell_type": "code",
   "execution_count": null,
   "metadata": {
    "vscode": {
     "languageId": "r"
    }
   },
   "outputs": [],
   "source": [
    "bw.gwpca.basic"
   ]
  },
  {
   "cell_type": "code",
   "execution_count": null,
   "metadata": {
    "vscode": {
     "languageId": "r"
    }
   },
   "outputs": [],
   "source": [
    "gwpca.basic <- gwpca(Variable_KS_shp,\n",
    " vars = col_X_02, bw = bw.gwpca.basic, k = 8, robust = FALSE, adaptive = TRUE)"
   ]
  },
  {
   "cell_type": "markdown",
   "metadata": {},
   "source": [
    "### GLM_POISSON "
   ]
  },
  {
   "cell_type": "code",
   "execution_count": null,
   "metadata": {
    "vscode": {
     "languageId": "r"
    }
   },
   "outputs": [],
   "source": [
    "Fit_Po <-glm(Nt~.,data=Variable_KS_df[,c(col_y,col_X_02)],family=poisson())\n",
    "# Fit_Po <- glm(Nt~., data=Variable_KS_df[,c(col_y,col_X_02)], family = Gamma(link = \"log\"))\n",
    "summary(Fit_Po) #查看回归模型参数\n"
   ]
  },
  {
   "cell_type": "code",
   "execution_count": null,
   "metadata": {
    "vscode": {
     "languageId": "r"
    }
   },
   "outputs": [],
   "source": [
    "# pdf_plot(Fit_Po$residuals)+xlab('residuals')\n",
    "Variable_KS_centroid %>% \n",
    "  ggplot()+geom_sf(aes(color = residuals(Fit_Po), size = residuals(Fit_Po), alpha = .8))+\n",
    "  scale_fill_gradient(low = \"#56B1F7\", high = \"#132B43\", na.value = NA)+\n",
    "  theme_bw()"
   ]
  },
  {
   "cell_type": "code",
   "execution_count": null,
   "metadata": {
    "vscode": {
     "languageId": "r"
    }
   },
   "outputs": [],
   "source": [
    "nb <- poly2nb(Variable_KS_shp, queen=TRUE)\n",
    "lw <- nb2listw(nb, style=\"W\", zero.policy=TRUE)"
   ]
  },
  {
   "cell_type": "code",
   "execution_count": null,
   "metadata": {
    "vscode": {
     "languageId": "r"
    }
   },
   "outputs": [],
   "source": [
    "print(lw$weights[[1]])"
   ]
  },
  {
   "cell_type": "markdown",
   "metadata": {},
   "source": [
    "### Spatial glmm\n",
    "- [Package](https://kimura.univ-montp2.fr/~rousset/spaMM/spaMMintro.pdf)\n",
    "- [Theory](https://bookdown.org/xiangyun/Thesis-Template-Bookdown/)"
   ]
  },
  {
   "cell_type": "markdown",
   "metadata": {},
   "source": [
    "### GWR-Poisson"
   ]
  },
  {
   "cell_type": "code",
   "execution_count": 20,
   "metadata": {
    "vscode": {
     "languageId": "r"
    }
   },
   "outputs": [],
   "source": [
    "formula.GWPR = Nt ~.\n",
    "DM<-gw.dist(dp.locat=data.matrix(((Variable_KS_df[c('X', \"Y\")]))))"
   ]
  },
  {
   "cell_type": "code",
   "execution_count": 22,
   "metadata": {
    "vscode": {
     "languageId": "r"
    }
   },
   "outputs": [
    {
     "name": "stdout",
     "output_type": "stream",
     "text": [
      " Iteration    Log-Likelihood(With bandwidth:  43 )\n",
      "=========================\n",
      "       0       -336.3 \n",
      "       1       -343.6 \n",
      "       2       -268.2 \n",
      "       3       -245.8 \n",
      "       4       -242.3 \n",
      "       5       -241.8 \n",
      "       6       -241.7 \n",
      "       7       -241.7 \n",
      "Adaptive bandwidth (number of nearest neighbours): 43 AICc value: 523.6588 \n",
      " Iteration    Log-Likelihood(With bandwidth:  35 )\n",
      "=========================\n",
      "       0       -323.1 \n",
      "       1       -327.3 \n",
      "       2       -260.8 \n",
      "       3       -235.6 \n",
      "       4       -230.8 \n",
      "       5       -229.4 \n",
      "       6       -229.2 \n",
      "       7       -229.2 \n",
      "       8       -229.2 \n",
      "Adaptive bandwidth (number of nearest neighbours): 35 AICc value: 507.702 \n",
      " Iteration    Log-Likelihood(With bandwidth:  28 )\n",
      "=========================\n",
      "       0       -313.8 \n",
      "       1       -325.5 \n",
      "       2       -258.2 \n",
      "       3       -228.2 \n",
      "       4       -222.1 \n",
      "       5       -220.1 \n",
      "       6       -219.7 \n",
      "       7       -219.6 \n",
      "       8       -219.6 \n",
      "       9       -219.6 \n",
      "Adaptive bandwidth (number of nearest neighbours): 28 AICc value: 497.6845 \n",
      " Iteration    Log-Likelihood(With bandwidth:  26 )\n",
      "=========================\n",
      "       0       -310.8 \n",
      "       1       -331.5 \n",
      "       2       -260.8 \n",
      "       3       -227.2 \n",
      "       4       -219.8 \n",
      "       5       -217.5 \n",
      "       6       -216.8 \n",
      "       7       -216.7 \n",
      "       8       -216.7 \n",
      "       9       -216.7 \n",
      "Adaptive bandwidth (number of nearest neighbours): 26 AICc value: 494.5343 \n",
      " Iteration    Log-Likelihood(With bandwidth:  22 )\n",
      "=========================\n",
      "       0       -304.7 \n",
      "       1       -326.3 \n",
      "       2       -259.3 \n",
      "       3       -222.5 \n",
      "       4       -214.9 \n",
      "       5       -212.5 \n",
      "       6       -211.7 \n",
      "       7       -211.7 \n",
      "       8       -211.7 \n",
      "       9       -211.7 \n",
      "Adaptive bandwidth (number of nearest neighbours): 22 AICc value: 489.7593 \n",
      " Iteration    Log-Likelihood(With bandwidth:  22 )\n",
      "=========================\n",
      "       0       -304.7 \n",
      "       1       -326.3 \n",
      "       2       -259.3 \n",
      "       3       -222.5 \n",
      "       4       -214.9 \n",
      "       5       -212.5 \n",
      "       6       -211.7 \n",
      "       7       -211.7 \n",
      "       8       -211.7 \n",
      "       9       -211.7 \n",
      "Adaptive bandwidth (number of nearest neighbours): 22 AICc value: 489.7593 \n"
     ]
    },
    {
     "data": {
      "text/html": [
       "22"
      ],
      "text/latex": [
       "22"
      ],
      "text/markdown": [
       "22"
      ],
      "text/plain": [
       "[1] 22"
      ]
     },
     "metadata": {},
     "output_type": "display_data"
    }
   ],
   "source": [
    "bw <- bw.ggwr(formula.GWPR,  \n",
    "                  data = Variable_KS_shp[c(col_X_02, col_y)],\n",
    "                  family = \"poisson\",\n",
    "                  approach = \"AICc\",\n",
    "                  kernel = \"gaussian\", \n",
    "                  adaptive = TRUE,\n",
    "                  dMat = DM )\n",
    "bw"
   ]
  },
  {
   "cell_type": "code",
   "execution_count": null,
   "metadata": {
    "vscode": {
     "languageId": "r"
    }
   },
   "outputs": [],
   "source": [
    "GWPR_model <- ggwr.basic(formula.GWPR, \n",
    "                       data = Variable_KS_shp[c(col_X_02, col_y)],\n",
    "                       family = \"poisson\",\n",
    "                       bw = bw, \n",
    "                       kernel = \"gaussian\", \n",
    "                       adaptive = TRUE,\n",
    "                       dMat = DM)"
   ]
  },
  {
   "cell_type": "code",
   "execution_count": null,
   "metadata": {
    "vscode": {
     "languageId": "r"
    }
   },
   "outputs": [],
   "source": [
    "GWPR_model$glms$residuals %>% pdf_plot() +\n",
    "xlab(\"residual of GWPR\")\n"
   ]
  },
  {
   "cell_type": "code",
   "execution_count": null,
   "metadata": {
    "vscode": {
     "languageId": "r"
    }
   },
   "outputs": [],
   "source": [
    "ggplot()+geom_point(aes(x = Variable_KS_df$X, y = Variable_KS_df$Y, color = GWPR_model$glms$residual, size = 2))"
   ]
  }
 ],
 "metadata": {
  "interpreter": {
   "hash": "130cb21ae947994e67709f98b0e7febef99d570d5d2bf1331cc020fa608bd67a"
  },
  "kernelspec": {
   "display_name": "R",
   "language": "R",
   "name": "ir"
  },
  "language_info": {
   "codemirror_mode": "r",
   "file_extension": ".r",
   "mimetype": "text/x-r-source",
   "name": "R",
   "pygments_lexer": "r",
   "version": "4.1.2"
  },
  "orig_nbformat": 4
 },
 "nbformat": 4,
 "nbformat_minor": 2
}
