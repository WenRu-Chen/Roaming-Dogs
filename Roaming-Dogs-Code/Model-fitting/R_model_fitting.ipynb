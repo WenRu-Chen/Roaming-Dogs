{
 "cells": [
  {
   "cell_type": "markdown",
   "metadata": {},
   "source": [
    "### Import packages"
   ]
  },
  {
   "cell_type": "code",
   "execution_count": 3,
   "metadata": {
    "vscode": {
     "languageId": "r"
    }
   },
   "outputs": [
    {
     "name": "stderr",
     "output_type": "stream",
     "text": [
      "載入需要的套件：maptools\n",
      "\n",
      "載入需要的套件：sp\n",
      "\n",
      "Checking rgeos availability: TRUE\n",
      "\n",
      "載入需要的套件：robustbase\n",
      "\n",
      "載入需要的套件：Rcpp\n",
      "\n",
      "載入需要的套件：spatialreg\n",
      "\n",
      "載入需要的套件：spData\n",
      "\n",
      "載入需要的套件：Matrix\n",
      "\n",
      "載入需要的套件：sf\n",
      "\n",
      "Linking to GEOS 3.9.0, GDAL 3.2.1, PROJ 7.2.1\n",
      "\n",
      "Welcome to GWmodel version 2.2-8.\n",
      "\n",
      "\n",
      "載入套件：'dplyr'\n",
      "\n",
      "\n",
      "下列物件被遮斷自 'package:stats':\n",
      "\n",
      "    filter, lag\n",
      "\n",
      "\n",
      "下列物件被遮斷自 'package:base':\n",
      "\n",
      "    intersect, setdiff, setequal, union\n",
      "\n",
      "\n",
      "載入需要的套件：carData\n",
      "\n",
      "\n",
      "載入套件：'car'\n",
      "\n",
      "\n",
      "下列物件被遮斷自 'package:dplyr':\n",
      "\n",
      "    recode\n",
      "\n",
      "\n",
      "\n",
      "載入套件：'spdep'\n",
      "\n",
      "\n",
      "下列物件被遮斷自 'package:spatialreg':\n",
      "\n",
      "    aple, aple.mc, aple.plot, as.spam.listw, as_dgRMatrix_listw,\n",
      "    as_dsCMatrix_I, as_dsCMatrix_IrW, as_dsTMatrix_listw,\n",
      "    can.be.simmed, cheb_setup, create_WX, do_ldet, eigen_pre_setup,\n",
      "    eigen_setup, eigenw, errorsarlm, get.ClusterOption,\n",
      "    get.coresOption, get.mcOption, get.VerboseOption,\n",
      "    get.ZeroPolicyOption, GMargminImage, GMerrorsar, griffith_sone,\n",
      "    gstsls, Hausman.test, impacts, intImpacts, invIrM, invIrW,\n",
      "    Jacobian_W, jacobianSetup, l_max, lagmess, lagsarlm, lextrB,\n",
      "    lextrS, lextrW, lmSLX, localAple, LU_prepermutate_setup, LU_setup,\n",
      "    Matrix_J_setup, Matrix_setup, mcdet_setup, MCMCsamp, ME, mom_calc,\n",
      "    mom_calc_int2, moments_setup, powerWeights, sacsarlm,\n",
      "    SE_classic_setup, SE_interp_setup, SE_whichMin_setup,\n",
      "    set.ClusterOption, set.coresOption, set.mcOption,\n",
      "    set.VerboseOption, set.ZeroPolicyOption, similar.listw, spam_setup,\n",
      "    spam_update_setup, SpatialFiltering, spautolm, spBreg_err,\n",
      "    spBreg_lag, spBreg_sac, stsls, subgraph_eigenw, trW\n",
      "\n",
      "\n",
      "\n",
      "載入套件：'raster'\n",
      "\n",
      "\n",
      "下列物件被遮斷自 'package:dplyr':\n",
      "\n",
      "    select\n",
      "\n",
      "\n",
      "\n",
      "載入套件：'gridExtra'\n",
      "\n",
      "\n",
      "下列物件被遮斷自 'package:dplyr':\n",
      "\n",
      "    combine\n",
      "\n",
      "\n",
      "Registered S3 method overwritten by 'GGally':\n",
      "  method from   \n",
      "  +.gg   ggplot2\n",
      "\n",
      "\n",
      "載入套件：'MASS'\n",
      "\n",
      "\n",
      "下列物件被遮斷自 'package:raster':\n",
      "\n",
      "    area, select\n",
      "\n",
      "\n",
      "下列物件被遮斷自 'package:dplyr':\n",
      "\n",
      "    select\n",
      "\n",
      "\n"
     ]
    }
   ],
   "source": [
    "library(GWmodel)      ### GW models\n",
    "library(dplyr)\n",
    "library(sp)           ## Data management\n",
    "library(car)          ## vif\n",
    "library(spdep)        ## Spatial autocorrelation\n",
    "library(RColorBrewer) ## Visualization\n",
    "library(classInt)     ## Class intervals\n",
    "library(raster)       ## spatial data\n",
    "library(grid)         # plot\n",
    "library(gridExtra)    # Multiple plot\n",
    "library(ggplot2)      # Multiple plot\n",
    "library(gtable)\n",
    "library(GGally)       # 相關係數圖矩陣（scatter plot matrix）\n",
    "library(maptools)\n",
    "library(MASS)\n",
    "library(tmap)"
   ]
  },
  {
   "cell_type": "markdown",
   "metadata": {},
   "source": [
    "### Function"
   ]
  },
  {
   "cell_type": "markdown",
   "metadata": {},
   "source": [
    "#### pdf_plot"
   ]
  },
  {
   "cell_type": "code",
   "execution_count": 4,
   "metadata": {
    "vscode": {
     "languageId": "r"
    }
   },
   "outputs": [],
   "source": [
    "\n",
    "pdf_plot <- function(x){\n",
    "  g = ggplot()+\n",
    "    geom_histogram(aes(x = x, y = ..density..), \n",
    "                   fill = '#557C55', alpha = 0.8)+\n",
    "    geom_density(aes(x = x, y = ..density..), \n",
    "                 color = '#062C30', size = 1)+\n",
    "    theme_bw()\n",
    "  \n",
    "  return(g)\n",
    "}\n"
   ]
  },
  {
   "cell_type": "markdown",
   "metadata": {},
   "source": [
    "### Load datas"
   ]
  },
  {
   "cell_type": "code",
   "execution_count": 92,
   "metadata": {
    "vscode": {
     "languageId": "r"
    }
   },
   "outputs": [
    {
     "data": {
      "text/html": [
       "'c:/@@Roaming_Dogs_Data_Analysis/Roaming-Dogs-Code/Model-fitting'"
      ],
      "text/latex": [
       "'c:/@@Roaming\\_Dogs\\_Data\\_Analysis/Roaming-Dogs-Code/Model-fitting'"
      ],
      "text/markdown": [
       "'c:/@@Roaming_Dogs_Data_Analysis/Roaming-Dogs-Code/Model-fitting'"
      ],
      "text/plain": [
       "[1] \"c:/@@Roaming_Dogs_Data_Analysis/Roaming-Dogs-Code/Model-fitting\""
      ]
     },
     "metadata": {},
     "output_type": "display_data"
    },
    {
     "name": "stdout",
     "output_type": "stream",
     "text": [
      "Reading layer `Variable' from data source \n",
      "  `C:\\@@Roaming_Dogs_Data_Analysis\\Roaming-Dogs-Data\\@Test_KS\\Variable.shp' \n",
      "  using driver `ESRI Shapefile'\n",
      "Simple feature collection with 58 features and 56 fields\n",
      "Geometry type: POLYGON\n",
      "Dimension:     XY\n",
      "Bounding box:  xmin: 120.1902 ymin: 22.47035 xmax: 120.557 ymax: 22.97208\n",
      "Geodetic CRS:  WGS 84\n"
     ]
    },
    {
     "name": "stderr",
     "output_type": "stream",
     "text": [
      "Warning message in st_centroid.sf(Variable_KS_shp):\n",
      "\"st_centroid assumes attributes are constant over geometries of x\"\n"
     ]
    },
    {
     "data": {
      "text/html": [
       "<style>\n",
       ".list-inline {list-style: none; margin:0; padding: 0}\n",
       ".list-inline>li {display: inline-block}\n",
       ".list-inline>li:not(:last-child)::after {content: \"\\00b7\"; padding: 0 .5ex}\n",
       "</style>\n",
       "<ol class=list-inline><li>'Market'</li><li>'COUNTYNAME'</li><li>'TOWNNAME'</li><li>'VILLNAME'</li><li>'VILLENG'</li><li>'COUNTYID'</li><li>'COUNTYCODE'</li><li>'TOWNID'</li><li>'TOWNCODE'</li><li>'NOTE'</li><li>'Cluster'</li><li>'high_rat'</li><li>'mid_rat'</li><li>'low_rat'</li><li>'high_edu'</li><li>'mid_edu'</li><li>'low_edu'</li><li>'Hospital_1'</li><li>'Hospital_2'</li><li>'Hospital_3'</li><li>'Hospital_4'</li><li>'M_F_RAT'</li><li>'P_H_CNT'</li><li>'P_DEN'</li><li>'DEPENDENCY'</li><li>'YOUN_DEP'</li><li>'OLD_DEP'</li><li>'AGING_IDX'</li><li>'H_CNT'</li><li>'P_CNT'</li><li>'M_CNT'</li><li>'F_CNT'</li><li>'Ele'</li><li>'Ele_stu'</li><li>'Junior'</li><li>'Junior_stu'</li><li>'Senior'</li><li>'Senior_stu'</li><li>'TaxPayer'</li><li>'Income_tot'</li><li>'Income_mea'</li><li>'Income_med'</li><li>'Income_Q1'</li><li>'Income_Q3'</li><li>'Income_sta'</li><li>'Income_CV'</li><li>'Temple'</li><li>'Train.stat'</li><li>'Train.crow'</li><li>'Hospital'</li><li>'Clinic'</li><li>'Area'</li><li>'country'</li><li>'town'</li><li>'village'</li><li>'Nt'</li><li>'geometry'</li></ol>\n"
      ],
      "text/latex": [
       "\\begin{enumerate*}\n",
       "\\item 'Market'\n",
       "\\item 'COUNTYNAME'\n",
       "\\item 'TOWNNAME'\n",
       "\\item 'VILLNAME'\n",
       "\\item 'VILLENG'\n",
       "\\item 'COUNTYID'\n",
       "\\item 'COUNTYCODE'\n",
       "\\item 'TOWNID'\n",
       "\\item 'TOWNCODE'\n",
       "\\item 'NOTE'\n",
       "\\item 'Cluster'\n",
       "\\item 'high\\_rat'\n",
       "\\item 'mid\\_rat'\n",
       "\\item 'low\\_rat'\n",
       "\\item 'high\\_edu'\n",
       "\\item 'mid\\_edu'\n",
       "\\item 'low\\_edu'\n",
       "\\item 'Hospital\\_1'\n",
       "\\item 'Hospital\\_2'\n",
       "\\item 'Hospital\\_3'\n",
       "\\item 'Hospital\\_4'\n",
       "\\item 'M\\_F\\_RAT'\n",
       "\\item 'P\\_H\\_CNT'\n",
       "\\item 'P\\_DEN'\n",
       "\\item 'DEPENDENCY'\n",
       "\\item 'YOUN\\_DEP'\n",
       "\\item 'OLD\\_DEP'\n",
       "\\item 'AGING\\_IDX'\n",
       "\\item 'H\\_CNT'\n",
       "\\item 'P\\_CNT'\n",
       "\\item 'M\\_CNT'\n",
       "\\item 'F\\_CNT'\n",
       "\\item 'Ele'\n",
       "\\item 'Ele\\_stu'\n",
       "\\item 'Junior'\n",
       "\\item 'Junior\\_stu'\n",
       "\\item 'Senior'\n",
       "\\item 'Senior\\_stu'\n",
       "\\item 'TaxPayer'\n",
       "\\item 'Income\\_tot'\n",
       "\\item 'Income\\_mea'\n",
       "\\item 'Income\\_med'\n",
       "\\item 'Income\\_Q1'\n",
       "\\item 'Income\\_Q3'\n",
       "\\item 'Income\\_sta'\n",
       "\\item 'Income\\_CV'\n",
       "\\item 'Temple'\n",
       "\\item 'Train.stat'\n",
       "\\item 'Train.crow'\n",
       "\\item 'Hospital'\n",
       "\\item 'Clinic'\n",
       "\\item 'Area'\n",
       "\\item 'country'\n",
       "\\item 'town'\n",
       "\\item 'village'\n",
       "\\item 'Nt'\n",
       "\\item 'geometry'\n",
       "\\end{enumerate*}\n"
      ],
      "text/markdown": [
       "1. 'Market'\n",
       "2. 'COUNTYNAME'\n",
       "3. 'TOWNNAME'\n",
       "4. 'VILLNAME'\n",
       "5. 'VILLENG'\n",
       "6. 'COUNTYID'\n",
       "7. 'COUNTYCODE'\n",
       "8. 'TOWNID'\n",
       "9. 'TOWNCODE'\n",
       "10. 'NOTE'\n",
       "11. 'Cluster'\n",
       "12. 'high_rat'\n",
       "13. 'mid_rat'\n",
       "14. 'low_rat'\n",
       "15. 'high_edu'\n",
       "16. 'mid_edu'\n",
       "17. 'low_edu'\n",
       "18. 'Hospital_1'\n",
       "19. 'Hospital_2'\n",
       "20. 'Hospital_3'\n",
       "21. 'Hospital_4'\n",
       "22. 'M_F_RAT'\n",
       "23. 'P_H_CNT'\n",
       "24. 'P_DEN'\n",
       "25. 'DEPENDENCY'\n",
       "26. 'YOUN_DEP'\n",
       "27. 'OLD_DEP'\n",
       "28. 'AGING_IDX'\n",
       "29. 'H_CNT'\n",
       "30. 'P_CNT'\n",
       "31. 'M_CNT'\n",
       "32. 'F_CNT'\n",
       "33. 'Ele'\n",
       "34. 'Ele_stu'\n",
       "35. 'Junior'\n",
       "36. 'Junior_stu'\n",
       "37. 'Senior'\n",
       "38. 'Senior_stu'\n",
       "39. 'TaxPayer'\n",
       "40. 'Income_tot'\n",
       "41. 'Income_mea'\n",
       "42. 'Income_med'\n",
       "43. 'Income_Q1'\n",
       "44. 'Income_Q3'\n",
       "45. 'Income_sta'\n",
       "46. 'Income_CV'\n",
       "47. 'Temple'\n",
       "48. 'Train.stat'\n",
       "49. 'Train.crow'\n",
       "50. 'Hospital'\n",
       "51. 'Clinic'\n",
       "52. 'Area'\n",
       "53. 'country'\n",
       "54. 'town'\n",
       "55. 'village'\n",
       "56. 'Nt'\n",
       "57. 'geometry'\n",
       "\n",
       "\n"
      ],
      "text/plain": [
       " [1] \"Market\"     \"COUNTYNAME\" \"TOWNNAME\"   \"VILLNAME\"   \"VILLENG\"   \n",
       " [6] \"COUNTYID\"   \"COUNTYCODE\" \"TOWNID\"     \"TOWNCODE\"   \"NOTE\"      \n",
       "[11] \"Cluster\"    \"high_rat\"   \"mid_rat\"    \"low_rat\"    \"high_edu\"  \n",
       "[16] \"mid_edu\"    \"low_edu\"    \"Hospital_1\" \"Hospital_2\" \"Hospital_3\"\n",
       "[21] \"Hospital_4\" \"M_F_RAT\"    \"P_H_CNT\"    \"P_DEN\"      \"DEPENDENCY\"\n",
       "[26] \"YOUN_DEP\"   \"OLD_DEP\"    \"AGING_IDX\"  \"H_CNT\"      \"P_CNT\"     \n",
       "[31] \"M_CNT\"      \"F_CNT\"      \"Ele\"        \"Ele_stu\"    \"Junior\"    \n",
       "[36] \"Junior_stu\" \"Senior\"     \"Senior_stu\" \"TaxPayer\"   \"Income_tot\"\n",
       "[41] \"Income_mea\" \"Income_med\" \"Income_Q1\"  \"Income_Q3\"  \"Income_sta\"\n",
       "[46] \"Income_CV\"  \"Temple\"     \"Train.stat\" \"Train.crow\" \"Hospital\"  \n",
       "[51] \"Clinic\"     \"Area\"       \"country\"    \"town\"       \"village\"   \n",
       "[56] \"Nt\"         \"geometry\"  "
      ]
     },
     "metadata": {},
     "output_type": "display_data"
    },
    {
     "data": {
      "text/html": [
       "57"
      ],
      "text/latex": [
       "57"
      ],
      "text/markdown": [
       "57"
      ],
      "text/plain": [
       "[1] 57"
      ]
     },
     "metadata": {},
     "output_type": "display_data"
    },
    {
     "data": {
      "text/html": [
       "58"
      ],
      "text/latex": [
       "58"
      ],
      "text/markdown": [
       "58"
      ],
      "text/plain": [
       "[1] 58"
      ]
     },
     "metadata": {},
     "output_type": "display_data"
    }
   ],
   "source": [
    "getwd()\n",
    "path = '..\\\\..\\\\Roaming-Dogs-Data\\\\'\n",
    "Variable_KS_df <- read.csv(paste0(path, \"@Test_KS\\\\Variable.csv\" ), fileEncoding = 'utf-8')\n",
    "Variable_KS_df[\"Clinic\"][is.na(Variable_KS_df[\"Clinic\"])] = 0\n",
    "Variable_KS_shp<-st_read(paste0(path, \"@Test_KS\\\\Variable.shp\" ))\n",
    "Variable_KS_centroid <-  st_centroid(Variable_KS_shp)\n",
    "colnames(Variable_KS_centroid)\n",
    "\n",
    "ncol(Variable_KS_shp); nrow(Variable_KS_shp)"
   ]
  },
  {
   "cell_type": "markdown",
   "metadata": {},
   "source": [
    "### Create a residual dataframe"
   ]
  },
  {
   "cell_type": "code",
   "execution_count": 98,
   "metadata": {
    "vscode": {
     "languageId": "r"
    }
   },
   "outputs": [],
   "source": [
    "residual  <-  \n",
    "data.frame(VILLCODE = Variable_KS_df$VILLCODE,\n",
    "VILLNAME = Variable_KS_df$VILLNAME,\n",
    "geometry = Variable_KS_centroid$geometry )"
   ]
  },
  {
   "cell_type": "markdown",
   "metadata": {},
   "source": [
    "### select Xy"
   ]
  },
  {
   "cell_type": "code",
   "execution_count": 7,
   "metadata": {
    "vscode": {
     "languageId": "r"
    }
   },
   "outputs": [],
   "source": [
    "col_X = c( \"Market\",\"Cluster\",\"high_rat\",   \"mid_rat\",\"low_rat\",\"Hospital\" ,  \"Clinic\", \"M_F_RAT\" ,\n",
    "           \"P_DEN\",      \"DEPENDENCY\", \"YOUN_DEP\",   \"OLD_DEP\",    \"AGING_IDX\",\"Ele\" ,\"Ele_stu\",\"Junior\" ,   \n",
    "           \"Junior_stu\", \"Senior\",     \"Senior_stu\", \"TaxPayer\" ,  \"Income_tot\", \"Income_mea\",\n",
    "           \"Income_med\" ,\"Income_Q1\",  \"Income_Q3\",  \"Income_sta\", \"Income_CV\",  \"Temple\",    \n",
    "           \"Train.stat\", \"Train.crow\" )\n",
    "col_y = c('Nt')"
   ]
  },
  {
   "cell_type": "code",
   "execution_count": 8,
   "metadata": {
    "vscode": {
     "languageId": "r"
    }
   },
   "outputs": [
    {
     "data": {
      "text/plain": [
       "CRS arguments: +proj=longlat +datum=WGS84 +no_defs "
      ]
     },
     "metadata": {},
     "output_type": "display_data"
    }
   ],
   "source": [
    "crs(Variable_KS_shp)  <-  CRS('+init=EPSG:4326')\n",
    "(crs(Variable_KS_shp))"
   ]
  },
  {
   "cell_type": "markdown",
   "metadata": {},
   "source": [
    "#### Correlation "
   ]
  },
  {
   "cell_type": "code",
   "execution_count": 9,
   "metadata": {
    "vscode": {
     "languageId": "r"
    }
   },
   "outputs": [],
   "source": [
    "corr = cor(Variable_KS_df[c(col_y,col_X)])\n",
    "col_income = c( \"Income_mea\",\"Income_med\" ,\"Income_Q1\", \n",
    "                \"Income_Q3\",  \"Income_sta\", \"Income_CV\")\n",
    "corr_income = sort(corr[col_income,'Nt'])\n",
    "idx = abs(corr[,'Nt'])>.15\n",
    "col_X_02 = names(corr[idx,'Nt']) %>% tail(-1)"
   ]
  },
  {
   "cell_type": "markdown",
   "metadata": {},
   "source": [
    "### GLM_POISSON "
   ]
  },
  {
   "cell_type": "code",
   "execution_count": 14,
   "metadata": {
    "vscode": {
     "languageId": "r"
    }
   },
   "outputs": [
    {
     "name": "stderr",
     "output_type": "stream",
     "text": [
      "Your code contains a unicode char which cannot be displayed in your\n",
      "current locale and R will silently convert it to an escaped form when the\n",
      "R kernel executes this code. This can lead to subtle errors if you use\n",
      "such chars to do comparisons. For more information, please see\n",
      "https://github.com/IRkernel/repr/wiki/Problems-with-unicode-on-windows"
     ]
    },
    {
     "data": {
      "text/plain": [
       "\n",
       "Call:\n",
       "glm(formula = Nt ~ ., family = poisson(), data = Variable_KS_df[, \n",
       "    c(col_y, col_X_02)])\n",
       "\n",
       "Deviance Residuals: \n",
       "    Min       1Q   Median       3Q      Max  \n",
       "-2.9864  -1.2933  -0.3625   1.1794   4.2733  \n",
       "\n",
       "Coefficients:\n",
       "              Estimate Std. Error z value Pr(>|z|)    \n",
       "(Intercept) -3.176e+00  2.285e+00  -1.390   0.1646    \n",
       "Cluster      1.116e-01  1.412e-01   0.790   0.4294    \n",
       "high_rat     5.423e-01  1.626e+00   0.334   0.7387    \n",
       "low_rat     -2.352e+00  1.264e+00  -1.860   0.0629 .  \n",
       "M_F_RAT      6.121e-02  1.118e-02   5.473 4.42e-08 ***\n",
       "P_DEN       -6.263e-05  6.393e-06  -9.797  < 2e-16 ***\n",
       "DEPENDENCY   1.316e+01  8.705e+00   1.512   0.1306    \n",
       "YOUN_DEP    -1.325e+01  8.708e+00  -1.521   0.1282    \n",
       "OLD_DEP     -1.326e+01  8.705e+00  -1.523   0.1278    \n",
       "Ele          7.775e-01  9.583e-02   8.113 4.94e-16 ***\n",
       "Income_mea  -1.561e-02  6.160e-03  -2.534   0.0113 *  \n",
       "Income_med   3.891e-03  3.931e-03   0.990   0.3223    \n",
       "Income_Q1    1.068e-03  3.186e-03   0.335   0.7374    \n",
       "Income_Q3    9.749e-03  2.010e-03   4.849 1.24e-06 ***\n",
       "Income_sta  -8.569e-05  3.256e-03  -0.026   0.9790    \n",
       "Income_CV    4.045e-02  1.953e-02   2.071   0.0384 *  \n",
       "Temple      -1.174e-01  2.636e-02  -4.454 8.41e-06 ***\n",
       "---\n",
       "Signif. codes:  0 '***' 0.001 '**' 0.01 '*' 0.05 '.' 0.1 ' ' 1\n",
       "\n",
       "(Dispersion parameter for poisson family taken to be 1)\n",
       "\n",
       "    Null deviance: 1020.13  on 57  degrees of freedom\n",
       "Residual deviance:  184.34  on 41  degrees of freedom\n",
       "AIC: 433.18\n",
       "\n",
       "Number of Fisher Scoring iterations: 5\n"
      ]
     },
     "metadata": {},
     "output_type": "display_data"
    },
    {
     "name": "stderr",
     "output_type": "stream",
     "text": [
      "`stat_bin()` using `bins = 30`. Pick better value with `binwidth`.\n",
      "\n"
     ]
    },
    {
     "data": {
      "image/png": "[encoded data removed]",
      "text/plain": [
       "plot without title"
      ]
     },
     "metadata": {
      "image/png": {
       "height": 420,
       "width": 420
      }
     },
     "output_type": "display_data"
    }
   ],
   "source": [
    "Fit_Po <-glm(Nt~.,data=Variable_KS_df[,c(col_y,col_X_02)],family=poisson())\n",
    "# Fit_Po <- glm(Nt~., data=Variable_KS_df[,c(col_y,col_X_02)], family = Gamma(link = \"log\"))\n",
    "summary(Fit_Po) #查看回归模型参数\n",
    "pdf_plot(Fit_Po$residuals)+xlab('residuals')"
   ]
  },
  {
   "cell_type": "code",
   "execution_count": 122,
   "metadata": {
    "vscode": {
     "languageId": "r"
    }
   },
   "outputs": [
    {
     "data": {
      "image/png": "[encoded data removed]",
      "text/plain": [
       "plot without title"
      ]
     },
     "metadata": {
      "image/png": {
       "height": 420,
       "width": 420
      }
     },
     "output_type": "display_data"
    }
   ],
   "source": [
    "Variable_KS_centroid %>% \n",
    "  ggplot()+geom_sf(aes(color = residuals(Fit_Po), size = 2, alpha = .8))"
   ]
  }
 ],
 "metadata": {
  "interpreter": {
   "hash": "130cb21ae947994e67709f98b0e7febef99d570d5d2bf1331cc020fa608bd67a"
  },
  "kernelspec": {
   "display_name": "R",
   "language": "R",
   "name": "ir"
  },
  "language_info": {
   "codemirror_mode": "r",
   "file_extension": ".r",
   "mimetype": "text/x-r-source",
   "name": "R",
   "pygments_lexer": "r",
   "version": "4.1.2"
  },
  "orig_nbformat": 4
 },
 "nbformat": 4,
 "nbformat_minor": 2
}
